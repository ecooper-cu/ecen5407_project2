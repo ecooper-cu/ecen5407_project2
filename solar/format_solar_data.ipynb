{
 "cells": [
  {
   "cell_type": "code",
   "execution_count": 1,
   "metadata": {},
   "outputs": [],
   "source": [
    "import numpy as np\n",
    "import pandas as pd\n",
    "\n",
    "import os\n",
    "\n",
    "import pathlib\n",
    "import datetime\n",
    "from pv_model_function import *\n",
    "from scipy.interpolate import CubicSpline\n",
    "import pvlib"
   ]
  },
  {
   "cell_type": "code",
   "execution_count": 2,
   "metadata": {},
   "outputs": [],
   "source": [
    "base_dir = os.path.join(pathlib.Path.home(), 'ecen5407', 'ecen5407_project2')\n",
    "data_pt = os.path.join(base_dir, \"data\", \"222628_32.73_-117.18_2012.csv\")\n",
    "\n",
    "lat, lon = 32.73, -117.18\n",
    "offset = 8"
   ]
  },
  {
   "cell_type": "code",
   "execution_count": 3,
   "metadata": {},
   "outputs": [],
   "source": [
    "nsrdb = pd.read_csv(data_pt, skiprows=2, usecols=['Year', 'Month', 'Day', 'Hour', 'Minute', 'Temperature', 'DHI', 'GHI',\n",
    "       'DNI', 'Surface Albedo', 'Wind Speed', 'Pressure'])\n",
    "local_index = pd.DatetimeIndex(nsrdb['Year'].astype(str) + '-' + nsrdb['Month'].astype(str) +\n",
    "                             '-' + nsrdb['Day'].astype(str) + ' ' + nsrdb['Hour'].astype(str) +\n",
    "                               ':' + nsrdb['Minute'].astype(str))\n",
    "nsrdb.set_index(local_index, inplace=True)"
   ]
  },
  {
   "cell_type": "markdown",
   "metadata": {},
   "source": [
    "File needs to contain exactly one year of data - https://sam.nrel.gov/forum/forum-general/2964-sam-could-not-determine-time-step-in-weather-file.html"
   ]
  },
  {
   "cell_type": "code",
   "execution_count": 4,
   "metadata": {},
   "outputs": [],
   "source": [
    "start_date = str(nsrdb.index[0])\n",
    "end_date = '2012-12-31 23:55:00'\n",
    "\n",
    "times_interp = pd.date_range(start_date, end_date, freq='5min')\n",
    "\n",
    "nsrdb_interpolated = pd.DataFrame(index=times_interp)\n",
    "\n",
    "\n",
    "times_float = times_interp.to_numpy().astype(float)\n",
    "for i in ['Temperature', 'DHI', 'GHI',\n",
    "       'DNI', 'Surface Albedo', 'Wind Speed', 'Pressure']:\n",
    "    cs = CubicSpline(nsrdb.index.to_numpy().astype(float), nsrdb[i].values)\n",
    "    nsrdb_interpolated[i] = cs(times_float)\n",
    "    nsrdb_interpolated[i] = np.maximum(nsrdb_interpolated[i], 0)\n",
    "nsrdb_interpolated['dni_extra'] = pvlib.irradiance.get_extra_radiation(nsrdb_interpolated.index)"
   ]
  },
  {
   "cell_type": "markdown",
   "metadata": {},
   "source": [
    "These are the values that are used to infer time steps"
   ]
  },
  {
   "cell_type": "code",
   "execution_count": 23,
   "metadata": {},
   "outputs": [],
   "source": [
    "nsrdb_interpolated['Year'] = nsrdb_interpolated.index.year\n",
    "nsrdb_interpolated['Month'] = nsrdb_interpolated.index.month\n",
    "nsrdb_interpolated['Day'] = nsrdb_interpolated.index.day\n",
    "nsrdb_interpolated['Hour'] = nsrdb_interpolated.index.hour\n",
    "nsrdb_interpolated['Minute'] = nsrdb_interpolated.index.minute"
   ]
  },
  {
   "cell_type": "code",
   "execution_count": 7,
   "metadata": {},
   "outputs": [
    {
     "data": {
      "text/plain": [
       "105408"
      ]
     },
     "execution_count": 7,
     "metadata": {},
     "output_type": "execute_result"
    }
   ],
   "source": [
    "len(nsrdb_interpolated)"
   ]
  },
  {
   "cell_type": "markdown",
   "metadata": {},
   "source": [
    "Check for any irregular timesteps"
   ]
  },
  {
   "cell_type": "code",
   "execution_count": 20,
   "metadata": {},
   "outputs": [
    {
     "data": {
      "text/plain": [
       "array([3600000000000], dtype='timedelta64[ns]')"
      ]
     },
     "execution_count": 20,
     "metadata": {},
     "output_type": "execute_result"
    }
   ],
   "source": [
    "np.unique((nsrdb_interpolated.index.shift(periods=1, freq='1h') - nsrdb_interpolated.index))"
   ]
  },
  {
   "cell_type": "code",
   "execution_count": 25,
   "metadata": {},
   "outputs": [],
   "source": [
    "save_pt = os.path.join(base_dir, \"data\", \"222628_32.73_-117.18_2012_interpolated.csv\")\n",
    "nsrdb_interpolated.to_csv(save_pt)"
   ]
  },
  {
   "cell_type": "markdown",
   "metadata": {},
   "source": [
    "Used to check output of PySam simulation"
   ]
  },
  {
   "cell_type": "code",
   "execution_count": 5,
   "metadata": {},
   "outputs": [],
   "source": [
    "loc = pvlib.location.Location(lat,lon, altitude=0)\n",
    "fake_index = pd.date_range(datetime.datetime.strptime(start_date, '%Y-%m-%d %H:%M:%S') + pd.Timedelta(hours=-offset),\n",
    "                           datetime.datetime.strptime(end_date, '%Y-%m-%d %H:%M:%S') + pd.Timedelta(hours=offset), freq='5min')\n",
    "solar_position = loc.get_solarposition(times=fake_index)\n",
    "solar_position.set_index(solar_position.index.shift(periods=-offset, freq = '1h'), inplace = True)\n",
    "solar_position = solar_position.loc[times_interp]"
   ]
  },
  {
   "cell_type": "code",
   "execution_count": 6,
   "metadata": {},
   "outputs": [
    {
     "data": {
      "text/html": [
       "<div>\n",
       "<style scoped>\n",
       "    .dataframe tbody tr th:only-of-type {\n",
       "        vertical-align: middle;\n",
       "    }\n",
       "\n",
       "    .dataframe tbody tr th {\n",
       "        vertical-align: top;\n",
       "    }\n",
       "\n",
       "    .dataframe thead th {\n",
       "        text-align: right;\n",
       "    }\n",
       "</style>\n",
       "<table border=\"1\" class=\"dataframe\">\n",
       "  <thead>\n",
       "    <tr style=\"text-align: right;\">\n",
       "      <th></th>\n",
       "      <th>apparent_zenith</th>\n",
       "      <th>zenith</th>\n",
       "      <th>apparent_elevation</th>\n",
       "      <th>elevation</th>\n",
       "      <th>azimuth</th>\n",
       "      <th>equation_of_time</th>\n",
       "    </tr>\n",
       "  </thead>\n",
       "  <tbody>\n",
       "    <tr>\n",
       "      <th>2012-01-01 00:00:00</th>\n",
       "      <td>170.146547</td>\n",
       "      <td>170.146547</td>\n",
       "      <td>-80.146547</td>\n",
       "      <td>-80.146547</td>\n",
       "      <td>10.879837</td>\n",
       "      <td>-3.230326</td>\n",
       "    </tr>\n",
       "    <tr>\n",
       "      <th>2012-01-01 00:05:00</th>\n",
       "      <td>169.889609</td>\n",
       "      <td>169.889609</td>\n",
       "      <td>-79.889609</td>\n",
       "      <td>-79.889609</td>\n",
       "      <td>17.349760</td>\n",
       "      <td>-3.231973</td>\n",
       "    </tr>\n",
       "    <tr>\n",
       "      <th>2012-01-01 00:10:00</th>\n",
       "      <td>169.522520</td>\n",
       "      <td>169.522520</td>\n",
       "      <td>-79.522520</td>\n",
       "      <td>-79.522520</td>\n",
       "      <td>23.451605</td>\n",
       "      <td>-3.233620</td>\n",
       "    </tr>\n",
       "    <tr>\n",
       "      <th>2012-01-01 00:15:00</th>\n",
       "      <td>169.056396</td>\n",
       "      <td>169.056396</td>\n",
       "      <td>-79.056396</td>\n",
       "      <td>-79.056396</td>\n",
       "      <td>29.111275</td>\n",
       "      <td>-3.235267</td>\n",
       "    </tr>\n",
       "    <tr>\n",
       "      <th>2012-01-01 00:20:00</th>\n",
       "      <td>168.503319</td>\n",
       "      <td>168.503319</td>\n",
       "      <td>-78.503319</td>\n",
       "      <td>-78.503319</td>\n",
       "      <td>34.295685</td>\n",
       "      <td>-3.236914</td>\n",
       "    </tr>\n",
       "    <tr>\n",
       "      <th>...</th>\n",
       "      <td>...</td>\n",
       "      <td>...</td>\n",
       "      <td>...</td>\n",
       "      <td>...</td>\n",
       "      <td>...</td>\n",
       "      <td>...</td>\n",
       "    </tr>\n",
       "    <tr>\n",
       "      <th>2012-12-31 23:35:00</th>\n",
       "      <td>169.526865</td>\n",
       "      <td>169.526865</td>\n",
       "      <td>-79.526865</td>\n",
       "      <td>-79.526865</td>\n",
       "      <td>337.542678</td>\n",
       "      <td>-3.578811</td>\n",
       "    </tr>\n",
       "    <tr>\n",
       "      <th>2012-12-31 23:40:00</th>\n",
       "      <td>169.875962</td>\n",
       "      <td>169.875962</td>\n",
       "      <td>-79.875962</td>\n",
       "      <td>-79.875962</td>\n",
       "      <td>343.677797</td>\n",
       "      <td>-3.580440</td>\n",
       "    </tr>\n",
       "    <tr>\n",
       "      <th>2012-12-31 23:45:00</th>\n",
       "      <td>170.113891</td>\n",
       "      <td>170.113891</td>\n",
       "      <td>-80.113891</td>\n",
       "      <td>-80.113891</td>\n",
       "      <td>350.160055</td>\n",
       "      <td>-3.582070</td>\n",
       "    </tr>\n",
       "    <tr>\n",
       "      <th>2012-12-31 23:50:00</th>\n",
       "      <td>170.232499</td>\n",
       "      <td>170.232499</td>\n",
       "      <td>-80.232499</td>\n",
       "      <td>-80.232499</td>\n",
       "      <td>356.868522</td>\n",
       "      <td>-3.583699</td>\n",
       "    </tr>\n",
       "    <tr>\n",
       "      <th>2012-12-31 23:55:00</th>\n",
       "      <td>170.227427</td>\n",
       "      <td>170.227427</td>\n",
       "      <td>-80.227427</td>\n",
       "      <td>-80.227427</td>\n",
       "      <td>3.651645</td>\n",
       "      <td>-3.585329</td>\n",
       "    </tr>\n",
       "  </tbody>\n",
       "</table>\n",
       "<p>105408 rows × 6 columns</p>\n",
       "</div>"
      ],
      "text/plain": [
       "                     apparent_zenith      zenith  apparent_elevation  \\\n",
       "2012-01-01 00:00:00       170.146547  170.146547          -80.146547   \n",
       "2012-01-01 00:05:00       169.889609  169.889609          -79.889609   \n",
       "2012-01-01 00:10:00       169.522520  169.522520          -79.522520   \n",
       "2012-01-01 00:15:00       169.056396  169.056396          -79.056396   \n",
       "2012-01-01 00:20:00       168.503319  168.503319          -78.503319   \n",
       "...                              ...         ...                 ...   \n",
       "2012-12-31 23:35:00       169.526865  169.526865          -79.526865   \n",
       "2012-12-31 23:40:00       169.875962  169.875962          -79.875962   \n",
       "2012-12-31 23:45:00       170.113891  170.113891          -80.113891   \n",
       "2012-12-31 23:50:00       170.232499  170.232499          -80.232499   \n",
       "2012-12-31 23:55:00       170.227427  170.227427          -80.227427   \n",
       "\n",
       "                     elevation     azimuth  equation_of_time  \n",
       "2012-01-01 00:00:00 -80.146547   10.879837         -3.230326  \n",
       "2012-01-01 00:05:00 -79.889609   17.349760         -3.231973  \n",
       "2012-01-01 00:10:00 -79.522520   23.451605         -3.233620  \n",
       "2012-01-01 00:15:00 -79.056396   29.111275         -3.235267  \n",
       "2012-01-01 00:20:00 -78.503319   34.295685         -3.236914  \n",
       "...                        ...         ...               ...  \n",
       "2012-12-31 23:35:00 -79.526865  337.542678         -3.578811  \n",
       "2012-12-31 23:40:00 -79.875962  343.677797         -3.580440  \n",
       "2012-12-31 23:45:00 -80.113891  350.160055         -3.582070  \n",
       "2012-12-31 23:50:00 -80.232499  356.868522         -3.583699  \n",
       "2012-12-31 23:55:00 -80.227427    3.651645         -3.585329  \n",
       "\n",
       "[105408 rows x 6 columns]"
      ]
     },
     "execution_count": 6,
     "metadata": {},
     "output_type": "execute_result"
    }
   ],
   "source": [
    "solar_position"
   ]
  },
  {
   "cell_type": "code",
   "execution_count": 6,
   "metadata": {},
   "outputs": [],
   "source": [
    "# nsrdb_utc = nsrdb_interpolated.set_index(\n",
    "#     nsrdb_interpolated.index.shift(periods=offset, freq = '1h'))\n",
    "\n",
    "# nsrdb_utc['Year'] = nsrdb_utc.index.year\n",
    "# nsrdb_utc['Month'] = nsrdb_utc.index.month\n",
    "# nsrdb_utc['Day'] = nsrdb_utc.index.day\n",
    "# nsrdb_utc['Hour'] = nsrdb_utc.index.hour\n",
    "# nsrdb_utc['Minute'] = nsrdb_utc.index.minute\n",
    "\n",
    "# nsrdb_utc.set_index(pd.RangeIndex(start=1, stop=len(nsrdb_utc) + 1), inplace=True)\n",
    "# save_pt = os.path.join(base_dir, \"data\", \"222628_32.73_-117.18_2012_interpolated.csv\")\n",
    "# nsrdb_utc.to_csv(save_pt)"
   ]
  }
 ],
 "metadata": {
  "kernelspec": {
   "display_name": "ecen5417",
   "language": "python",
   "name": "ecen5417"
  },
  "language_info": {
   "codemirror_mode": {
    "name": "ipython",
    "version": 3
   },
   "file_extension": ".py",
   "mimetype": "text/x-python",
   "name": "python",
   "nbconvert_exporter": "python",
   "pygments_lexer": "ipython3",
   "version": "3.10.12"
  }
 },
 "nbformat": 4,
 "nbformat_minor": 2
}
