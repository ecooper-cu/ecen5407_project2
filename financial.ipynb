{
 "cells": [
  {
   "cell_type": "code",
   "execution_count": 1,
   "metadata": {},
   "outputs": [],
   "source": [
    "import numpy as np\n",
    "import pandas as pd\n",
    "\n",
    "import os\n",
    "from scipy.integrate import trapezoid\n",
    "import pathlib"
   ]
  },
  {
   "cell_type": "code",
   "execution_count": 2,
   "metadata": {},
   "outputs": [],
   "source": [
    "base_dir = os.path.join(pathlib.Path.home(), 'ecen5407', 'ecen5407_project2')\n",
    "pysam_pt = os.path.join(base_dir, \"data\", \"PySam_Outputs\", \"baseline_system_output.csv\")\n",
    "pysam = pd.read_csv(pysam_pt)"
   ]
  },
  {
   "cell_type": "code",
   "execution_count": 3,
   "metadata": {},
   "outputs": [],
   "source": [
    "load = pd.Series(pysam['Load (MW)'])"
   ]
  },
  {
   "cell_type": "code",
   "execution_count": 4,
   "metadata": {},
   "outputs": [],
   "source": [
    "transmission_cost_per_mile = 6000000"
   ]
  },
  {
   "cell_type": "code",
   "execution_count": 5,
   "metadata": {},
   "outputs": [],
   "source": [
    "wind_ac_rating = 61 # MWac\n",
    "wind_op_costs = 30.85*wind_ac_rating*1000\n",
    "wind_capex = 1536.87*wind_ac_rating*1000\n",
    "\n",
    "geothermal_ac_rating = 87 # MW, only 77 MW will actually be available to grid\n",
    "geothermal_cost_per_kwac = 6153.66\n",
    "geothermal_capex = 26.6*transmission_cost_per_mile + geothermal_cost_per_kwac*geothermal_ac_rating*1000 # extra term reflects size-independent transmission costs\n",
    "geothermal_op_costs = 118.41*geothermal_ac_rating*1000"
   ]
  },
  {
   "cell_type": "code",
   "execution_count": 6,
   "metadata": {},
   "outputs": [
    {
     "name": "stdout",
     "output_type": "stream",
     "text": [
      "PV+Battery system CAPEX is $415499053\n"
     ]
    }
   ],
   "source": [
    "# Scaling factors\n",
    "pv_dc_power_rating = 230 # MWdc\n",
    "battery_dc_power_rating = 30 # MW\n",
    "battery_dc_capacity = 90 #Mwhdc\n",
    "ilr = 1.33\n",
    "\n",
    "inverter_dc_rating = 2579 # kWdc\n",
    "inverter_efficiency = 0.97\n",
    "inverter_ac_rating = inverter_dc_rating*inverter_efficiency # kWac\n",
    "num_inv = round(pv_dc_power_rating*1000/(ilr*inverter_ac_rating))\n",
    "\n",
    "area = pv_dc_power_rating*1000/0.206 # m2\n",
    "\n",
    "# Component costs\n",
    "inverter_cost = num_inv*inverter_ac_rating*38.72\n",
    "module_cost = 295.68*pv_dc_power_rating*1000\n",
    "battery_cost = 228*battery_dc_capacity\n",
    "\n",
    "bos_cost_per_m2 = 27.07\n",
    "bos_cost_per_kwdc = 156.16\n",
    "bos_cost = bos_cost_per_m2*area + bos_cost_per_kwdc*pv_dc_power_rating*1000 # includes battery costs\n",
    "installation_costs = 92.11*area # includes battery installation\n",
    "overhead = 66.63*pv_dc_power_rating*1000 # Management + Contingency\n",
    "permitting = 200000\n",
    "engineering = 50000 + 3*area\n",
    "interconnection = 85000 + 35*pv_dc_power_rating/ilr\n",
    "land_purchase = 2.5*area\n",
    "transmission = 25*transmission_cost_per_mile\n",
    "\n",
    "# Total costs\n",
    "hybrid_capex = module_cost + inverter_cost + battery_cost + bos_cost + installation_costs + overhead + permitting + engineering + interconnection + transmission + land_purchase\n",
    "hybrid_op_costs = 48*pv_dc_power_rating*1000 + 180000\n",
    "\n",
    "print(f\"PV+Battery system CAPEX is ${round(hybrid_capex)}\")"
   ]
  },
  {
   "cell_type": "code",
   "execution_count": 7,
   "metadata": {},
   "outputs": [
    {
     "name": "stdout",
     "output_type": "stream",
     "text": [
      "Annual operating costs in 2026 are $23403520\n"
     ]
    }
   ],
   "source": [
    "annual_op_costs =  wind_op_costs + geothermal_op_costs + hybrid_op_costs\n",
    "print(f\"Annual operating costs in 2026 are ${round(annual_op_costs)}\")"
   ]
  },
  {
   "cell_type": "code",
   "execution_count": 8,
   "metadata": {},
   "outputs": [
    {
     "name": "stdout",
     "output_type": "stream",
     "text": [
      "Total operating costs over plant lifetime are $604489195\n",
      "Average annual operating costs are $24179568\n"
     ]
    }
   ],
   "source": [
    "inflation_rate = 1.0025\n",
    "annual_op_costs_by_year = [annual_op_costs*inflation_rate**i for i in range(1, 26)]\n",
    "total_op_costs = sum(annual_op_costs_by_year)\n",
    "avg_annual_op_costs = total_op_costs/25\n",
    "print(f\"Total operating costs over plant lifetime are ${round(total_op_costs)}\")\n",
    "print(f\"Average annual operating costs are ${round(avg_annual_op_costs)}\")"
   ]
  },
  {
   "cell_type": "code",
   "execution_count": 14,
   "metadata": {},
   "outputs": [
    {
     "name": "stdout",
     "output_type": "stream",
     "text": [
      "Total CAPEX with interest and inflation are $1314132057\n",
      "Average annual CAPEX payments are $52565282\n"
     ]
    }
   ],
   "source": [
    "upfront_cost = geothermal_capex + wind_capex + hybrid_capex\n",
    "real_interest_rate = 1 + (0.006 - 0.0025)\n",
    "real_upfront_cost = upfront_cost*real_interest_rate**25 \n",
    "avg_annual_upfront_payment = real_upfront_cost/25\n",
    "print(f\"Total CAPEX with interest and inflation are ${round(real_upfront_cost)}\")\n",
    "print(f\"Average annual CAPEX payments are ${round(avg_annual_upfront_payment)}\")"
   ]
  },
  {
   "cell_type": "code",
   "execution_count": 15,
   "metadata": {},
   "outputs": [
    {
     "name": "stdout",
     "output_type": "stream",
     "text": [
      "Annual revenue required to meet CAPEX and operating costs is $76744850\n"
     ]
    }
   ],
   "source": [
    "avg_annual_total_payment = avg_annual_upfront_payment + avg_annual_op_costs\n",
    "print(f\"Annual revenue required to meet CAPEX and operating costs is ${round(avg_annual_total_payment)}\")"
   ]
  },
  {
   "cell_type": "code",
   "execution_count": 16,
   "metadata": {},
   "outputs": [
    {
     "name": "stdout",
     "output_type": "stream",
     "text": [
      "Total annual load is 24463208 MWh\n",
      "Average energy rate is $0.0031/kWh\n"
     ]
    }
   ],
   "source": [
    "x = [i for i in range(0, 525600, 5)]\n",
    "annual_load = trapezoid(load.values, x) # Mwh\n",
    "avg_energy_rate = avg_annual_total_payment/(1000*annual_load)\n",
    "print(f\"Total annual load is {round(annual_load)} MWh\")\n",
    "print(f\"Average energy rate is ${round(avg_energy_rate, 4)}/kWh\")"
   ]
  },
  {
   "cell_type": "code",
   "execution_count": null,
   "metadata": {},
   "outputs": [],
   "source": []
  }
 ],
 "metadata": {
  "kernelspec": {
   "display_name": "ecen5407",
   "language": "python",
   "name": "python3"
  },
  "language_info": {
   "codemirror_mode": {
    "name": "ipython",
    "version": 3
   },
   "file_extension": ".py",
   "mimetype": "text/x-python",
   "name": "python",
   "nbconvert_exporter": "python",
   "pygments_lexer": "ipython3",
   "version": "3.10.12"
  }
 },
 "nbformat": 4,
 "nbformat_minor": 2
}
