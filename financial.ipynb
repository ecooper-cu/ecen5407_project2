{
 "cells": [
  {
   "cell_type": "code",
   "execution_count": 16,
   "metadata": {},
   "outputs": [],
   "source": [
    "import numpy as np\n",
    "import pandas as pd\n",
    "\n",
    "import os\n",
    "from scipy.integrate import trapezoid\n",
    "import pathlib"
   ]
  },
  {
   "cell_type": "code",
   "execution_count": null,
   "metadata": {},
   "outputs": [],
   "source": [
    "base_dir = os.path.join(pathlib.Path.home(), 'ecen5407', 'ecen5407_project2')\n",
    "\n",
    "data_pt = os.path.join(base_dir, \"data\", \"test_cases\", \"Trial_Full_System_90kW_3hr_Battery_with_Geothermal_Ramp_Limits\",\"Trial_Full_System_90kW_3hr_Battery_with_Geothermal_Ramp_Limits_system_info.csv\")\n",
    "system_info = pd.read_csv(data_pt)\n",
    "\n",
    "load_pt = os.path.join(base_dir, \"data\", \"PySam_Outputs\", \"baseline_system_output.csv\")\n",
    "load = pd.read_csv(load_pt, index_col=\"Datetime\", usecols=[\"Datetime\", \"Load (MW)\"])\n",
    "load.set_index(pd.DatetimeIndex(load.index), inplace=True)"
   ]
  },
  {
   "cell_type": "code",
   "execution_count": null,
   "metadata": {},
   "outputs": [],
   "source": [
    "x = np.arange(0, 8760, 5/60)\n",
    "y = np.ravel(load.values)\n",
    "annual_load = trapezoid(y, x) # MWh\n",
    "annual_load_kwh = annual_load*1000"
   ]
  },
  {
   "cell_type": "code",
   "execution_count": 49,
   "metadata": {},
   "outputs": [
    {
     "data": {
      "text/plain": [
       "np.float64(407720.13880330476)"
      ]
     },
     "execution_count": 49,
     "metadata": {},
     "output_type": "execute_result"
    }
   ],
   "source": [
    "annual_load"
   ]
  },
  {
   "cell_type": "code",
   "execution_count": 99,
   "metadata": {},
   "outputs": [
    {
     "data": {
      "text/plain": [
       "0.7804111879699247"
      ]
     },
     "execution_count": 99,
     "metadata": {},
     "output_type": "execute_result"
    }
   ],
   "source": [
    "ilr = 1.33\n",
    "m2_per_wdc = 0.2*0.001\n",
    "0.29 + 0.04/ilr + 0.16 + 0.18 + m2_per_wdc*(27.07 + 92.11) + 0.044 + 0.02 + 0.03 + m2_per_wdc*2.5 + 0.002"
   ]
  },
  {
   "cell_type": "code",
   "execution_count": 100,
   "metadata": {},
   "outputs": [],
   "source": [
    "transmission_cost_per_mile = 6000000\n",
    "\n",
    "geothermal_rating = 87000\n",
    "geo_binary= 1\n",
    "\n",
    "wind_capex = system_info['Wind Cost']\n",
    "wind_op_costs = 30.85*system_info[\"Wind System Size\"]\n",
    "# wind_op_costs = system_info[\"Wind Operating Cost\"]\n",
    "wind_costs = {'Operating Costs': wind_op_costs, 'Capex': wind_capex}\n",
    "\n",
    "geothermal_cost_per_kwac = 6153.66\n",
    "geothermal_capex = 26.6*transmission_cost_per_mile*geo_binary + geothermal_cost_per_kwac*87*1000\n",
    "geothermal_op_costs = 118.41*geothermal_rating*geo_binary\n",
    "geo_costs = {'Operating Costs': geothermal_op_costs, 'Capex': geothermal_capex}\n",
    "\n",
    "pv_capex = system_info[\"PV Cost\"]\n",
    "# pv_op_costs = system_info[\"PV Operating Cost\"]\n",
    "pv_op_costs = 48*system_info[\"PV System Size\"] + 180000\n",
    "battery_capex = system_info[\"Battery Cost\"]\n",
    "\n",
    "hybrid_capex = 676000000\n",
    "# pv_capex + battery_capex\n",
    "hybrid_op_costs = pv_op_costs\n",
    "hybrid_costs = {'Operating Costs': hybrid_op_costs, 'Capex': hybrid_capex}\n",
    "\n",
    "system_costs = {}\n",
    "annual_op_costs =  wind_op_costs + geothermal_op_costs + hybrid_op_costs\n",
    "system_costs['Annual Operating Costs'] = annual_op_costs\n",
    "\n",
    "inflation_rate = 1.0025\n",
    "annual_op_costs_by_year = [annual_op_costs*inflation_rate**i for i in range(1, 26)]\n",
    "total_op_costs = sum(annual_op_costs_by_year)\n",
    "avg_annual_op_costs = total_op_costs/25\n",
    "system_costs['Average Annual Operating Costs'] = avg_annual_op_costs\n",
    "\n",
    "upfront_cost = geothermal_capex + 783308096\n",
    "real_interest_rate = 1 + (0.00614 - 0.0025)\n",
    "real_upfront_cost = upfront_cost*real_interest_rate**25 \n",
    "avg_annual_upfront_payment = real_upfront_cost/25\n",
    "system_costs['System Capex'] = real_upfront_cost\n",
    "system_costs['Average Annual Capex Payments'] = avg_annual_upfront_payment\n",
    "\n",
    "avg_annual_total_payment = avg_annual_upfront_payment + avg_annual_op_costs\n",
    "system_costs['Required Annual Average Revenue'] = avg_annual_total_payment\n",
    "\n",
    "avg_energy_rate = avg_annual_total_payment/annual_load_kwh\n",
    "system_costs['Energy Rate (kWh)'] = avg_energy_rate\n"
   ]
  },
  {
   "cell_type": "code",
   "execution_count": 101,
   "metadata": {},
   "outputs": [
    {
     "data": {
      "text/plain": [
       "{'Annual Operating Costs': 0    2.340343e+07\n",
       " dtype: float64,\n",
       " 'Average Annual Operating Costs': 0    2.417947e+07\n",
       " dtype: float64,\n",
       " 'System Capex': 1618842963.157701,\n",
       " 'Average Annual Capex Payments': 64753718.52630804,\n",
       " 'Required Annual Average Revenue': 0    8.893319e+07\n",
       " dtype: float64,\n",
       " 'Energy Rate (kWh)': 0    0.218123\n",
       " dtype: float64}"
      ]
     },
     "execution_count": 101,
     "metadata": {},
     "output_type": "execute_result"
    }
   ],
   "source": [
    "system_costs"
   ]
  },
  {
   "cell_type": "code",
   "execution_count": 105,
   "metadata": {},
   "outputs": [
    {
     "data": {
      "text/plain": [
       "0    1.159196e+07\n",
       "Name: PV System Size, dtype: float64"
      ]
     },
     "execution_count": 105,
     "metadata": {},
     "output_type": "execute_result"
    }
   ],
   "source": [
    "sum([hybrid_op_costs*inflation_rate**i for i in range(1, 26)])/25"
   ]
  }
 ],
 "metadata": {
  "kernelspec": {
   "display_name": "ecen5407",
   "language": "python",
   "name": "python3"
  },
  "language_info": {
   "codemirror_mode": {
    "name": "ipython",
    "version": 3
   },
   "file_extension": ".py",
   "mimetype": "text/x-python",
   "name": "python",
   "nbconvert_exporter": "python",
   "pygments_lexer": "ipython3",
   "version": "3.10.12"
  }
 },
 "nbformat": 4,
 "nbformat_minor": 2
}
