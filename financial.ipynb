{
 "cells": [
  {
   "cell_type": "code",
   "execution_count": 1,
   "metadata": {},
   "outputs": [],
   "source": [
    "import numpy as np\n",
    "import pandas as pd\n",
    "\n",
    "import os\n",
    "from scipy.integrate import trapezoid\n",
    "import pathlib"
   ]
  },
  {
   "cell_type": "code",
   "execution_count": 2,
   "metadata": {},
   "outputs": [],
   "source": [
    "base_dir = os.path.join(pathlib.Path.home(), 'ecen5407', 'ecen5407_project2')\n",
    "\n",
    "best_data_pt = os.path.join(base_dir, \"data\", \"test_cases\", \"Trial_Full_System_90kW_4hr_Battery_with_Geothermal_Ramp_Limits\",\"Trial_Full_System_90kW_4hr_Battery_with_Geothermal_Ramp_Limits_system_info.csv\")\n",
    "best_system_info = pd.read_csv(best_data_pt)\n",
    "\n",
    "baseline_data_pt = os.path.join(base_dir, \"data\", \"test_cases\", \"Baseline_System_No_Geothermal\",\"Baseline_System_No_Geothermal_system_info.csv\")\n",
    "baseline_system_info = pd.read_csv(baseline_data_pt)\n",
    "\n",
    "load_pt = os.path.join(base_dir, \"data\", \"PySam_Outputs\", \"baseline_system_output.csv\")\n",
    "load = pd.read_csv(load_pt, index_col=\"Datetime\", usecols=[\"Datetime\", \"Load (MW)\"])\n",
    "load.set_index(pd.DatetimeIndex(load.index), inplace=True)"
   ]
  },
  {
   "cell_type": "code",
   "execution_count": 3,
   "metadata": {},
   "outputs": [],
   "source": [
    "x = np.arange(0, 8760, 5/60)\n",
    "y = np.ravel(load.values)\n",
    "annual_load = trapezoid(y, x) # MWh\n",
    "annual_load_kwh = annual_load*1000"
   ]
  },
  {
   "cell_type": "code",
   "execution_count": 4,
   "metadata": {},
   "outputs": [
    {
     "data": {
      "text/plain": [
       "np.float64(407720.13880330476)"
      ]
     },
     "execution_count": 4,
     "metadata": {},
     "output_type": "execute_result"
    }
   ],
   "source": [
    "annual_load"
   ]
  },
  {
   "cell_type": "code",
   "execution_count": 108,
   "metadata": {},
   "outputs": [
    {
     "data": {
      "text/plain": [
       "0.7804111879699247"
      ]
     },
     "execution_count": 108,
     "metadata": {},
     "output_type": "execute_result"
    }
   ],
   "source": [
    "ilr = 1.33\n",
    "m2_per_wdc = 0.2*0.001\n",
    "0.29 + 0.04/ilr + 0.16 + 0.18 + m2_per_wdc*(27.07 + 92.11) + 0.044 + 0.02 + 0.03 + m2_per_wdc*2.5 + 0.002"
   ]
  },
  {
   "cell_type": "markdown",
   "metadata": {},
   "source": [
    "best system"
   ]
  },
  {
   "cell_type": "code",
   "execution_count": 21,
   "metadata": {},
   "outputs": [],
   "source": [
    "transmission_cost_per_mile = 6000000\n",
    "\n",
    "geothermal_rating = 87000\n",
    "geo_binary= 1\n",
    "\n",
    "geothermal_capex = 775245440\n",
    "pv_battery_capex = 603005376\n",
    "wind_capex = 93674384\n",
    "hybrid_capex = pv_battery_capex + wind_capex\n",
    "\n",
    "geothermal_op_costs = 118.41*geothermal_rating*geo_binary\n",
    "wind_op_costs = 30.85*best_system_info[\"Wind System Size\"]\n",
    "pv_op_costs = 48*best_system_info[\"PV System Size\"] + 180000\n",
    "hybrid_op_costs = pv_op_costs + wind_op_costs\n",
    "\n",
    "geo_costs = {'Operating Costs': geothermal_op_costs, 'Capex': geothermal_capex}\n",
    "hybrid_costs = {'Operating Costs': hybrid_op_costs, 'Capex': hybrid_capex}\n",
    "\n",
    "system_costs = {}\n",
    "annual_op_costs =  geothermal_op_costs + hybrid_op_costs\n",
    "system_costs['Annual Operating Costs'] = annual_op_costs\n",
    "\n",
    "inflation_rate = 1.0025\n",
    "annual_op_costs_by_year = [annual_op_costs*inflation_rate**i for i in range(1, 26)]\n",
    "total_op_costs = sum(annual_op_costs_by_year)\n",
    "avg_annual_op_costs = total_op_costs/25\n",
    "system_costs['Average Annual Operating Costs'] = avg_annual_op_costs\n",
    "\n",
    "upfront_cost = geothermal_capex + hybrid_capex\n",
    "system_costs['System Capex'] = upfront_cost\n",
    "avg_annual_upfront_payment = upfront_cost/25\n",
    "system_costs['Average Annual Capex Payments'] = avg_annual_upfront_payment\n",
    "\n",
    "avg_annual_total_payment = avg_annual_upfront_payment + avg_annual_op_costs\n",
    "system_costs['Required Annual Average Revenue'] = avg_annual_total_payment\n",
    "\n",
    "avg_energy_rate = avg_annual_total_payment/annual_load_kwh\n",
    "system_costs['Energy Rate (kWh)'] = avg_energy_rate\n"
   ]
  },
  {
   "cell_type": "code",
   "execution_count": 22,
   "metadata": {},
   "outputs": [
    {
     "data": {
      "text/plain": [
       "{'Annual Operating Costs': 0    2.340343e+07\n",
       " dtype: float64,\n",
       " 'Average Annual Operating Costs': 0    2.417947e+07\n",
       " dtype: float64,\n",
       " 'System Capex': 1471925200,\n",
       " 'Average Annual Capex Payments': 58877008.0,\n",
       " 'Required Annual Average Revenue': 0    8.305648e+07\n",
       " dtype: float64,\n",
       " 'Energy Rate (kWh)': 0    0.20371\n",
       " dtype: float64}"
      ]
     },
     "execution_count": 22,
     "metadata": {},
     "output_type": "execute_result"
    }
   ],
   "source": [
    "system_costs"
   ]
  },
  {
   "cell_type": "code",
   "execution_count": 18,
   "metadata": {},
   "outputs": [
    {
     "data": {
      "text/html": [
       "<div>\n",
       "<style scoped>\n",
       "    .dataframe tbody tr th:only-of-type {\n",
       "        vertical-align: middle;\n",
       "    }\n",
       "\n",
       "    .dataframe tbody tr th {\n",
       "        vertical-align: top;\n",
       "    }\n",
       "\n",
       "    .dataframe thead th {\n",
       "        text-align: right;\n",
       "    }\n",
       "</style>\n",
       "<table border=\"1\" class=\"dataframe\">\n",
       "  <thead>\n",
       "    <tr style=\"text-align: right;\">\n",
       "      <th></th>\n",
       "      <th>Unnamed: 0</th>\n",
       "      <th>PV System Size</th>\n",
       "      <th>PV AC Capacity</th>\n",
       "      <th>PV AC:DC Ratio</th>\n",
       "      <th>PV System Span</th>\n",
       "      <th>PV Cost</th>\n",
       "      <th>Wind System Size</th>\n",
       "      <th>Wind System Span</th>\n",
       "      <th>Wind Cost</th>\n",
       "      <th>Battery Nominal Power</th>\n",
       "      <th>Battery Capacity</th>\n",
       "      <th>Battery Discharge (Hours)</th>\n",
       "      <th>Battery Connection</th>\n",
       "      <th>Battery Charge Efficiency</th>\n",
       "      <th>Battery Discharge Efficiency</th>\n",
       "      <th>Battery Cost</th>\n",
       "      <th>System Cost</th>\n",
       "    </tr>\n",
       "  </thead>\n",
       "  <tbody>\n",
       "    <tr>\n",
       "      <th>0</th>\n",
       "      <td>0</td>\n",
       "      <td>229998.124377</td>\n",
       "      <td>172996.386</td>\n",
       "      <td>1.329497</td>\n",
       "      <td>4031685.21</td>\n",
       "      <td>2.677052e+08</td>\n",
       "      <td>61000.0</td>\n",
       "      <td>9140096.0</td>\n",
       "      <td>89069760.0</td>\n",
       "      <td>89999.9424</td>\n",
       "      <td>359999.7696</td>\n",
       "      <td>4.0</td>\n",
       "      <td>AC</td>\n",
       "      <td>96.0</td>\n",
       "      <td>96.0</td>\n",
       "      <td>1.375199e+08</td>\n",
       "      <td>4.942948e+08</td>\n",
       "    </tr>\n",
       "  </tbody>\n",
       "</table>\n",
       "</div>"
      ],
      "text/plain": [
       "   Unnamed: 0  PV System Size  PV AC Capacity  PV AC:DC Ratio  PV System Span  \\\n",
       "0           0   229998.124377      172996.386        1.329497      4031685.21   \n",
       "\n",
       "        PV Cost  Wind System Size  Wind System Span   Wind Cost  \\\n",
       "0  2.677052e+08           61000.0         9140096.0  89069760.0   \n",
       "\n",
       "   Battery Nominal Power  Battery Capacity  Battery Discharge (Hours)  \\\n",
       "0             89999.9424       359999.7696                        4.0   \n",
       "\n",
       "  Battery Connection  Battery Charge Efficiency  Battery Discharge Efficiency  \\\n",
       "0                 AC                       96.0                          96.0   \n",
       "\n",
       "   Battery Cost   System Cost  \n",
       "0  1.375199e+08  4.942948e+08  "
      ]
     },
     "execution_count": 18,
     "metadata": {},
     "output_type": "execute_result"
    }
   ],
   "source": [
    "best_system_info"
   ]
  },
  {
   "cell_type": "markdown",
   "metadata": {},
   "source": [
    "Remove wind case"
   ]
  },
  {
   "cell_type": "code",
   "execution_count": null,
   "metadata": {},
   "outputs": [],
   "source": [
    "transmission_cost_per_mile = 6000000\n",
    "\n",
    "pv_rating = 320000\n",
    "geothermal_rating = 87000\n",
    "geo_binary= 1\n",
    "\n",
    "wind_capex = 0\n",
    "wind_op_costs = 0\n",
    "wind_costs = {'Operating Costs': wind_op_costs, 'Capex': wind_capex}\n",
    "\n",
    "geothermal_capex = 775245440\n",
    "geothermal_op_costs = 118.41*geothermal_rating*geo_binary\n",
    "geo_costs = {'Operating Costs': geothermal_op_costs, 'Capex': geothermal_capex}\n",
    "\n",
    "pv_capex = 771027840\n",
    "pv_op_costs = 48*pv_rating + 180000\n",
    "\n",
    "hybrid_capex = pv_capex\n",
    "hybrid_op_costs = pv_op_costs\n",
    "hybrid_costs = {'Operating Costs': hybrid_op_costs, 'Capex': hybrid_capex}\n",
    "\n",
    "system_costs = {}\n",
    "annual_op_costs =  wind_op_costs + geothermal_op_costs + hybrid_op_costs\n",
    "system_costs['Annual Operating Costs'] = annual_op_costs\n",
    "\n",
    "inflation_rate = 1.0025\n",
    "annual_op_costs_by_year = [annual_op_costs*inflation_rate**i for i in range(1, 26)]\n",
    "total_op_costs = sum(annual_op_costs_by_year)\n",
    "avg_annual_op_costs = total_op_costs/25\n",
    "system_costs['Average Annual Operating Costs'] = avg_annual_op_costs\n",
    "\n",
    "real_upfront_cost = geothermal_capex + hybrid_capex\n",
    "avg_annual_upfront_payment = real_upfront_cost/25\n",
    "system_costs['System Capex'] = real_upfront_cost\n",
    "system_costs['Average Annual Capex Payments'] = avg_annual_upfront_payment\n",
    "\n",
    "avg_annual_total_payment = avg_annual_upfront_payment + avg_annual_op_costs\n",
    "system_costs['Required Annual Average Revenue'] = avg_annual_total_payment\n",
    "\n",
    "avg_energy_rate = avg_annual_total_payment/annual_load_kwh\n",
    "system_costs['Energy Rate (kWh)'] = avg_energy_rate"
   ]
  },
  {
   "cell_type": "code",
   "execution_count": 17,
   "metadata": {},
   "outputs": [
    {
     "data": {
      "text/plain": [
       "{'Annual Operating Costs': 25841670.0,\n",
       " 'Average Annual Operating Costs': 26698565.498050522,\n",
       " 'System Capex': 1546273280,\n",
       " 'Average Annual Capex Payments': 61850931.2,\n",
       " 'Required Annual Average Revenue': 88549496.69805053,\n",
       " 'Energy Rate (kWh)': np.float64(0.21718205276283695)}"
      ]
     },
     "execution_count": 17,
     "metadata": {},
     "output_type": "execute_result"
    }
   ],
   "source": [
    "system_costs"
   ]
  },
  {
   "cell_type": "markdown",
   "metadata": {},
   "source": [
    "baseline"
   ]
  },
  {
   "cell_type": "code",
   "execution_count": 12,
   "metadata": {},
   "outputs": [],
   "source": [
    "transmission_cost_per_mile = 6000000\n",
    "\n",
    "pv_rating = 320000\n",
    "geothermal_rating = 87000\n",
    "geo_binary = 0\n",
    "\n",
    "wind_op_costs = 30.85*baseline_system_info[\"Wind System Size\"]\n",
    "wind_costs = {'Operating Costs': wind_op_costs, 'Capex': wind_capex}\n",
    "\n",
    "geothermal_cost_per_kwac = 6153.66\n",
    "geothermal_capex = 26.6*transmission_cost_per_mile*geo_binary + geothermal_cost_per_kwac*87*1000\n",
    "geothermal_op_costs = 118.41*geothermal_rating*geo_binary\n",
    "geo_costs = {'Operating Costs': geothermal_op_costs, 'Capex': geothermal_capex}\n",
    "\n",
    "pv_op_costs = 48*pv_rating + 180000\n",
    "\n",
    "hybrid_capex = 38814670848\n",
    "hybrid_op_costs = pv_op_costs\n",
    "hybrid_costs = {'Operating Costs': hybrid_op_costs, 'Capex': hybrid_capex}\n",
    "\n",
    "system_costs = {}\n",
    "annual_op_costs =  wind_op_costs + geothermal_op_costs + hybrid_op_costs\n",
    "system_costs['Annual Operating Costs'] = annual_op_costs\n",
    "\n",
    "inflation_rate = 1.0025\n",
    "annual_op_costs_by_year = [annual_op_costs*inflation_rate**i for i in range(1, 26)]\n",
    "total_op_costs = sum(annual_op_costs_by_year)\n",
    "avg_annual_op_costs = total_op_costs/25\n",
    "system_costs['Average Annual Operating Costs'] = avg_annual_op_costs\n",
    "\n",
    "real_upfront_cost = geothermal_capex + hybrid_capex\n",
    "# real_interest_rate = 1 + (0.00614 - 0.0025)\n",
    "# real_upfront_cost = upfront_cost*real_interest_rate**25 \n",
    "avg_annual_upfront_payment = real_upfront_cost/25\n",
    "system_costs['System Capex'] = real_upfront_cost\n",
    "system_costs['Average Annual Capex Payments'] = avg_annual_upfront_payment\n",
    "\n",
    "avg_annual_total_payment = avg_annual_upfront_payment + avg_annual_op_costs\n",
    "system_costs['Required Annual Average Revenue'] = avg_annual_total_payment\n",
    "\n",
    "avg_energy_rate = avg_annual_total_payment/annual_load_kwh\n",
    "system_costs['Energy Rate (kWh)'] = avg_energy_rate"
   ]
  },
  {
   "cell_type": "code",
   "execution_count": 13,
   "metadata": {},
   "outputs": [
    {
     "data": {
      "text/plain": [
       "{'Annual Operating Costs': 0    17421850.0\n",
       " Name: Wind System Size, dtype: float64,\n",
       " 'Average Annual Operating Costs': 0    1.799955e+07\n",
       " Name: Wind System Size, dtype: float64,\n",
       " 'System Capex': 39350039268.0,\n",
       " 'Average Annual Capex Payments': 1574001570.72,\n",
       " 'Required Annual Average Revenue': 0    1.592001e+09\n",
       " Name: Wind System Size, dtype: float64,\n",
       " 'Energy Rate (kWh)': 0    3.904642\n",
       " Name: Wind System Size, dtype: float64}"
      ]
     },
     "execution_count": 13,
     "metadata": {},
     "output_type": "execute_result"
    }
   ],
   "source": [
    "system_costs"
   ]
  },
  {
   "cell_type": "code",
   "execution_count": null,
   "metadata": {},
   "outputs": [],
   "source": []
  }
 ],
 "metadata": {
  "kernelspec": {
   "display_name": "ecen5407",
   "language": "python",
   "name": "python3"
  },
  "language_info": {
   "codemirror_mode": {
    "name": "ipython",
    "version": 3
   },
   "file_extension": ".py",
   "mimetype": "text/x-python",
   "name": "python",
   "nbconvert_exporter": "python",
   "pygments_lexer": "ipython3",
   "version": "3.10.12"
  }
 },
 "nbformat": 4,
 "nbformat_minor": 2
}
