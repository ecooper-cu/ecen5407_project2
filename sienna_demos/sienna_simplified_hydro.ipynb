{
 "cells": [
  {
   "cell_type": "code",
   "execution_count": 1,
   "metadata": {},
   "outputs": [],
   "source": [
    "using PowerSystems\n",
    "using Dates\n",
    "using TimeSeries\n",
    "using DataFrames\n",
    "using CSV\n",
    "using DataStructures\n",
    "using PowerSystemCaseBuilder\n",
    "using PowerSimulations\n",
    "using HiGHS\n",
    "using HydroPowerSimulations"
   ]
  },
  {
   "cell_type": "code",
   "execution_count": 2,
   "metadata": {},
   "outputs": [
    {
     "data": {
      "text/plain": [
       "\"\\\"name\\\":\\\"HydroPumpedStorage\\\",\\\"ramp_limits_pump\\\":{\\\"up\\\":1.0,\\\"down\\\":1.0},\\\"status\\\":\\\"OFF\\\",\\\"active_power\\\":0.0,\\\"storage_target\\\":{\\\"up\\\":0.0,\\\"down\\\":0.0},\\\"dynamic_injector\\\":null,\\\"__metadata__\\\":{\\\"module\\\":\\\"PowerSystems\\\",\\\"type\\\":\\\"HydroPumpedStorage\\\"},\\\"active_power_limits_pump\\\":{\\\"min\\\":0\"\u001b[93m\u001b[1m ⋯ 1138 bytes ⋯ \u001b[22m\u001b[39m\"own\\\":2.0},\\\"ramp_limits\\\":{\\\"up\\\":0.1,\\\"down\\\":0.1},\\\"time_at_status\\\":10000.0,\\\"active_power_limits\\\":{\\\"min\\\":0.0,\\\"max\\\":1.0},\\\"reactive_power\\\":0.0,\\\"inflow\\\":0.0,\\\"outflow\\\":0.0},{\\\"rating\\\":11.148,\\\"services\\\":[],\\\"x\\\":0.0108,\\\"b\\\":{\\\"from\\\":0.00926,\\\"to\\\":0.00926},\\\"r\\\":0.00108,\\\"available\\\":true,\\n\""
      ]
     },
     "metadata": {},
     "output_type": "display_data"
    }
   ],
   "source": [
    "\"\"\"\n",
    "\"name\":\"HydroPumpedStorage\",\"ramp_limits_pump\":{\"up\":1.0,\"down\":1.0},\"status\":\"OFF\",\"active_power\":0.0,\"storage_target\":{\"up\":0.0,\"down\":0.0},\"dynamic_injector\":null,\"__metadata__\":{\"module\":\"PowerSystems\",\"type\":\"HydroPumpedStorage\"},\"active_power_limits_pump\":{\"min\":0.0,\"max\":1.0},\"internal\":{\"uuid\":{\"value\":\"ccd0458b-77ee-4f3d-b065-37562dc08168\"},\"ext\":null,\"units_info\":null},\"reactive_power_limits\":{\"min\":0.0,\"max\":1.0},\"rating_pump\":1.0,\"ext\":{},\"operation_cost\":{\"fixed\":0.0,\"variable\":{\"__metadata__\":{\"parameters\":[\"InputOutputCurve\"],\"module\":\"InfrastructureSystems\",\"type\":\"CostCurve\"},\"value_curve\":{\"input_at_zero\":null,\"function_data\":{\"__metadata__\":{\"module\":\"InfrastructureSystems\",\"type\":\"LinearFunctionData\"},\"constant_term\":0.0,\"proportional_term\":0.15},\"__metadata__\":{\"parameters\":[\"LinearFunctionData\"],\"module\":\"InfrastructureSystems\",\"type\":\"InputOutputCurve\"}},\"power_units\":\"NATURAL_UNITS\",\"vom_cost\":{\"input_at_zero\":null,\"function_data\":{\"__metadata__\":{\"module\":\"InfrastructureSystems\",\"type\":\"LinearFunctionData\"},\"constant_term\":0.0,\"proportional_term\":0.0},\"__metadata__\":{\"parameters\":[\"LinearFunctionData\"],\"module\":\"InfrastructureSystems\",\"type\":\"InputOutputCurve\"}}},\"__metadata__\":{\"module\":\"PowerSystems\",\"type\":\"HydroGenerationCost\"}},\"reactive_power_limits_pump\":null,\"time_limits\":null,\"conversion_factor\":1.0,\"pump_efficiency\":0.8,\"storage_capacity\":{\"up\":2.0,\"down\":2.0},\"ramp_limits\":{\"up\":0.1,\"down\":0.1},\"time_at_status\":10000.0,\"active_power_limits\":{\"min\":0.0,\"max\":1.0},\"reactive_power\":0.0,\"inflow\":0.0,\"outflow\":0.0},{\"rating\":11.148,\"services\":[],\"x\":0.0108,\"b\":{\"from\":0.00926,\"to\":0.00926},\"r\":0.00108,\"available\":true,\n",
    "\"\"\""
   ]
  },
  {
   "cell_type": "code",
   "execution_count": 3,
   "metadata": {},
   "outputs": [],
   "source": [
    "# from https://github.com/NREL-Sienna/PowerSystems.jl/blob/main/docs/src/tutorials/creating_system.md\n",
    "sys = System(100.0)\n",
    "\n",
    "bus1 = ACBus(;\n",
    "    number = 1,\n",
    "    name = \"bus1\",\n",
    "    bustype = ACBusTypes.REF,\n",
    "    angle = 0.0,\n",
    "    magnitude = 1.0,\n",
    "    voltage_limits = (min = 0.9, max = 1.05),\n",
    "    base_voltage = 230.0,\n",
    ");\n",
    "\n",
    "bus4 = ACBus(;\n",
    "    number = 4,\n",
    "    name = \"bus4\",\n",
    "    bustype = ACBusTypes.PV,\n",
    "    angle = 0.0,\n",
    "    magnitude = 1.0,\n",
    "    voltage_limits = (min = 0.9, max = 1.05),\n",
    "    base_voltage = 230.0,\n",
    ");\n",
    "\n",
    "line41 = Line(;\n",
    "    name = \"line41\",\n",
    "    available = true,\n",
    "    active_power_flow = 0.0,\n",
    "    reactive_power_flow = 0.0,\n",
    "    arc = Arc(; from = bus4, to = bus1),\n",
    "    r = 0.00281, # Resistance, Per-unit\n",
    "    x = 0.0281, # Reactance, Per-unit\n",
    "    b = (from = 0.00356, to = 0.00356), # Shunt susceptance, Per-unit\n",
    "    rating = 4.0, # Line rating of 200 MVA / System base of 100 MVA\n",
    "    angle_limits = (min = -0.7, max = 0.7),\n",
    ");\n",
    "\n",
    "load =  PowerLoad(;\n",
    "    name = \"load\",\n",
    "    available = true,\n",
    "    bus = bus1,\n",
    "    active_power = 0.0, # Per-unitized by device base_power\n",
    "    reactive_power = 0.0, # Per-unitized by device base_power\n",
    "    base_power = 100.0, # MVA\n",
    "    max_active_power = 1.0, # 10 MW per-unitized by device base_power\n",
    "    max_reactive_power = 0.0,\n",
    ");\n",
    "\n",
    "# https://github.com/NREL-Sienna/PowerSystems.jl/blob/ec2c55991de76d25deb0c9ac23d85e44979d9694/src/models/generated/HydroEnergyReservoir.jl\n",
    "hydro = HydroPumpedStorage(;\n",
    "    name = \"hydro\",\n",
    "    available = true,\n",
    "    bus = bus4,\n",
    "    active_power = 0.0,\n",
    "    reactive_power = 0.0,\n",
    "    active_power_limits = (min=0.0, max=1.0), # MW from 2 28,000 HP pumps https://www.sdcwa.org/wp-content/uploads/2020/11/lake_hodges_fs.pdf?q=/sites/default/files/files/publications/lakehodges-fs.pdf&\n",
    "    rating = 1.0, # \"Maximum power withdrawal (MVA) of the pump\"\n",
    "    prime_mover_type = PrimeMovers.PS,\n",
    "    reactive_power_limits = (min=0.0, max=1.0),\n",
    "    rating_pump = 11.148, # MVA\n",
    "    active_power_limits_pump = (min=0.0, max=1.0),\n",
    "    reactive_power_limits_pump = (min=0.0, max=1.0),\n",
    "    ramp_limits_pump = (up=1.0, down=1.0), # \"ramp up and ramp down limits in MW/min of pump\"\n",
    "    time_limits_pump = nothing, # \"Minimum up and Minimum down time limits of pump in hours\"\n",
    "    inflow = 0, # \"Baseline inflow into the upper reservoir (units can be p.u. or m^3/hr)\"\n",
    "    outflow = 0, # \"Baseline outflow from the lower reservoir (units can be p.u. or m^3/hr)\"\n",
    "    initial_storage = (up=1, down=0), # \"Initial storage capacity in the upper and lower reservoir (units can be p.u-hr or m^3)\"\n",
    "    ramp_limits=(up=1, down=1), # \"ramp up and ramp down limits in MW/min\"\n",
    "    time_limits=(up=0.0, down=0), # \"Minimum up and Minimum down time limits in hours\"\n",
    "    operation_cost = HydroGenerationCost(CostCurve(LinearCurve(0)), 0),\n",
    "    base_power = 100.0, # MVA\n",
    "    storage_capacity = (up=2, down=2)\n",
    "    )\n",
    "\n",
    "add_components!(sys, [bus1, bus4, line41, load, hydro])"
   ]
  },
  {
   "cell_type": "code",
   "execution_count": 4,
   "metadata": {},
   "outputs": [
    {
     "name": "stderr",
     "output_type": "stream",
     "text": [
      "┌ Warning: no component category=Generator name=solar\n",
      "└ @ InfrastructureSystems /home/emco4286/.julia/packages/InfrastructureSystems/rXaFr/src/system_data.jl:697\n",
      "┌ Warning: no component category=Generator name=wind\n",
      "└ @ InfrastructureSystems /home/emco4286/.julia/packages/InfrastructureSystems/rXaFr/src/system_data.jl:697\n"
     ]
    },
    {
     "data": {
      "text/plain": [
       "5-element Vector{TimeSeriesKey}:\n",
       " StaticTimeSeriesKey(SingleTimeSeries, \"max_active_power\", DateTime(\"2024-11-18T00:00:00\"), Millisecond(300000), 105120, Dict{String, Any}())\n",
       " StaticTimeSeriesKey(SingleTimeSeries, \"outflow\", DateTime(\"2024-11-18T00:00:00\"), Millisecond(300000), 105120, Dict{String, Any}())\n",
       " StaticTimeSeriesKey(SingleTimeSeries, \"inflow\", DateTime(\"2024-11-18T00:00:00\"), Millisecond(300000), 105120, Dict{String, Any}())\n",
       " StaticTimeSeriesKey(SingleTimeSeries, \"storage_capacity\", DateTime(\"2024-11-18T00:00:00\"), Millisecond(300000), 105120, Dict{String, Any}())\n",
       " StaticTimeSeriesKey(SingleTimeSeries, \"max_active_power\", DateTime(\"2024-11-18T00:00:00\"), Millisecond(300000), 105120, Dict{String, Any}())"
      ]
     },
     "metadata": {},
     "output_type": "display_data"
    }
   ],
   "source": [
    "fname = joinpath(homedir(), \"ecen5407\", \"ecen5407_project2\", \"data\", \"Sienna_Inputs\", \"sienna_pointers.json\");\n",
    "add_time_series!(sys, fname)"
   ]
  },
  {
   "cell_type": "code",
   "execution_count": 5,
   "metadata": {},
   "outputs": [],
   "source": [
    "transform_single_time_series!(\n",
    "    sys,\n",
    "    Dates.Hour(24), # horizon\n",
    "    Dates.Hour(1), # interval\n",
    ");"
   ]
  },
  {
   "cell_type": "code",
   "execution_count": 6,
   "metadata": {},
   "outputs": [
    {
     "data": {
      "text/html": [
       "<table>\n",
       "  <caption style = \"text-align: left;\">Network Model</caption>\n",
       "  <tbody>\n",
       "    <tr>\n",
       "      <td style = \"text-align: left;\">Network Model</td>\n",
       "      <td style = \"text-align: left;\">CopperPlatePowerModel</td>\n",
       "    </tr>\n",
       "    <tr>\n",
       "      <td style = \"text-align: left;\">Slacks</td>\n",
       "      <td style = \"text-align: left;\">false</td>\n",
       "    </tr>\n",
       "    <tr>\n",
       "      <td style = \"text-align: left;\">PTDF</td>\n",
       "      <td style = \"text-align: left;\">false</td>\n",
       "    </tr>\n",
       "    <tr>\n",
       "      <td style = \"text-align: left;\">Duals</td>\n",
       "      <td style = \"text-align: left;\">None</td>\n",
       "    </tr>\n",
       "  </tbody>\n",
       "</table>\n",
       "\n",
       "<table>\n",
       "  <caption style = \"text-align: left;\">Device Models</caption>\n",
       "  <thead>\n",
       "    <tr class = \"header headerLastRow\">\n",
       "      <th style = \"text-align: left;\">Device Type</th>\n",
       "      <th style = \"text-align: left;\">Formulation</th>\n",
       "      <th style = \"text-align: left;\">Slacks</th>\n",
       "    </tr>\n",
       "  </thead>\n",
       "  <tbody>\n",
       "    <tr>\n",
       "      <td style = \"text-align: left;\">HydroPumpedStorage</td>\n",
       "      <td style = \"text-align: left;\">HydroDispatchPumpedStorage</td>\n",
       "      <td style = \"text-align: left;\">false</td>\n",
       "    </tr>\n",
       "  </tbody>\n",
       "</table>\n"
      ],
      "text/plain": [
       "\u001b[1mNetwork Model\u001b[0m\n",
       "┌───────────────┬───────────────────────┐\n",
       "│ Network Model │ CopperPlatePowerModel │\n",
       "│ Slacks        │ false                 │\n",
       "│ PTDF          │ false                 │\n",
       "│ Duals         │ None                  │\n",
       "└───────────────┴───────────────────────┘\n",
       "\n",
       "\u001b[1mDevice Models\u001b[0m\n",
       "┌────────────────────┬────────────────────────────┬────────┐\n",
       "│\u001b[1m Device Type        \u001b[0m│\u001b[1m Formulation                \u001b[0m│\u001b[1m Slacks \u001b[0m│\n",
       "├────────────────────┼────────────────────────────┼────────┤\n",
       "│ HydroPumpedStorage │ HydroDispatchPumpedStorage │ false  │\n",
       "└────────────────────┴────────────────────────────┴────────┘\n"
      ]
     },
     "metadata": {},
     "output_type": "display_data"
    }
   ],
   "source": [
    "template_ed = ProblemTemplate(CopperPlatePowerModel)\n",
    "set_device_model!(template_ed, HydroPumpedStorage, HydroDispatchPumpedStorage)\n",
    "solver = optimizer_with_attributes(HiGHS.Optimizer, \"mip_rel_gap\" => 0.5)\n",
    "\n",
    "model = DecisionModel(\n",
    "    template_ed,\n",
    "    sys,\n",
    "    name=\"ED\",\n",
    "    optimizer=solver,\n",
    "    optimizer_solve_log_print=true,\n",
    "    store_variable_names=true,\n",
    ")"
   ]
  },
  {
   "cell_type": "code",
   "execution_count": 7,
   "metadata": {},
   "outputs": [
    {
     "data": {
      "text/plain": [
       "InfrastructureSystems.Optimization.ModelBuildStatusModule.ModelBuildStatus.BUILT = 0"
      ]
     },
     "metadata": {},
     "output_type": "display_data"
    }
   ],
   "source": [
    "build!(model, output_dir = mktempdir())"
   ]
  },
  {
   "cell_type": "code",
   "execution_count": 8,
   "metadata": {},
   "outputs": [
    {
     "name": "stdout",
     "output_type": "stream",
     "text": [
      "Running HiGHS 1.8.0 (git hash: fcfb534146): Copyright (c) 2024 HiGHS under MIT licence terms\n",
      "Coefficient ranges:\n",
      "  Matrix [8e-02, 1e+00]\n",
      "  Cost   [0e+00, 0e+00]\n",
      "  Bound  [1e+00, 2e+00]\n",
      "  RHS    [1e+00, 1e+00]\n",
      "Assessing feasibility of MIP using primal feasibility and integrality tolerance of       1e-06\n",
      "Solution has               num          max          sum\n",
      "Col     infeasibilities      0            0            0\n",
      "Integer infeasibilities      0            0            0\n",
      "Row     infeasibilities      0            0            0\n",
      "Row     residuals            0            0            0\n",
      "Presolving model\n",
      "576 rows, 863 cols, 1724 nonzeros  0s\n",
      "0 rows, 0 cols, 0 nonzeros  0s\n",
      "Presolve: Optimal\n",
      "\n",
      "        Nodes      |    B&B Tree     |            Objective Bounds              |  Dynamic Constraints |       Work      \n",
      "     Proc. InQueue |  Leaves   Expl. | BestBound       BestSol              Gap |   Cuts   InLp Confl. | LpIters     Time\n",
      "\n",
      "         0       0         0   0.00%   0               0                  0.00%        0      0      0         0     0.0s\n",
      "\n",
      "Solving report\n",
      "  Status            Optimal\n",
      "  Primal bound      0\n",
      "  Dual bound        0\n",
      "  Gap               0% (tolerance: 50%)\n",
      "  Solution status   feasible\n",
      "                    0 (objective)\n",
      "                    0 (bound viol.)\n",
      "                    0 (int. viol.)\n",
      "                    0 (row viol.)\n",
      "  Timing            0.00 (total)\n",
      "                    0.00 (presolve)\n",
      "                    0.00 (postsolve)\n",
      "  Nodes             0\n",
      "  LP iterations     0 (total)\n",
      "                    0 (strong br.)\n",
      "                    0 (separation)\n",
      "                    0 (heuristics)\n"
     ]
    },
    {
     "data": {
      "text/plain": [
       "InfrastructureSystems.Simulation.RunStatusModule.RunStatus.SUCCESSFULLY_FINALIZED = 0"
      ]
     },
     "metadata": {},
     "output_type": "display_data"
    }
   ],
   "source": [
    "solve!(model)"
   ]
  },
  {
   "cell_type": "code",
   "execution_count": 9,
   "metadata": {},
   "outputs": [
    {
     "data": {
      "text/html": [
       "<p> Start: 2024-11-18T00:00:00</p>\n",
       "<p> End: 2024-11-18T23:55:00</p>\n",
       "<p> Resolution: 5 minutes</p>\n",
       "\n",
       "<table>\n",
       "  <caption style = \"text-align: left;\">PowerSimulations Problem Auxiliary variables Results</caption>\n",
       "  <tbody>\n",
       "    <tr>\n",
       "      <td style = \"text-align: left;\">HydroEnergyOutput__HydroPumpedStorage</td>\n",
       "    </tr>\n",
       "  </tbody>\n",
       "</table>\n",
       "\n",
       "<table>\n",
       "  <caption style = \"text-align: left;\">PowerSimulations Problem Expressions Results</caption>\n",
       "  <tbody>\n",
       "    <tr>\n",
       "      <td style = \"text-align: left;\">ProductionCostExpression__HydroPumpedStorage</td>\n",
       "    </tr>\n",
       "    <tr>\n",
       "      <td style = \"text-align: left;\">ActivePowerBalance__System</td>\n",
       "    </tr>\n",
       "  </tbody>\n",
       "</table>\n",
       "\n",
       "<table>\n",
       "  <caption style = \"text-align: left;\">PowerSimulations Problem Parameters Results</caption>\n",
       "  <tbody>\n",
       "    <tr>\n",
       "      <td style = \"text-align: left;\">OutflowTimeSeriesParameter__HydroPumpedStorage</td>\n",
       "    </tr>\n",
       "    <tr>\n",
       "      <td style = \"text-align: left;\">InflowTimeSeriesParameter__HydroPumpedStorage</td>\n",
       "    </tr>\n",
       "  </tbody>\n",
       "</table>\n",
       "\n",
       "<table>\n",
       "  <caption style = \"text-align: left;\">PowerSimulations Problem Variables Results</caption>\n",
       "  <tbody>\n",
       "    <tr>\n",
       "      <td style = \"text-align: left;\">ActivePowerInVariable__HydroPumpedStorage</td>\n",
       "    </tr>\n",
       "    <tr>\n",
       "      <td style = \"text-align: left;\">HydroEnergyVariableUp__HydroPumpedStorage</td>\n",
       "    </tr>\n",
       "    <tr>\n",
       "      <td style = \"text-align: left;\">HydroEnergyVariableDown__HydroPumpedStorage</td>\n",
       "    </tr>\n",
       "    <tr>\n",
       "      <td style = \"text-align: left;\">ReservationVariable__HydroPumpedStorage</td>\n",
       "    </tr>\n",
       "    <tr>\n",
       "      <td style = \"text-align: left;\">ActivePowerOutVariable__HydroPumpedStorage</td>\n",
       "    </tr>\n",
       "    <tr>\n",
       "      <td style = \"text-align: left;\">WaterSpillageVariable__HydroPumpedStorage</td>\n",
       "    </tr>\n",
       "  </tbody>\n",
       "</table>\n"
      ],
      "text/plain": [
       "Start: 2024-11-18T00:00:00\n",
       "End: 2024-11-18T23:55:00\n",
       "Resolution: 5 minutes\n",
       "\n",
       "\u001b[1mPowerSimulations Problem Auxiliary variables Results\u001b[0m\n",
       "┌───────────────────────────────────────┐\n",
       "│ HydroEnergyOutput__HydroPumpedStorage │\n",
       "└───────────────────────────────────────┘\n",
       "\n",
       "\u001b[1mPowerSimulations Problem Expressions Results\u001b[0m\n",
       "┌──────────────────────────────────────────────┐\n",
       "│ ProductionCostExpression__HydroPumpedStorage │\n",
       "│ ActivePowerBalance__System                   │\n",
       "└──────────────────────────────────────────────┘\n",
       "\n",
       "\u001b[1mPowerSimulations Problem Parameters Results\u001b[0m\n",
       "┌────────────────────────────────────────────────┐\n",
       "│ OutflowTimeSeriesParameter__HydroPumpedStorage │\n",
       "│ InflowTimeSeriesParameter__HydroPumpedStorage  │\n",
       "└────────────────────────────────────────────────┘\n",
       "\n",
       "\u001b[1mPowerSimulations Problem Variables Results\u001b[0m\n",
       "┌─────────────────────────────────────────────┐\n",
       "│ ActivePowerInVariable__HydroPumpedStorage   │\n",
       "│ HydroEnergyVariableUp__HydroPumpedStorage   │\n",
       "│ HydroEnergyVariableDown__HydroPumpedStorage │\n",
       "│ ReservationVariable__HydroPumpedStorage     │\n",
       "│ ActivePowerOutVariable__HydroPumpedStorage  │\n",
       "│ WaterSpillageVariable__HydroPumpedStorage   │\n",
       "└─────────────────────────────────────────────┘\n"
      ]
     },
     "metadata": {},
     "output_type": "display_data"
    }
   ],
   "source": [
    "res = OptimizationProblemResults(model)"
   ]
  },
  {
   "cell_type": "code",
   "execution_count": 10,
   "metadata": {},
   "outputs": [
    {
     "data": {
      "text/plain": [
       "2-element Vector{String}:\n",
       " \"OutflowTimeSeriesParameter__HydroPumpedStorage\"\n",
       " \"InflowTimeSeriesParameter__HydroPumpedStorage\""
      ]
     },
     "metadata": {},
     "output_type": "display_data"
    }
   ],
   "source": [
    "list_parameter_names(res)"
   ]
  },
  {
   "cell_type": "code",
   "execution_count": 13,
   "metadata": {},
   "outputs": [
    {
     "data": {
      "text/html": [
       "<div><div style = \"float: left;\"><span>288×2 DataFrame</span></div><div style = \"float: right;\"><span style = \"font-style: italic;\">263 rows omitted</span></div><div style = \"clear: both;\"></div></div><div class = \"data-frame\" style = \"overflow-x: scroll;\"><table class = \"data-frame\" style = \"margin-bottom: 6px;\"><thead><tr class = \"header\"><th class = \"rowNumber\" style = \"font-weight: bold; text-align: right;\">Row</th><th style = \"text-align: left;\">DateTime</th><th style = \"text-align: left;\">hydro</th></tr><tr class = \"subheader headerLastRow\"><th class = \"rowNumber\" style = \"font-weight: bold; text-align: right;\"></th><th title = \"DateTime\" style = \"text-align: left;\">DateTime</th><th title = \"Float64\" style = \"text-align: left;\">Float64</th></tr></thead><tbody><tr><td class = \"rowNumber\" style = \"font-weight: bold; text-align: right;\">1</td><td style = \"text-align: left;\">2024-11-18T00:00:00</td><td style = \"text-align: right;\">0.0</td></tr><tr><td class = \"rowNumber\" style = \"font-weight: bold; text-align: right;\">2</td><td style = \"text-align: left;\">2024-11-18T00:05:00</td><td style = \"text-align: right;\">0.0</td></tr><tr><td class = \"rowNumber\" style = \"font-weight: bold; text-align: right;\">3</td><td style = \"text-align: left;\">2024-11-18T00:10:00</td><td style = \"text-align: right;\">0.0</td></tr><tr><td class = \"rowNumber\" style = \"font-weight: bold; text-align: right;\">4</td><td style = \"text-align: left;\">2024-11-18T00:15:00</td><td style = \"text-align: right;\">0.0</td></tr><tr><td class = \"rowNumber\" style = \"font-weight: bold; text-align: right;\">5</td><td style = \"text-align: left;\">2024-11-18T00:20:00</td><td style = \"text-align: right;\">0.0</td></tr><tr><td class = \"rowNumber\" style = \"font-weight: bold; text-align: right;\">6</td><td style = \"text-align: left;\">2024-11-18T00:25:00</td><td style = \"text-align: right;\">0.0</td></tr><tr><td class = \"rowNumber\" style = \"font-weight: bold; text-align: right;\">7</td><td style = \"text-align: left;\">2024-11-18T00:30:00</td><td style = \"text-align: right;\">0.0</td></tr><tr><td class = \"rowNumber\" style = \"font-weight: bold; text-align: right;\">8</td><td style = \"text-align: left;\">2024-11-18T00:35:00</td><td style = \"text-align: right;\">0.0</td></tr><tr><td class = \"rowNumber\" style = \"font-weight: bold; text-align: right;\">9</td><td style = \"text-align: left;\">2024-11-18T00:40:00</td><td style = \"text-align: right;\">0.0</td></tr><tr><td class = \"rowNumber\" style = \"font-weight: bold; text-align: right;\">10</td><td style = \"text-align: left;\">2024-11-18T00:45:00</td><td style = \"text-align: right;\">0.0</td></tr><tr><td class = \"rowNumber\" style = \"font-weight: bold; text-align: right;\">11</td><td style = \"text-align: left;\">2024-11-18T00:50:00</td><td style = \"text-align: right;\">0.0</td></tr><tr><td class = \"rowNumber\" style = \"font-weight: bold; text-align: right;\">12</td><td style = \"text-align: left;\">2024-11-18T00:55:00</td><td style = \"text-align: right;\">0.0</td></tr><tr><td class = \"rowNumber\" style = \"font-weight: bold; text-align: right;\">13</td><td style = \"text-align: left;\">2024-11-18T01:00:00</td><td style = \"text-align: right;\">0.0</td></tr><tr><td style = \"text-align: right;\">&vellip;</td><td style = \"text-align: right;\">&vellip;</td><td style = \"text-align: right;\">&vellip;</td></tr><tr><td class = \"rowNumber\" style = \"font-weight: bold; text-align: right;\">277</td><td style = \"text-align: left;\">2024-11-18T23:00:00</td><td style = \"text-align: right;\">0.0</td></tr><tr><td class = \"rowNumber\" style = \"font-weight: bold; text-align: right;\">278</td><td style = \"text-align: left;\">2024-11-18T23:05:00</td><td style = \"text-align: right;\">0.0</td></tr><tr><td class = \"rowNumber\" style = \"font-weight: bold; text-align: right;\">279</td><td style = \"text-align: left;\">2024-11-18T23:10:00</td><td style = \"text-align: right;\">0.0</td></tr><tr><td class = \"rowNumber\" style = \"font-weight: bold; text-align: right;\">280</td><td style = \"text-align: left;\">2024-11-18T23:15:00</td><td style = \"text-align: right;\">0.0</td></tr><tr><td class = \"rowNumber\" style = \"font-weight: bold; text-align: right;\">281</td><td style = \"text-align: left;\">2024-11-18T23:20:00</td><td style = \"text-align: right;\">0.0</td></tr><tr><td class = \"rowNumber\" style = \"font-weight: bold; text-align: right;\">282</td><td style = \"text-align: left;\">2024-11-18T23:25:00</td><td style = \"text-align: right;\">0.0</td></tr><tr><td class = \"rowNumber\" style = \"font-weight: bold; text-align: right;\">283</td><td style = \"text-align: left;\">2024-11-18T23:30:00</td><td style = \"text-align: right;\">0.0</td></tr><tr><td class = \"rowNumber\" style = \"font-weight: bold; text-align: right;\">284</td><td style = \"text-align: left;\">2024-11-18T23:35:00</td><td style = \"text-align: right;\">0.0</td></tr><tr><td class = \"rowNumber\" style = \"font-weight: bold; text-align: right;\">285</td><td style = \"text-align: left;\">2024-11-18T23:40:00</td><td style = \"text-align: right;\">0.0</td></tr><tr><td class = \"rowNumber\" style = \"font-weight: bold; text-align: right;\">286</td><td style = \"text-align: left;\">2024-11-18T23:45:00</td><td style = \"text-align: right;\">0.0</td></tr><tr><td class = \"rowNumber\" style = \"font-weight: bold; text-align: right;\">287</td><td style = \"text-align: left;\">2024-11-18T23:50:00</td><td style = \"text-align: right;\">0.0</td></tr><tr><td class = \"rowNumber\" style = \"font-weight: bold; text-align: right;\">288</td><td style = \"text-align: left;\">2024-11-18T23:55:00</td><td style = \"text-align: right;\">0.0</td></tr></tbody></table></div>"
      ],
      "text/latex": [
       "\\begin{tabular}{r|cc}\n",
       "\t& DateTime & hydro\\\\\n",
       "\t\\hline\n",
       "\t& DateTime & Float64\\\\\n",
       "\t\\hline\n",
       "\t1 & 2024-11-18T00:00:00 & 0.0 \\\\\n",
       "\t2 & 2024-11-18T00:05:00 & 0.0 \\\\\n",
       "\t3 & 2024-11-18T00:10:00 & 0.0 \\\\\n",
       "\t4 & 2024-11-18T00:15:00 & 0.0 \\\\\n",
       "\t5 & 2024-11-18T00:20:00 & 0.0 \\\\\n",
       "\t6 & 2024-11-18T00:25:00 & 0.0 \\\\\n",
       "\t7 & 2024-11-18T00:30:00 & 0.0 \\\\\n",
       "\t8 & 2024-11-18T00:35:00 & 0.0 \\\\\n",
       "\t9 & 2024-11-18T00:40:00 & 0.0 \\\\\n",
       "\t10 & 2024-11-18T00:45:00 & 0.0 \\\\\n",
       "\t11 & 2024-11-18T00:50:00 & 0.0 \\\\\n",
       "\t12 & 2024-11-18T00:55:00 & 0.0 \\\\\n",
       "\t13 & 2024-11-18T01:00:00 & 0.0 \\\\\n",
       "\t14 & 2024-11-18T01:05:00 & 0.0 \\\\\n",
       "\t15 & 2024-11-18T01:10:00 & 0.0 \\\\\n",
       "\t16 & 2024-11-18T01:15:00 & 0.0 \\\\\n",
       "\t17 & 2024-11-18T01:20:00 & 0.0 \\\\\n",
       "\t18 & 2024-11-18T01:25:00 & 0.0 \\\\\n",
       "\t19 & 2024-11-18T01:30:00 & 0.0 \\\\\n",
       "\t20 & 2024-11-18T01:35:00 & 0.0 \\\\\n",
       "\t21 & 2024-11-18T01:40:00 & 0.0 \\\\\n",
       "\t22 & 2024-11-18T01:45:00 & 0.0 \\\\\n",
       "\t23 & 2024-11-18T01:50:00 & 0.0 \\\\\n",
       "\t24 & 2024-11-18T01:55:00 & 0.0 \\\\\n",
       "\t$\\dots$ & $\\dots$ & $\\dots$ \\\\\n",
       "\\end{tabular}\n"
      ],
      "text/plain": [
       "\u001b[1m288×2 DataFrame\u001b[0m\n",
       "\u001b[1m Row \u001b[0m│\u001b[1m DateTime            \u001b[0m\u001b[1m hydro   \u001b[0m\n",
       "     │\u001b[90m DateTime            \u001b[0m\u001b[90m Float64 \u001b[0m\n",
       "─────┼──────────────────────────────\n",
       "   1 │ 2024-11-18T00:00:00      0.0\n",
       "   2 │ 2024-11-18T00:05:00      0.0\n",
       "   3 │ 2024-11-18T00:10:00      0.0\n",
       "   4 │ 2024-11-18T00:15:00      0.0\n",
       "   5 │ 2024-11-18T00:20:00      0.0\n",
       "   6 │ 2024-11-18T00:25:00      0.0\n",
       "   7 │ 2024-11-18T00:30:00      0.0\n",
       "   8 │ 2024-11-18T00:35:00      0.0\n",
       "  ⋮  │          ⋮              ⋮\n",
       " 282 │ 2024-11-18T23:25:00      0.0\n",
       " 283 │ 2024-11-18T23:30:00      0.0\n",
       " 284 │ 2024-11-18T23:35:00      0.0\n",
       " 285 │ 2024-11-18T23:40:00      0.0\n",
       " 286 │ 2024-11-18T23:45:00      0.0\n",
       " 287 │ 2024-11-18T23:50:00      0.0\n",
       " 288 │ 2024-11-18T23:55:00      0.0\n",
       "\u001b[36m                    273 rows omitted\u001b[0m"
      ]
     },
     "metadata": {},
     "output_type": "display_data"
    }
   ],
   "source": [
    "read_parameter(res, \"InflowTimeSeriesParameter__HydroPumpedStorage\")"
   ]
  },
  {
   "cell_type": "code",
   "execution_count": 10,
   "metadata": {},
   "outputs": [
    {
     "data": {
      "text/plain": [
       "16-element Memory{String}:\n",
       "    \"HydroEnergyVariableUp__HydroPumpedStorage\"\n",
       " #undef\n",
       " #undef\n",
       "    \"ReservationVariable__HydroPumpedStorage\"\n",
       " #undef\n",
       "    \"WaterSpillageVariable__HydroPumpedStorage\"\n",
       " #undef\n",
       "    \"HydroEnergyVariableDown__HydroPumpedStorage\"\n",
       " #undef\n",
       "    \"ActivePowerInVariable__HydroPumpedStorage\"\n",
       " #undef\n",
       " #undef\n",
       " #undef\n",
       " #undef\n",
       "    \"ActivePowerOutVariable__HydroPumpedStorage\"\n",
       " #undef"
      ]
     },
     "metadata": {},
     "output_type": "display_data"
    }
   ],
   "source": [
    "var = read_variables(res)\n",
    "var.keys"
   ]
  },
  {
   "cell_type": "code",
   "execution_count": 11,
   "metadata": {},
   "outputs": [
    {
     "data": {
      "text/html": [
       "<div><div style = \"float: left;\"><span>2×7 DataFrame</span></div><div style = \"clear: both;\"></div></div><div class = \"data-frame\" style = \"overflow-x: scroll;\"><table class = \"data-frame\" style = \"margin-bottom: 6px;\"><thead><tr class = \"header\"><th class = \"rowNumber\" style = \"font-weight: bold; text-align: right;\">Row</th><th style = \"text-align: left;\">variable</th><th style = \"text-align: left;\">mean</th><th style = \"text-align: left;\">min</th><th style = \"text-align: left;\">median</th><th style = \"text-align: left;\">max</th><th style = \"text-align: left;\">nmissing</th><th style = \"text-align: left;\">eltype</th></tr><tr class = \"subheader headerLastRow\"><th class = \"rowNumber\" style = \"font-weight: bold; text-align: right;\"></th><th title = \"Symbol\" style = \"text-align: left;\">Symbol</th><th title = \"Union{Nothing, Float64}\" style = \"text-align: left;\">Union…</th><th title = \"Any\" style = \"text-align: left;\">Any</th><th title = \"Any\" style = \"text-align: left;\">Any</th><th title = \"Any\" style = \"text-align: left;\">Any</th><th title = \"Int64\" style = \"text-align: left;\">Int64</th><th title = \"DataType\" style = \"text-align: left;\">DataType</th></tr></thead><tbody><tr><td class = \"rowNumber\" style = \"font-weight: bold; text-align: right;\">1</td><td style = \"text-align: left;\">DateTime</td><td style = \"font-style: italic; text-align: left;\"></td><td style = \"text-align: left;\">2024-11-18T00:00:00</td><td style = \"text-align: left;\">2024-11-18T11:57:30</td><td style = \"text-align: left;\">2024-11-18T23:55:00</td><td style = \"text-align: right;\">0</td><td style = \"text-align: left;\">DateTime</td></tr><tr><td class = \"rowNumber\" style = \"font-weight: bold; text-align: right;\">2</td><td style = \"text-align: left;\">hydro</td><td style = \"text-align: left;\">0.0</td><td style = \"text-align: left;\">0.0</td><td style = \"text-align: left;\">0.0</td><td style = \"text-align: left;\">0.0</td><td style = \"text-align: right;\">0</td><td style = \"text-align: left;\">Float64</td></tr></tbody></table></div>"
      ],
      "text/latex": [
       "\\begin{tabular}{r|cccccc}\n",
       "\t& variable & mean & min & median & max & \\\\\n",
       "\t\\hline\n",
       "\t& Symbol & Union… & Any & Any & Any & \\\\\n",
       "\t\\hline\n",
       "\t1 & DateTime &  & 2024-11-18T00:00:00 & 2024-11-18T11:57:30 & 2024-11-18T23:55:00 & $\\dots$ \\\\\n",
       "\t2 & hydro & 0.0 & 0.0 & 0.0 & 0.0 & $\\dots$ \\\\\n",
       "\\end{tabular}\n"
      ],
      "text/plain": [
       "\u001b[1m2×7 DataFrame\u001b[0m\n",
       "\u001b[1m Row \u001b[0m│\u001b[1m variable \u001b[0m\u001b[1m mean   \u001b[0m\u001b[1m min                 \u001b[0m\u001b[1m median              \u001b[0m\u001b[1m max        \u001b[0m ⋯\n",
       "     │\u001b[90m Symbol   \u001b[0m\u001b[90m Union… \u001b[0m\u001b[90m Any                 \u001b[0m\u001b[90m Any                 \u001b[0m\u001b[90m Any        \u001b[0m ⋯\n",
       "─────┼──────────────────────────────────────────────────────────────────────────\n",
       "   1 │ DateTime \u001b[90m        \u001b[0m 2024-11-18T00:00:00  2024-11-18T11:57:30  2024-11-18T ⋯\n",
       "   2 │ hydro     0.0     0.0                  0.0                  0.0\n",
       "\u001b[36m                                                               3 columns omitted\u001b[0m"
      ]
     },
     "metadata": {},
     "output_type": "display_data"
    }
   ],
   "source": [
    "describe(var[\"ActivePowerOutVariable__HydroPumpedStorage\"])"
   ]
  },
  {
   "cell_type": "code",
   "execution_count": 12,
   "metadata": {},
   "outputs": [
    {
     "data": {
      "text/html": [
       "<div><div style = \"float: left;\"><span>2×7 DataFrame</span></div><div style = \"clear: both;\"></div></div><div class = \"data-frame\" style = \"overflow-x: scroll;\"><table class = \"data-frame\" style = \"margin-bottom: 6px;\"><thead><tr class = \"header\"><th class = \"rowNumber\" style = \"font-weight: bold; text-align: right;\">Row</th><th style = \"text-align: left;\">variable</th><th style = \"text-align: left;\">mean</th><th style = \"text-align: left;\">min</th><th style = \"text-align: left;\">median</th><th style = \"text-align: left;\">max</th><th style = \"text-align: left;\">nmissing</th><th style = \"text-align: left;\">eltype</th></tr><tr class = \"subheader headerLastRow\"><th class = \"rowNumber\" style = \"font-weight: bold; text-align: right;\"></th><th title = \"Symbol\" style = \"text-align: left;\">Symbol</th><th title = \"Union{Nothing, Float64}\" style = \"text-align: left;\">Union…</th><th title = \"Any\" style = \"text-align: left;\">Any</th><th title = \"Any\" style = \"text-align: left;\">Any</th><th title = \"Any\" style = \"text-align: left;\">Any</th><th title = \"Int64\" style = \"text-align: left;\">Int64</th><th title = \"DataType\" style = \"text-align: left;\">DataType</th></tr></thead><tbody><tr><td class = \"rowNumber\" style = \"font-weight: bold; text-align: right;\">1</td><td style = \"text-align: left;\">DateTime</td><td style = \"font-style: italic; text-align: left;\"></td><td style = \"text-align: left;\">2024-11-18T00:00:00</td><td style = \"text-align: left;\">2024-11-18T11:57:30</td><td style = \"text-align: left;\">2024-11-18T23:55:00</td><td style = \"text-align: right;\">0</td><td style = \"text-align: left;\">DateTime</td></tr><tr><td class = \"rowNumber\" style = \"font-weight: bold; text-align: right;\">2</td><td style = \"text-align: left;\">hydro</td><td style = \"text-align: left;\">0.0</td><td style = \"text-align: left;\">0.0</td><td style = \"text-align: left;\">0.0</td><td style = \"text-align: left;\">0.0</td><td style = \"text-align: right;\">0</td><td style = \"text-align: left;\">Float64</td></tr></tbody></table></div>"
      ],
      "text/latex": [
       "\\begin{tabular}{r|cccccc}\n",
       "\t& variable & mean & min & median & max & \\\\\n",
       "\t\\hline\n",
       "\t& Symbol & Union… & Any & Any & Any & \\\\\n",
       "\t\\hline\n",
       "\t1 & DateTime &  & 2024-11-18T00:00:00 & 2024-11-18T11:57:30 & 2024-11-18T23:55:00 & $\\dots$ \\\\\n",
       "\t2 & hydro & 0.0 & 0.0 & 0.0 & 0.0 & $\\dots$ \\\\\n",
       "\\end{tabular}\n"
      ],
      "text/plain": [
       "\u001b[1m2×7 DataFrame\u001b[0m\n",
       "\u001b[1m Row \u001b[0m│\u001b[1m variable \u001b[0m\u001b[1m mean   \u001b[0m\u001b[1m min                 \u001b[0m\u001b[1m median              \u001b[0m\u001b[1m max        \u001b[0m ⋯\n",
       "     │\u001b[90m Symbol   \u001b[0m\u001b[90m Union… \u001b[0m\u001b[90m Any                 \u001b[0m\u001b[90m Any                 \u001b[0m\u001b[90m Any        \u001b[0m ⋯\n",
       "─────┼──────────────────────────────────────────────────────────────────────────\n",
       "   1 │ DateTime \u001b[90m        \u001b[0m 2024-11-18T00:00:00  2024-11-18T11:57:30  2024-11-18T ⋯\n",
       "   2 │ hydro     0.0     0.0                  0.0                  0.0\n",
       "\u001b[36m                                                               3 columns omitted\u001b[0m"
      ]
     },
     "metadata": {},
     "output_type": "display_data"
    }
   ],
   "source": [
    "describe(var[\"ActivePowerOutVariable__HydroPumpedStorage\"])"
   ]
  },
  {
   "cell_type": "code",
   "execution_count": null,
   "metadata": {},
   "outputs": [],
   "source": []
  }
 ],
 "metadata": {
  "kernelspec": {
   "display_name": "Julia 1.11.1",
   "language": "julia",
   "name": "julia-1.11"
  },
  "language_info": {
   "file_extension": ".jl",
   "mimetype": "application/julia",
   "name": "julia",
   "version": "1.11.1"
  }
 },
 "nbformat": 4,
 "nbformat_minor": 2
}
