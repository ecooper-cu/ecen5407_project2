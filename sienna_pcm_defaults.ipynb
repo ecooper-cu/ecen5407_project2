{
 "cells": [
  {
   "cell_type": "code",
   "execution_count": 1,
   "metadata": {},
   "outputs": [],
   "source": [
    "using PowerSystems\n",
    "using PowerSimulations\n",
    "using HydroPowerSimulations\n",
    "using PowerSystemCaseBuilder\n",
    "using HiGHS # solver\n",
    "using Dates"
   ]
  },
  {
   "cell_type": "markdown",
   "metadata": {},
   "source": [
    "https://nrel-sienna.github.io/PowerSystems.jl/stable/how_to/powersystembuilder/\n",
    "https://docs.juliahub.com/General/PowerSimulations/0.28.3/tutorials/decision_problem.html"
   ]
  },
  {
   "cell_type": "code",
   "execution_count": 2,
   "metadata": {},
   "outputs": [
    {
     "name": "stderr",
     "output_type": "stream",
     "text": [
      "┌ Info: Loaded time series from storage file existing=/home/emco4286/.julia/packages/PowerSystemCaseBuilder/uZO8H/data/serialized_system/e3b0c44298fc1c149afbf4c8996fb92427ae41e4649b934ca495991b7852b855/modified_RTS_GMLC_DA_sys_time_series_storage.h5 new=/tmp/jl_u5dilI compression=CompressionSettings(false, CompressionTypes.DEFLATE = 1, 3, true)\n",
      "└ @ InfrastructureSystems /home/emco4286/.julia/packages/InfrastructureSystems/rXaFr/src/hdf5_time_series_storage.jl:110\n"
     ]
    },
    {
     "data": {
      "text/html": [
       "<table>\n",
       "  <caption style = \"text-align: left;\">System</caption>\n",
       "  <thead>\n",
       "    <tr class = \"header headerLastRow\">\n",
       "      <th style = \"text-align: left;\">Property</th>\n",
       "      <th style = \"text-align: left;\">Value</th>\n",
       "    </tr>\n",
       "  </thead>\n",
       "  <tbody>\n",
       "    <tr>\n",
       "      <td style = \"text-align: left;\">Name</td>\n",
       "      <td style = \"text-align: left;\"></td>\n",
       "    </tr>\n",
       "    <tr>\n",
       "      <td style = \"text-align: left;\">Description</td>\n",
       "      <td style = \"text-align: left;\"></td>\n",
       "    </tr>\n",
       "    <tr>\n",
       "      <td style = \"text-align: left;\">System Units Base</td>\n",
       "      <td style = \"text-align: left;\">SYSTEM_BASE</td>\n",
       "    </tr>\n",
       "    <tr>\n",
       "      <td style = \"text-align: left;\">Base Power</td>\n",
       "      <td style = \"text-align: left;\">100.0</td>\n",
       "    </tr>\n",
       "    <tr>\n",
       "      <td style = \"text-align: left;\">Base Frequency</td>\n",
       "      <td style = \"text-align: left;\">60.0</td>\n",
       "    </tr>\n",
       "    <tr>\n",
       "      <td style = \"text-align: left;\">Num Components</td>\n",
       "      <td style = \"text-align: left;\">501</td>\n",
       "    </tr>\n",
       "  </tbody>\n",
       "</table>\n",
       "\n",
       "<table>\n",
       "  <caption style = \"text-align: left;\">Static Components</caption>\n",
       "  <thead>\n",
       "    <tr class = \"header headerLastRow\">\n",
       "      <th style = \"text-align: left;\">Type</th>\n",
       "      <th style = \"text-align: left;\">Count</th>\n",
       "    </tr>\n",
       "  </thead>\n",
       "  <tbody>\n",
       "    <tr>\n",
       "      <td style = \"text-align: left;\">ACBus</td>\n",
       "      <td style = \"text-align: left;\">73</td>\n",
       "    </tr>\n",
       "    <tr>\n",
       "      <td style = \"text-align: left;\">Arc</td>\n",
       "      <td style = \"text-align: left;\">109</td>\n",
       "    </tr>\n",
       "    <tr>\n",
       "      <td style = \"text-align: left;\">Area</td>\n",
       "      <td style = \"text-align: left;\">3</td>\n",
       "    </tr>\n",
       "    <tr>\n",
       "      <td style = \"text-align: left;\">FixedAdmittance</td>\n",
       "      <td style = \"text-align: left;\">3</td>\n",
       "    </tr>\n",
       "    <tr>\n",
       "      <td style = \"text-align: left;\">HydroDispatch</td>\n",
       "      <td style = \"text-align: left;\">1</td>\n",
       "    </tr>\n",
       "    <tr>\n",
       "      <td style = \"text-align: left;\">Line</td>\n",
       "      <td style = \"text-align: left;\">105</td>\n",
       "    </tr>\n",
       "    <tr>\n",
       "      <td style = \"text-align: left;\">LoadZone</td>\n",
       "      <td style = \"text-align: left;\">21</td>\n",
       "    </tr>\n",
       "    <tr>\n",
       "      <td style = \"text-align: left;\">PowerLoad</td>\n",
       "      <td style = \"text-align: left;\">51</td>\n",
       "    </tr>\n",
       "    <tr>\n",
       "      <td style = \"text-align: left;\">RenewableDispatch</td>\n",
       "      <td style = \"text-align: left;\">29</td>\n",
       "    </tr>\n",
       "    <tr>\n",
       "      <td style = \"text-align: left;\">RenewableNonDispatch</td>\n",
       "      <td style = \"text-align: left;\">31</td>\n",
       "    </tr>\n",
       "    <tr>\n",
       "      <td style = \"text-align: left;\">TapTransformer</td>\n",
       "      <td style = \"text-align: left;\">15</td>\n",
       "    </tr>\n",
       "    <tr>\n",
       "      <td style = \"text-align: left;\">ThermalStandard</td>\n",
       "      <td style = \"text-align: left;\">54</td>\n",
       "    </tr>\n",
       "    <tr>\n",
       "      <td style = \"text-align: left;\">TwoTerminalHVDCLine</td>\n",
       "      <td style = \"text-align: left;\">1</td>\n",
       "    </tr>\n",
       "    <tr>\n",
       "      <td style = \"text-align: left;\">VariableReserve{ReserveDown}</td>\n",
       "      <td style = \"text-align: left;\">1</td>\n",
       "    </tr>\n",
       "    <tr>\n",
       "      <td style = \"text-align: left;\">VariableReserve{ReserveUp}</td>\n",
       "      <td style = \"text-align: left;\">4</td>\n",
       "    </tr>\n",
       "  </tbody>\n",
       "</table>\n",
       "\n",
       "<table>\n",
       "  <caption style = \"text-align: left;\">Time Series Summary</caption>\n",
       "  <thead>\n",
       "    <tr class = \"header\">\n",
       "      <th style = \"text-align: left;\">owner_type</th>\n",
       "      <th style = \"text-align: left;\">owner_category</th>\n",
       "      <th style = \"text-align: left;\">time_series_type</th>\n",
       "      <th style = \"text-align: left;\">time_series_category</th>\n",
       "      <th style = \"text-align: left;\">initial_timestamp</th>\n",
       "      <th style = \"text-align: left;\">resolution_ms</th>\n",
       "      <th style = \"text-align: left;\">count</th>\n",
       "    </tr>\n",
       "    <tr class = \"subheader headerLastRow\">\n",
       "      <th style = \"text-align: left;\">String</th>\n",
       "      <th style = \"text-align: left;\">String</th>\n",
       "      <th style = \"text-align: left;\">String</th>\n",
       "      <th style = \"text-align: left;\">String</th>\n",
       "      <th style = \"text-align: left;\">String</th>\n",
       "      <th style = \"text-align: left;\">Int64</th>\n",
       "      <th style = \"text-align: left;\">Int64</th>\n",
       "    </tr>\n",
       "  </thead>\n",
       "  <tbody>\n",
       "    <tr>\n",
       "      <td style = \"text-align: left;\">Area</td>\n",
       "      <td style = \"text-align: left;\">Component</td>\n",
       "      <td style = \"text-align: left;\">DeterministicSingleTimeSeries</td>\n",
       "      <td style = \"text-align: left;\">Forecast</td>\n",
       "      <td style = \"text-align: left;\">2020-01-01T00:00:00</td>\n",
       "      <td style = \"text-align: left;\">3600000</td>\n",
       "      <td style = \"text-align: left;\">3</td>\n",
       "    </tr>\n",
       "    <tr>\n",
       "      <td style = \"text-align: left;\">Area</td>\n",
       "      <td style = \"text-align: left;\">Component</td>\n",
       "      <td style = \"text-align: left;\">SingleTimeSeries</td>\n",
       "      <td style = \"text-align: left;\">StaticTimeSeries</td>\n",
       "      <td style = \"text-align: left;\">2020-01-01T00:00:00</td>\n",
       "      <td style = \"text-align: left;\">3600000</td>\n",
       "      <td style = \"text-align: left;\">3</td>\n",
       "    </tr>\n",
       "    <tr>\n",
       "      <td style = \"text-align: left;\">FixedAdmittance</td>\n",
       "      <td style = \"text-align: left;\">Component</td>\n",
       "      <td style = \"text-align: left;\">DeterministicSingleTimeSeries</td>\n",
       "      <td style = \"text-align: left;\">Forecast</td>\n",
       "      <td style = \"text-align: left;\">2020-01-01T00:00:00</td>\n",
       "      <td style = \"text-align: left;\">3600000</td>\n",
       "      <td style = \"text-align: left;\">3</td>\n",
       "    </tr>\n",
       "    <tr>\n",
       "      <td style = \"text-align: left;\">FixedAdmittance</td>\n",
       "      <td style = \"text-align: left;\">Component</td>\n",
       "      <td style = \"text-align: left;\">SingleTimeSeries</td>\n",
       "      <td style = \"text-align: left;\">StaticTimeSeries</td>\n",
       "      <td style = \"text-align: left;\">2020-01-01T00:00:00</td>\n",
       "      <td style = \"text-align: left;\">3600000</td>\n",
       "      <td style = \"text-align: left;\">3</td>\n",
       "    </tr>\n",
       "    <tr>\n",
       "      <td style = \"text-align: left;\">HydroDispatch</td>\n",
       "      <td style = \"text-align: left;\">Component</td>\n",
       "      <td style = \"text-align: left;\">DeterministicSingleTimeSeries</td>\n",
       "      <td style = \"text-align: left;\">Forecast</td>\n",
       "      <td style = \"text-align: left;\">2020-01-01T00:00:00</td>\n",
       "      <td style = \"text-align: left;\">3600000</td>\n",
       "      <td style = \"text-align: left;\">2</td>\n",
       "    </tr>\n",
       "    <tr>\n",
       "      <td style = \"text-align: left;\">HydroDispatch</td>\n",
       "      <td style = \"text-align: left;\">Component</td>\n",
       "      <td style = \"text-align: left;\">SingleTimeSeries</td>\n",
       "      <td style = \"text-align: left;\">StaticTimeSeries</td>\n",
       "      <td style = \"text-align: left;\">2020-01-01T00:00:00</td>\n",
       "      <td style = \"text-align: left;\">3600000</td>\n",
       "      <td style = \"text-align: left;\">2</td>\n",
       "    </tr>\n",
       "    <tr>\n",
       "      <td style = \"text-align: left;\">PowerLoad</td>\n",
       "      <td style = \"text-align: left;\">Component</td>\n",
       "      <td style = \"text-align: left;\">DeterministicSingleTimeSeries</td>\n",
       "      <td style = \"text-align: left;\">Forecast</td>\n",
       "      <td style = \"text-align: left;\">2020-01-01T00:00:00</td>\n",
       "      <td style = \"text-align: left;\">3600000</td>\n",
       "      <td style = \"text-align: left;\">51</td>\n",
       "    </tr>\n",
       "    <tr>\n",
       "      <td style = \"text-align: left;\">PowerLoad</td>\n",
       "      <td style = \"text-align: left;\">Component</td>\n",
       "      <td style = \"text-align: left;\">SingleTimeSeries</td>\n",
       "      <td style = \"text-align: left;\">StaticTimeSeries</td>\n",
       "      <td style = \"text-align: left;\">2020-01-01T00:00:00</td>\n",
       "      <td style = \"text-align: left;\">3600000</td>\n",
       "      <td style = \"text-align: left;\">51</td>\n",
       "    </tr>\n",
       "    <tr>\n",
       "      <td style = \"text-align: left;\">RenewableDispatch</td>\n",
       "      <td style = \"text-align: left;\">Component</td>\n",
       "      <td style = \"text-align: left;\">DeterministicSingleTimeSeries</td>\n",
       "      <td style = \"text-align: left;\">Forecast</td>\n",
       "      <td style = \"text-align: left;\">2020-01-01T00:00:00</td>\n",
       "      <td style = \"text-align: left;\">3600000</td>\n",
       "      <td style = \"text-align: left;\">29</td>\n",
       "    </tr>\n",
       "    <tr>\n",
       "      <td style = \"text-align: left;\">RenewableDispatch</td>\n",
       "      <td style = \"text-align: left;\">Component</td>\n",
       "      <td style = \"text-align: left;\">SingleTimeSeries</td>\n",
       "      <td style = \"text-align: left;\">StaticTimeSeries</td>\n",
       "      <td style = \"text-align: left;\">2020-01-01T00:00:00</td>\n",
       "      <td style = \"text-align: left;\">3600000</td>\n",
       "      <td style = \"text-align: left;\">29</td>\n",
       "    </tr>\n",
       "    <tr>\n",
       "      <td style = \"text-align: left;\">RenewableNonDispatch</td>\n",
       "      <td style = \"text-align: left;\">Component</td>\n",
       "      <td style = \"text-align: left;\">DeterministicSingleTimeSeries</td>\n",
       "      <td style = \"text-align: left;\">Forecast</td>\n",
       "      <td style = \"text-align: left;\">2020-01-01T00:00:00</td>\n",
       "      <td style = \"text-align: left;\">3600000</td>\n",
       "      <td style = \"text-align: left;\">31</td>\n",
       "    </tr>\n",
       "    <tr>\n",
       "      <td style = \"text-align: left;\">RenewableNonDispatch</td>\n",
       "      <td style = \"text-align: left;\">Component</td>\n",
       "      <td style = \"text-align: left;\">SingleTimeSeries</td>\n",
       "      <td style = \"text-align: left;\">StaticTimeSeries</td>\n",
       "      <td style = \"text-align: left;\">2020-01-01T00:00:00</td>\n",
       "      <td style = \"text-align: left;\">3600000</td>\n",
       "      <td style = \"text-align: left;\">31</td>\n",
       "    </tr>\n",
       "    <tr>\n",
       "      <td style = \"text-align: left;\">VariableReserve</td>\n",
       "      <td style = \"text-align: left;\">Component</td>\n",
       "      <td style = \"text-align: left;\">DeterministicSingleTimeSeries</td>\n",
       "      <td style = \"text-align: left;\">Forecast</td>\n",
       "      <td style = \"text-align: left;\">2020-01-01T00:00:00</td>\n",
       "      <td style = \"text-align: left;\">3600000</td>\n",
       "      <td style = \"text-align: left;\">5</td>\n",
       "    </tr>\n",
       "    <tr>\n",
       "      <td style = \"text-align: left;\">VariableReserve</td>\n",
       "      <td style = \"text-align: left;\">Component</td>\n",
       "      <td style = \"text-align: left;\">SingleTimeSeries</td>\n",
       "      <td style = \"text-align: left;\">StaticTimeSeries</td>\n",
       "      <td style = \"text-align: left;\">2020-01-01T00:00:00</td>\n",
       "      <td style = \"text-align: left;\">3600000</td>\n",
       "      <td style = \"text-align: left;\">5</td>\n",
       "    </tr>\n",
       "  </tbody>\n",
       "</table>\n"
      ],
      "text/plain": [
       "\u001b[1mSystem\u001b[0m\n",
       "┌───────────────────┬─────────────┐\n",
       "│\u001b[1m Property          \u001b[0m│\u001b[1m Value       \u001b[0m│\n",
       "├───────────────────┼─────────────┤\n",
       "│ Name              │             │\n",
       "│ Description       │             │\n",
       "│ System Units Base │ SYSTEM_BASE │\n",
       "│ Base Power        │ 100.0       │\n",
       "│ Base Frequency    │ 60.0        │\n",
       "│ Num Components    │ 501         │\n",
       "└───────────────────┴─────────────┘\n",
       "\n",
       "\u001b[1mStatic Components\u001b[0m\n",
       "┌──────────────────────────────┬───────┐\n",
       "│\u001b[1m Type                         \u001b[0m│\u001b[1m Count \u001b[0m│\n",
       "├──────────────────────────────┼───────┤\n",
       "│ ACBus                        │ 73    │\n",
       "│ Arc                          │ 109   │\n",
       "│ Area                         │ 3     │\n",
       "│ FixedAdmittance              │ 3     │\n",
       "│ HydroDispatch                │ 1     │\n",
       "│ Line                         │ 105   │\n",
       "│ LoadZone                     │ 21    │\n",
       "│ PowerLoad                    │ 51    │\n",
       "│ RenewableDispatch            │ 29    │\n",
       "│ RenewableNonDispatch         │ 31    │\n",
       "│ TapTransformer               │ 15    │\n",
       "│ ThermalStandard              │ 54    │\n",
       "│ TwoTerminalHVDCLine          │ 1     │\n",
       "│ VariableReserve{ReserveDown} │ 1     │\n",
       "│ VariableReserve{ReserveUp}   │ 4     │\n",
       "└──────────────────────────────┴───────┘\n",
       "\n",
       "\u001b[1mTime Series Summary\u001b[0m\n",
       "┌──────────────────────┬────────────────┬───────────────────────────────┬───────\n",
       "│\u001b[1m owner_type           \u001b[0m│\u001b[1m owner_category \u001b[0m│\u001b[1m time_series_type              \u001b[0m│\u001b[1m time\u001b[0m ⋯\n",
       "│\u001b[90m String               \u001b[0m│\u001b[90m String         \u001b[0m│\u001b[90m String                        \u001b[0m│\u001b[90m Stri\u001b[0m ⋯\n",
       "├──────────────────────┼────────────────┼───────────────────────────────┼───────\n",
       "│ Area                 │ Component      │ DeterministicSingleTimeSeries │ Fore ⋯\n",
       "│ Area                 │ Component      │ SingleTimeSeries              │ Stat ⋯\n",
       "│ FixedAdmittance      │ Component      │ DeterministicSingleTimeSeries │ Fore ⋯\n",
       "│ FixedAdmittance      │ Component      │ SingleTimeSeries              │ Stat ⋯\n",
       "│ HydroDispatch        │ Component      │ DeterministicSingleTimeSeries │ Fore ⋯\n",
       "│ HydroDispatch        │ Component      │ SingleTimeSeries              │ Stat ⋯\n",
       "│ PowerLoad            │ Component      │ DeterministicSingleTimeSeries │ Fore ⋯\n",
       "│ PowerLoad            │ Component      │ SingleTimeSeries              │ Stat ⋯\n",
       "│ RenewableDispatch    │ Component      │ DeterministicSingleTimeSeries │ Fore ⋯\n",
       "│ RenewableDispatch    │ Component      │ SingleTimeSeries              │ Stat ⋯\n",
       "│ RenewableNonDispatch │ Component      │ DeterministicSingleTimeSeries │ Fore ⋯\n",
       "│ RenewableNonDispatch │ Component      │ SingleTimeSeries              │ Stat ⋯\n",
       "│ VariableReserve      │ Component      │ DeterministicSingleTimeSeries │ Fore ⋯\n",
       "│ VariableReserve      │ Component      │ SingleTimeSeries              │ Stat ⋯\n",
       "└──────────────────────┴────────────────┴───────────────────────────────┴───────\n",
       "\u001b[36m                                                               4 columns omitted\u001b[0m\n"
      ]
     },
     "metadata": {},
     "output_type": "display_data"
    }
   ],
   "source": [
    "sys = build_system(PowerSystemCaseBuilder.PSISystems, \"modified_RTS_GMLC_DA_sys\")"
   ]
  },
  {
   "cell_type": "code",
   "execution_count": 3,
   "metadata": {},
   "outputs": [
    {
     "name": "stdout",
     "output_type": "stream",
     "text": [
      "\u001b[1mRenewableDispatch\u001b[0m\n",
      "┌────────────┬───────────┐\n",
      "│\u001b[1m name       \u001b[0m│\u001b[1m available \u001b[0m│\n",
      "├────────────┼───────────┤\n",
      "│ 122_WIND_1 │ true      │\n",
      "│ 324_PV_3   │ true      │\n",
      "│ 312_PV_1   │ true      │\n",
      "│ 102_PV_1   │ true      │\n",
      "│ 101_PV_1   │ true      │\n",
      "│ 324_PV_2   │ true      │\n",
      "│ 313_PV_2   │ true      │\n",
      "│ 104_PV_1   │ true      │\n",
      "│ 101_PV_2   │ true      │\n",
      "│ 309_WIND_1 │ true      │\n",
      "│ 310_PV_2   │ true      │\n",
      "│ 113_PV_1   │ true      │\n",
      "│ 317_WIND_1 │ true      │\n",
      "│ 314_PV_1   │ true      │\n",
      "│ 324_PV_1   │ true      │\n",
      "│ 103_PV_1   │ true      │\n",
      "│ 303_WIND_1 │ true      │\n",
      "│ 314_PV_2   │ true      │\n",
      "│ 102_PV_2   │ true      │\n",
      "│ 314_PV_3   │ true      │\n",
      "│ 320_PV_1   │ true      │\n",
      "│ 101_PV_3   │ true      │\n",
      "│ 319_PV_1   │ true      │\n",
      "│ 314_PV_4   │ true      │\n",
      "│ 310_PV_1   │ true      │\n",
      "│ 215_PV_1   │ true      │\n",
      "│ 313_PV_1   │ true      │\n",
      "│ 101_PV_4   │ true      │\n",
      "│ 119_PV_1   │ true      │\n",
      "└────────────┴───────────┘\n"
     ]
    }
   ],
   "source": [
    "show_components(sys, RenewableDispatch)"
   ]
  },
  {
   "cell_type": "code",
   "execution_count": 4,
   "metadata": {},
   "outputs": [],
   "source": [
    "retrieved_component = get_component(RenewableDispatch, sys, \"324_PV_3\");"
   ]
  },
  {
   "cell_type": "code",
   "execution_count": 5,
   "metadata": {},
   "outputs": [
    {
     "data": {
      "text/plain": [
       "RenewableDispatch: 324_PV_3:\n",
       "   name: 324_PV_3\n",
       "   available: true\n",
       "   bus: ACBus: Curie\n",
       "   active_power: 0.0\n",
       "   reactive_power: 0.0\n",
       "   rating: 1.02\n",
       "   prime_mover_type: PrimeMovers.PVe = 21\n",
       "   reactive_power_limits: (min = 0.0, max = 0.0)\n",
       "   power_factor: 1.0\n",
       "   operation_cost: RenewableGenerationCost composed of variable: CostCurve{LinearCurve}, curtailment_cost: CostCurve{LinearCurve}\n",
       "   base_power: 51.0\n",
       "   services: 0-element Vector{Service}\n",
       "   dynamic_injector: nothing\n",
       "   ext: Dict{String, Any}()\n",
       "   InfrastructureSystems.SystemUnitsSettings:\n",
       "      base_value: 100.0\n",
       "      unit_system: UnitSystem.SYSTEM_BASE = 0\n",
       "   has_supplemental_attributes: false\n",
       "   has_time_series: true"
      ]
     },
     "metadata": {},
     "output_type": "display_data"
    }
   ],
   "source": [
    "retrieved_component"
   ]
  },
  {
   "cell_type": "code",
   "execution_count": 6,
   "metadata": {},
   "outputs": [
    {
     "name": "stdout",
     "output_type": "stream",
     "text": [
      "┌───────────────────────────────┬──────────────────┬─────────────────────┬──────────────────────┬──────────┬──────────┬───────┬─────────────────────┐\n",
      "│\u001b[1m              time_series_type \u001b[0m│\u001b[1m             name \u001b[0m│\u001b[1m   initial_timestamp \u001b[0m│\u001b[1m           resolution \u001b[0m│\u001b[1m  horizon \u001b[0m│\u001b[1m interval \u001b[0m│\u001b[1m count \u001b[0m│\u001b[1m            features \u001b[0m│\n",
      "│\u001b[90m                        String \u001b[0m│\u001b[90m           String \u001b[0m│\u001b[90m            DateTime \u001b[0m│\u001b[90m          Millisecond \u001b[0m│\u001b[90m     Hour \u001b[0m│\u001b[90m     Hour \u001b[0m│\u001b[90m Int64 \u001b[0m│\u001b[90m   Dict{String, Any} \u001b[0m│\n",
      "├───────────────────────────────┼──────────────────┼─────────────────────┼──────────────────────┼──────────┼──────────┼───────┼─────────────────────┤\n",
      "│ DeterministicSingleTimeSeries │ max_active_power │ 2020-01-01T00:00:00 │ 3600000 milliseconds │ 48 hours │ 24 hours │   365 │ Dict{String, Any}() │\n",
      "└───────────────────────────────┴──────────────────┴─────────────────────┴──────────────────────┴──────────┴──────────┴───────┴─────────────────────┘\n",
      "┌──────────────────┬──────────────────┬─────────────────────┬──────────────────────┬────────┬─────────────────────┐\n",
      "│\u001b[1m time_series_type \u001b[0m│\u001b[1m             name \u001b[0m│\u001b[1m   initial_timestamp \u001b[0m│\u001b[1m           resolution \u001b[0m│\u001b[1m length \u001b[0m│\u001b[1m            features \u001b[0m│\n",
      "│\u001b[90m           String \u001b[0m│\u001b[90m           String \u001b[0m│\u001b[90m            DateTime \u001b[0m│\u001b[90m          Millisecond \u001b[0m│\u001b[90m  Int64 \u001b[0m│\u001b[90m   Dict{String, Any} \u001b[0m│\n",
      "├──────────────────┼──────────────────┼─────────────────────┼──────────────────────┼────────┼─────────────────────┤\n",
      "│ SingleTimeSeries │ max_active_power │ 2020-01-01T00:00:00 │ 3600000 milliseconds │   8784 │ Dict{String, Any}() │\n",
      "└──────────────────┴──────────────────┴─────────────────────┴──────────────────────┴────────┴─────────────────────┘\n"
     ]
    }
   ],
   "source": [
    "show_time_series(retrieved_component)"
   ]
  },
  {
   "cell_type": "code",
   "execution_count": 3,
   "metadata": {},
   "outputs": [
    {
     "data": {
      "text/html": [
       "<table>\n",
       "  <caption style = \"text-align: left;\">Network Model</caption>\n",
       "  <tbody>\n",
       "    <tr>\n",
       "      <td style = \"text-align: left;\">Network Model</td>\n",
       "      <td style = \"text-align: left;\">CopperPlatePowerModel</td>\n",
       "    </tr>\n",
       "    <tr>\n",
       "      <td style = \"text-align: left;\">Slacks</td>\n",
       "      <td style = \"text-align: left;\">false</td>\n",
       "    </tr>\n",
       "    <tr>\n",
       "      <td style = \"text-align: left;\">PTDF</td>\n",
       "      <td style = \"text-align: left;\">false</td>\n",
       "    </tr>\n",
       "    <tr>\n",
       "      <td style = \"text-align: left;\">Duals</td>\n",
       "      <td style = \"text-align: left;\">None</td>\n",
       "    </tr>\n",
       "  </tbody>\n",
       "</table>\n",
       "\n",
       "<table>\n",
       "  <caption style = \"text-align: left;\">Device Models</caption>\n",
       "  <thead>\n",
       "    <tr class = \"header headerLastRow\">\n",
       "      <th style = \"text-align: left;\">Device Type</th>\n",
       "      <th style = \"text-align: left;\">Formulation</th>\n",
       "      <th style = \"text-align: left;\">Slacks</th>\n",
       "    </tr>\n",
       "  </thead>\n",
       "  <tbody>\n",
       "  </tbody>\n",
       "</table>\n"
      ],
      "text/plain": [
       "\u001b[1mNetwork Model\u001b[0m\n",
       "┌───────────────┬───────────────────────┐\n",
       "│ Network Model │ CopperPlatePowerModel │\n",
       "│ Slacks        │ false                 │\n",
       "│ PTDF          │ false                 │\n",
       "│ Duals         │ None                  │\n",
       "└───────────────┴───────────────────────┘\n",
       "\n",
       "\u001b[1mDevice Models\u001b[0m\n",
       "┌─────────────┬─────────────┬────────┐\n",
       "│\u001b[1m Device Type \u001b[0m│\u001b[1m Formulation \u001b[0m│\u001b[1m Slacks \u001b[0m│\n",
       "└─────────────┴─────────────┴────────┘\n"
      ]
     },
     "metadata": {},
     "output_type": "display_data"
    }
   ],
   "source": [
    "template_uc = ProblemTemplate()"
   ]
  },
  {
   "cell_type": "code",
   "execution_count": 4,
   "metadata": {},
   "outputs": [],
   "source": [
    "set_device_model!(template_uc, Line, StaticBranch)\n",
    "set_device_model!(template_uc, Transformer2W, StaticBranch)\n",
    "set_device_model!(template_uc, TapTransformer, StaticBranch)\n",
    "set_device_model!(template_uc, ThermalStandard, ThermalStandardUnitCommitment)\n",
    "set_device_model!(template_uc, RenewableDispatch, RenewableFullDispatch)\n",
    "set_device_model!(template_uc, PowerLoad, StaticPowerLoad)\n",
    "set_device_model!(template_uc, HydroDispatch, HydroDispatchRunOfRiver)\n",
    "set_device_model!(template_uc, RenewableNonDispatch, FixedOutput)\n",
    "set_service_model!(template_uc, VariableReserve{ReserveUp}, RangeReserve)\n",
    "set_service_model!(template_uc, VariableReserve{ReserveDown}, RangeReserve)\n",
    "set_network_model!(template_uc, NetworkModel(CopperPlatePowerModel))"
   ]
  },
  {
   "cell_type": "code",
   "execution_count": 5,
   "metadata": {},
   "outputs": [
    {
     "data": {
      "text/plain": [
       "MathOptInterface.OptimizerWithAttributes(HiGHS.Optimizer, Pair{MathOptInterface.AbstractOptimizerAttribute, Any}[MathOptInterface.RawOptimizerAttribute(\"mip_rel_gap\") => 0.5])"
      ]
     },
     "metadata": {},
     "output_type": "display_data"
    }
   ],
   "source": [
    "solver = optimizer_with_attributes(HiGHS.Optimizer, \"mip_rel_gap\" => 0.5)"
   ]
  },
  {
   "cell_type": "code",
   "execution_count": 6,
   "metadata": {},
   "outputs": [
    {
     "data": {
      "text/plain": [
       "InfrastructureSystems.Optimization.ModelBuildStatusModule.ModelBuildStatus.BUILT = 0"
      ]
     },
     "metadata": {},
     "output_type": "display_data"
    }
   ],
   "source": [
    "problem = DecisionModel(template_uc, sys; optimizer = solver, horizon = Hour(1))\n",
    "build!(problem, output_dir = mktempdir())"
   ]
  },
  {
   "cell_type": "code",
   "execution_count": 7,
   "metadata": {},
   "outputs": [
    {
     "data": {
      "text/plain": [
       "InfrastructureSystems.Simulation.RunStatusModule.RunStatus.SUCCESSFULLY_FINALIZED = 0"
      ]
     },
     "metadata": {},
     "output_type": "display_data"
    }
   ],
   "source": [
    "solve!(problem)"
   ]
  },
  {
   "cell_type": "code",
   "execution_count": 8,
   "metadata": {},
   "outputs": [
    {
     "data": {
      "text/html": [
       "<p> Start: 2020-01-01T00:00:00</p>\n",
       "<p> End: 2020-01-01T00:00:00</p>\n",
       "<p> Resolution: 60 minutes</p>\n",
       "\n",
       "<table>\n",
       "  <caption style = \"text-align: left;\">PowerSimulations Problem Auxiliary variables Results</caption>\n",
       "  <tbody>\n",
       "    <tr>\n",
       "      <td style = \"text-align: left;\">TimeDurationOff__ThermalStandard</td>\n",
       "    </tr>\n",
       "    <tr>\n",
       "      <td style = \"text-align: left;\">HydroEnergyOutput__HydroDispatch</td>\n",
       "    </tr>\n",
       "    <tr>\n",
       "      <td style = \"text-align: left;\">TimeDurationOn__ThermalStandard</td>\n",
       "    </tr>\n",
       "  </tbody>\n",
       "</table>\n",
       "\n",
       "<table>\n",
       "  <caption style = \"text-align: left;\">PowerSimulations Problem Expressions Results</caption>\n",
       "  <tbody>\n",
       "    <tr>\n",
       "      <td style = \"text-align: left;\">ProductionCostExpression__HydroDispatch</td>\n",
       "    </tr>\n",
       "    <tr>\n",
       "      <td style = \"text-align: left;\">ProductionCostExpression__ThermalStandard</td>\n",
       "    </tr>\n",
       "    <tr>\n",
       "      <td style = \"text-align: left;\">ProductionCostExpression__RenewableDispatch</td>\n",
       "    </tr>\n",
       "    <tr>\n",
       "      <td style = \"text-align: left;\">ActivePowerBalance__System</td>\n",
       "    </tr>\n",
       "  </tbody>\n",
       "</table>\n",
       "\n",
       "<table>\n",
       "  <caption style = \"text-align: left;\">PowerSimulations Problem Parameters Results</caption>\n",
       "  <tbody>\n",
       "    <tr>\n",
       "      <td style = \"text-align: left;\">RequirementTimeSeriesParameter__VariableReserve__ReserveUp__Reg_Up</td>\n",
       "    </tr>\n",
       "    <tr>\n",
       "      <td style = \"text-align: left;\">RequirementTimeSeriesParameter__VariableReserve__ReserveDown__Reg_Down</td>\n",
       "    </tr>\n",
       "    <tr>\n",
       "      <td style = \"text-align: left;\">RequirementTimeSeriesParameter__VariableReserve__ReserveUp__Spin_Up_R1</td>\n",
       "    </tr>\n",
       "    <tr>\n",
       "      <td style = \"text-align: left;\">ActivePowerTimeSeriesParameter__RenewableNonDispatch</td>\n",
       "    </tr>\n",
       "    <tr>\n",
       "      <td style = \"text-align: left;\">ActivePowerTimeSeriesParameter__HydroDispatch</td>\n",
       "    </tr>\n",
       "    <tr>\n",
       "      <td style = \"text-align: left;\">ActivePowerTimeSeriesParameter__RenewableDispatch</td>\n",
       "    </tr>\n",
       "    <tr>\n",
       "      <td style = \"text-align: left;\">RequirementTimeSeriesParameter__VariableReserve__ReserveUp__Spin_Up_R2</td>\n",
       "    </tr>\n",
       "    <tr>\n",
       "      <td style = \"text-align: left;\">RequirementTimeSeriesParameter__VariableReserve__ReserveUp__Spin_Up_R3</td>\n",
       "    </tr>\n",
       "    <tr>\n",
       "      <td style = \"text-align: left;\">ActivePowerTimeSeriesParameter__PowerLoad</td>\n",
       "    </tr>\n",
       "  </tbody>\n",
       "</table>\n",
       "\n",
       "<table>\n",
       "  <caption style = \"text-align: left;\">PowerSimulations Problem Variables Results</caption>\n",
       "  <tbody>\n",
       "    <tr>\n",
       "      <td style = \"text-align: left;\">StartVariable__ThermalStandard</td>\n",
       "    </tr>\n",
       "    <tr>\n",
       "      <td style = \"text-align: left;\">ActivePowerReserveVariable__VariableReserve__ReserveUp__Spin_Up_R1</td>\n",
       "    </tr>\n",
       "    <tr>\n",
       "      <td style = \"text-align: left;\">ActivePowerVariable__RenewableDispatch</td>\n",
       "    </tr>\n",
       "    <tr>\n",
       "      <td style = \"text-align: left;\">ActivePowerVariable__ThermalStandard</td>\n",
       "    </tr>\n",
       "    <tr>\n",
       "      <td style = \"text-align: left;\">ActivePowerReserveVariable__VariableReserve__ReserveUp__Spin_Up_R3</td>\n",
       "    </tr>\n",
       "    <tr>\n",
       "      <td style = \"text-align: left;\">StopVariable__ThermalStandard</td>\n",
       "    </tr>\n",
       "    <tr>\n",
       "      <td style = \"text-align: left;\">ActivePowerReserveVariable__VariableReserve__ReserveDown__Reg_Down</td>\n",
       "    </tr>\n",
       "    <tr>\n",
       "      <td style = \"text-align: left;\">ActivePowerVariable__HydroDispatch</td>\n",
       "    </tr>\n",
       "    <tr>\n",
       "      <td style = \"text-align: left;\">ActivePowerReserveVariable__VariableReserve__ReserveUp__Spin_Up_R2</td>\n",
       "    </tr>\n",
       "    <tr>\n",
       "      <td style = \"text-align: left;\">ActivePowerReserveVariable__VariableReserve__ReserveUp__Reg_Up</td>\n",
       "    </tr>\n",
       "    <tr>\n",
       "      <td style = \"text-align: left;\">OnVariable__ThermalStandard</td>\n",
       "    </tr>\n",
       "  </tbody>\n",
       "</table>\n"
      ],
      "text/plain": [
       "Start: 2020-01-01T00:00:00\n",
       "End: 2020-01-01T00:00:00\n",
       "Resolution: 60 minutes\n",
       "\n",
       "\u001b[1mPowerSimulations Problem Auxiliary variables Results\u001b[0m\n",
       "┌──────────────────────────────────┐\n",
       "│ TimeDurationOff__ThermalStandard │\n",
       "│ HydroEnergyOutput__HydroDispatch │\n",
       "│ TimeDurationOn__ThermalStandard  │\n",
       "└──────────────────────────────────┘\n",
       "\n",
       "\u001b[1mPowerSimulations Problem Expressions Results\u001b[0m\n",
       "┌─────────────────────────────────────────────┐\n",
       "│ ProductionCostExpression__HydroDispatch     │\n",
       "│ ProductionCostExpression__ThermalStandard   │\n",
       "│ ProductionCostExpression__RenewableDispatch │\n",
       "│ ActivePowerBalance__System                  │\n",
       "└─────────────────────────────────────────────┘\n",
       "\n",
       "\u001b[1mPowerSimulations Problem Parameters Results\u001b[0m\n",
       "┌────────────────────────────────────────────────────────────────────────┐\n",
       "│ RequirementTimeSeriesParameter__VariableReserve__ReserveUp__Reg_Up     │\n",
       "│ RequirementTimeSeriesParameter__VariableReserve__ReserveDown__Reg_Down │\n",
       "│ RequirementTimeSeriesParameter__VariableReserve__ReserveUp__Spin_Up_R1 │\n",
       "│ ActivePowerTimeSeriesParameter__RenewableNonDispatch                   │\n",
       "│ ActivePowerTimeSeriesParameter__HydroDispatch                          │\n",
       "│ ActivePowerTimeSeriesParameter__RenewableDispatch                      │\n",
       "│ RequirementTimeSeriesParameter__VariableReserve__ReserveUp__Spin_Up_R2 │\n",
       "│ RequirementTimeSeriesParameter__VariableReserve__ReserveUp__Spin_Up_R3 │\n",
       "│ ActivePowerTimeSeriesParameter__PowerLoad                              │\n",
       "└────────────────────────────────────────────────────────────────────────┘\n",
       "\n",
       "\u001b[1mPowerSimulations Problem Variables Results\u001b[0m\n",
       "┌────────────────────────────────────────────────────────────────────┐\n",
       "│ StartVariable__ThermalStandard                                     │\n",
       "│ ActivePowerReserveVariable__VariableReserve__ReserveUp__Spin_Up_R1 │\n",
       "│ ActivePowerVariable__RenewableDispatch                             │\n",
       "│ ActivePowerVariable__ThermalStandard                               │\n",
       "│ ActivePowerReserveVariable__VariableReserve__ReserveUp__Spin_Up_R3 │\n",
       "│ StopVariable__ThermalStandard                                      │\n",
       "│ ActivePowerReserveVariable__VariableReserve__ReserveDown__Reg_Down │\n",
       "│ ActivePowerVariable__HydroDispatch                                 │\n",
       "│ ActivePowerReserveVariable__VariableReserve__ReserveUp__Spin_Up_R2 │\n",
       "│ ActivePowerReserveVariable__VariableReserve__ReserveUp__Reg_Up     │\n",
       "│ OnVariable__ThermalStandard                                        │\n",
       "└────────────────────────────────────────────────────────────────────┘\n"
      ]
     },
     "metadata": {},
     "output_type": "display_data"
    }
   ],
   "source": [
    "res = OptimizationProblemResults(problem)"
   ]
  },
  {
   "cell_type": "code",
   "execution_count": 9,
   "metadata": {},
   "outputs": [
    {
     "data": {
      "text/plain": [
       "Dict{String, DataFrames.DataFrame} with 11 entries:\n",
       "  \"ActivePowerReserveVaria… => \u001b[1m1×52 DataFrame\u001b[0m\u001b[0m…\n",
       "  \"StopVariable__ThermalSt… => \u001b[1m1×55 DataFrame\u001b[0m\u001b[0m…\n",
       "  \"ActivePowerReserveVaria… => \u001b[1m1×52 DataFrame\u001b[0m\u001b[0m…\n",
       "  \"OnVariable__ThermalStan… => \u001b[1m1×55 DataFrame\u001b[0m\u001b[0m…\n",
       "  \"ActivePowerVariable__Hy… => \u001b[1m1×2 DataFrame\u001b[0m\u001b[0m…\n",
       "  \"ActivePowerReserveVaria… => \u001b[1m1×19 DataFrame\u001b[0m\u001b[0m…\n",
       "  \"StartVariable__ThermalS… => \u001b[1m1×55 DataFrame\u001b[0m\u001b[0m…\n",
       "  \"ActivePowerVariable__Th… => \u001b[1m1×55 DataFrame\u001b[0m\u001b[0m…\n",
       "  \"ActivePowerVariable__Re… => \u001b[1m1×30 DataFrame\u001b[0m\u001b[0m…\n",
       "  \"ActivePowerReserveVaria… => \u001b[1m1×18 DataFrame\u001b[0m\u001b[0m…\n",
       "  \"ActivePowerReserveVaria… => \u001b[1m1×17 DataFrame\u001b[0m\u001b[0m…"
      ]
     },
     "metadata": {},
     "output_type": "display_data"
    }
   ],
   "source": [
    "read_variables(res)"
   ]
  },
  {
   "cell_type": "code",
   "execution_count": 15,
   "metadata": {},
   "outputs": [
    {
     "data": {
      "text/html": [
       "<div><div style = \"float: left;\"><span>1×30 DataFrame</span></div><div style = \"clear: both;\"></div></div><div class = \"data-frame\" style = \"overflow-x: scroll;\"><table class = \"data-frame\" style = \"margin-bottom: 6px;\"><thead><tr class = \"header\"><th class = \"rowNumber\" style = \"font-weight: bold; text-align: right;\">Row</th><th style = \"text-align: left;\">DateTime</th><th style = \"text-align: left;\">122_WIND_1</th><th style = \"text-align: left;\">324_PV_3</th><th style = \"text-align: left;\">312_PV_1</th><th style = \"text-align: left;\">102_PV_1</th><th style = \"text-align: left;\">101_PV_1</th><th style = \"text-align: left;\">324_PV_2</th><th style = \"text-align: left;\">313_PV_2</th><th style = \"text-align: left;\">104_PV_1</th><th style = \"text-align: left;\">101_PV_2</th><th style = \"text-align: left;\">309_WIND_1</th><th style = \"text-align: left;\">310_PV_2</th><th style = \"text-align: left;\">113_PV_1</th><th style = \"text-align: left;\">317_WIND_1</th><th style = \"text-align: left;\">314_PV_1</th><th style = \"text-align: left;\">324_PV_1</th><th style = \"text-align: left;\">103_PV_1</th><th style = \"text-align: left;\">303_WIND_1</th><th style = \"text-align: left;\">314_PV_2</th><th style = \"text-align: left;\">102_PV_2</th><th style = \"text-align: left;\">314_PV_3</th><th style = \"text-align: left;\">320_PV_1</th><th style = \"text-align: left;\">101_PV_3</th><th style = \"text-align: left;\">319_PV_1</th><th style = \"text-align: left;\">314_PV_4</th><th style = \"text-align: left;\">310_PV_1</th><th style = \"text-align: left;\">215_PV_1</th><th style = \"text-align: left;\">313_PV_1</th><th style = \"text-align: left;\">101_PV_4</th><th style = \"text-align: left;\">119_PV_1</th></tr><tr class = \"subheader headerLastRow\"><th class = \"rowNumber\" style = \"font-weight: bold; text-align: right;\"></th><th title = \"DateTime\" style = \"text-align: left;\">DateTime</th><th title = \"Float64\" style = \"text-align: left;\">Float64</th><th title = \"Float64\" style = \"text-align: left;\">Float64</th><th title = \"Float64\" style = \"text-align: left;\">Float64</th><th title = \"Float64\" style = \"text-align: left;\">Float64</th><th title = \"Float64\" style = \"text-align: left;\">Float64</th><th title = \"Float64\" style = \"text-align: left;\">Float64</th><th title = \"Float64\" style = \"text-align: left;\">Float64</th><th title = \"Float64\" style = \"text-align: left;\">Float64</th><th title = \"Float64\" style = \"text-align: left;\">Float64</th><th title = \"Float64\" style = \"text-align: left;\">Float64</th><th title = \"Float64\" style = \"text-align: left;\">Float64</th><th title = \"Float64\" style = \"text-align: left;\">Float64</th><th title = \"Float64\" style = \"text-align: left;\">Float64</th><th title = \"Float64\" style = \"text-align: left;\">Float64</th><th title = \"Float64\" style = \"text-align: left;\">Float64</th><th title = \"Float64\" style = \"text-align: left;\">Float64</th><th title = \"Float64\" style = \"text-align: left;\">Float64</th><th title = \"Float64\" style = \"text-align: left;\">Float64</th><th title = \"Float64\" style = \"text-align: left;\">Float64</th><th title = \"Float64\" style = \"text-align: left;\">Float64</th><th title = \"Float64\" style = \"text-align: left;\">Float64</th><th title = \"Float64\" style = \"text-align: left;\">Float64</th><th title = \"Float64\" style = \"text-align: left;\">Float64</th><th title = \"Float64\" style = \"text-align: left;\">Float64</th><th title = \"Float64\" style = \"text-align: left;\">Float64</th><th title = \"Float64\" style = \"text-align: left;\">Float64</th><th title = \"Float64\" style = \"text-align: left;\">Float64</th><th title = \"Float64\" style = \"text-align: left;\">Float64</th><th title = \"Float64\" style = \"text-align: left;\">Float64</th></tr></thead><tbody><tr><td class = \"rowNumber\" style = \"font-weight: bold; text-align: right;\">1</td><td style = \"text-align: left;\">2020-01-01T00:00:00</td><td style = \"text-align: right;\">713.2</td><td style = \"text-align: right;\">0.0</td><td style = \"text-align: right;\">0.0</td><td style = \"text-align: right;\">0.0</td><td style = \"text-align: right;\">0.0</td><td style = \"text-align: right;\">0.0</td><td style = \"text-align: right;\">0.0</td><td style = \"text-align: right;\">0.0</td><td style = \"text-align: right;\">0.0</td><td style = \"text-align: right;\">142.8</td><td style = \"text-align: right;\">0.0</td><td style = \"text-align: right;\">0.0</td><td style = \"text-align: right;\">795.1</td><td style = \"text-align: right;\">0.0</td><td style = \"text-align: right;\">0.0</td><td style = \"text-align: right;\">0.0</td><td style = \"text-align: right;\">480.8</td><td style = \"text-align: right;\">0.0</td><td style = \"text-align: right;\">0.0</td><td style = \"text-align: right;\">0.0</td><td style = \"text-align: right;\">0.0</td><td style = \"text-align: right;\">0.0</td><td style = \"text-align: right;\">0.0</td><td style = \"text-align: right;\">0.0</td><td style = \"text-align: right;\">0.0</td><td style = \"text-align: right;\">0.0</td><td style = \"text-align: right;\">0.0</td><td style = \"text-align: right;\">0.0</td><td style = \"text-align: right;\">0.0</td></tr></tbody></table></div>"
      ],
      "text/latex": [
       "\\begin{tabular}{r|cccccccc}\n",
       "\t& DateTime & 122\\_WIND\\_1 & 324\\_PV\\_3 & 312\\_PV\\_1 & 102\\_PV\\_1 & 101\\_PV\\_1 & 324\\_PV\\_2 & \\\\\n",
       "\t\\hline\n",
       "\t& DateTime & Float64 & Float64 & Float64 & Float64 & Float64 & Float64 & \\\\\n",
       "\t\\hline\n",
       "\t1 & 2020-01-01T00:00:00 & 713.2 & 0.0 & 0.0 & 0.0 & 0.0 & 0.0 & $\\dots$ \\\\\n",
       "\\end{tabular}\n"
      ],
      "text/plain": [
       "\u001b[1m1×30 DataFrame\u001b[0m\n",
       "\u001b[1m Row \u001b[0m│\u001b[1m DateTime            \u001b[0m\u001b[1m 122_WIND_1 \u001b[0m\u001b[1m 324_PV_3 \u001b[0m\u001b[1m 312_PV_1 \u001b[0m\u001b[1m 102_PV_1 \u001b[0m\u001b[1m 101_PV_1\u001b[0m ⋯\n",
       "     │\u001b[90m DateTime            \u001b[0m\u001b[90m Float64    \u001b[0m\u001b[90m Float64  \u001b[0m\u001b[90m Float64  \u001b[0m\u001b[90m Float64  \u001b[0m\u001b[90m Float64 \u001b[0m ⋯\n",
       "─────┼──────────────────────────────────────────────────────────────────────────\n",
       "   1 │ 2020-01-01T00:00:00       713.2       0.0       0.0       0.0       0.0 ⋯\n",
       "\u001b[36m                                                              24 columns omitted\u001b[0m"
      ]
     },
     "metadata": {},
     "output_type": "display_data"
    }
   ],
   "source": [
    "renewable_param = read_parameter(res, \"ActivePowerTimeSeriesParameter__RenewableDispatch\")"
   ]
  },
  {
   "cell_type": "code",
   "execution_count": 18,
   "metadata": {},
   "outputs": [
    {
     "data": {
      "text/html": [
       "<div><div style = \"float: left;\"><span>1×55 DataFrame</span></div><div style = \"clear: both;\"></div></div><div class = \"data-frame\" style = \"overflow-x: scroll;\"><table class = \"data-frame\" style = \"margin-bottom: 6px;\"><thead><tr class = \"header\"><th class = \"rowNumber\" style = \"font-weight: bold; text-align: right;\">Row</th><th style = \"text-align: left;\">DateTime</th><th style = \"text-align: left;\">322_CT_6</th><th style = \"text-align: left;\">321_CC_1</th><th style = \"text-align: left;\">202_STEAM_3</th><th style = \"text-align: left;\">223_CT_4</th><th style = \"text-align: left;\">123_STEAM_2</th><th style = \"text-align: left;\">213_CT_1</th><th style = \"text-align: left;\">223_CT_6</th><th style = \"text-align: left;\">313_CC_1</th><th style = \"text-align: left;\">101_STEAM_3</th><th style = \"text-align: left;\">123_CT_1</th><th style = \"text-align: left;\">113_CT_3</th><th style = \"text-align: left;\">302_CT_3</th><th style = \"text-align: left;\">215_CT_4</th><th style = \"text-align: left;\">102_STEAM_3</th><th style = \"text-align: left;\">301_CT_4</th><th style = \"text-align: left;\">113_CT_2</th><th style = \"text-align: left;\">221_CC_1</th><th style = \"text-align: left;\">223_CT_5</th><th style = \"text-align: left;\">315_CT_7</th><th style = \"text-align: left;\">215_CT_5</th><th style = \"text-align: left;\">323_CC_1</th><th style = \"text-align: left;\">101_STEAM_4</th><th style = \"text-align: left;\">113_CT_1</th><th style = \"text-align: left;\">223_STEAM_3</th><th style = \"text-align: left;\">318_CC_1</th><th style = \"text-align: left;\">307_CT_2</th><th style = \"text-align: left;\">213_CT_2</th><th style = \"text-align: left;\">113_CT_4</th><th style = \"text-align: left;\">118_CC_1</th><th style = \"text-align: left;\">315_CT_8</th><th style = \"text-align: left;\">218_CC_1</th><th style = \"text-align: left;\">213_CC_3</th><th style = \"text-align: left;\">115_STEAM_3</th><th style = \"text-align: left;\">323_CC_2</th><th style = \"text-align: left;\">322_CT_5</th><th style = \"text-align: left;\">207_CT_2</th><th style = \"text-align: left;\">123_STEAM_3</th><th style = \"text-align: left;\">223_STEAM_1</th><th style = \"text-align: left;\">123_CT_5</th><th style = \"text-align: left;\">223_STEAM_2</th><th style = \"text-align: left;\">202_STEAM_4</th><th style = \"text-align: left;\">116_STEAM_1</th><th style = \"text-align: left;\">121_NUCLEAR_1</th><th style = \"text-align: left;\">123_CT_4</th><th style = \"text-align: left;\">207_CT_1</th><th style = \"text-align: left;\">301_CT_3</th><th style = \"text-align: left;\">316_STEAM_1</th><th style = \"text-align: left;\">216_STEAM_1</th><th style = \"text-align: left;\">315_CT_6</th><th style = \"text-align: left;\">201_STEAM_3</th><th style = \"text-align: left;\">302_CT_4</th><th style = \"text-align: left;\">307_CT_1</th><th style = \"text-align: left;\">102_STEAM_4</th><th style = \"text-align: left;\">107_CC_1</th></tr><tr class = \"subheader headerLastRow\"><th class = \"rowNumber\" style = \"font-weight: bold; text-align: right;\"></th><th title = \"DateTime\" style = \"text-align: left;\">DateTime</th><th title = \"Float64\" style = \"text-align: left;\">Float64</th><th title = \"Float64\" style = \"text-align: left;\">Float64</th><th title = \"Float64\" style = \"text-align: left;\">Float64</th><th title = \"Float64\" style = \"text-align: left;\">Float64</th><th title = \"Float64\" style = \"text-align: left;\">Float64</th><th title = \"Float64\" style = \"text-align: left;\">Float64</th><th title = \"Float64\" style = \"text-align: left;\">Float64</th><th title = \"Float64\" style = \"text-align: left;\">Float64</th><th title = \"Float64\" style = \"text-align: left;\">Float64</th><th title = \"Float64\" style = \"text-align: left;\">Float64</th><th title = \"Float64\" style = \"text-align: left;\">Float64</th><th title = \"Float64\" style = \"text-align: left;\">Float64</th><th title = \"Float64\" style = \"text-align: left;\">Float64</th><th title = \"Float64\" style = \"text-align: left;\">Float64</th><th title = \"Float64\" style = \"text-align: left;\">Float64</th><th title = \"Float64\" style = \"text-align: left;\">Float64</th><th title = \"Float64\" style = \"text-align: left;\">Float64</th><th title = \"Float64\" style = \"text-align: left;\">Float64</th><th title = \"Float64\" style = \"text-align: left;\">Float64</th><th title = \"Float64\" style = \"text-align: left;\">Float64</th><th title = \"Float64\" style = \"text-align: left;\">Float64</th><th title = \"Float64\" style = \"text-align: left;\">Float64</th><th title = \"Float64\" style = \"text-align: left;\">Float64</th><th title = \"Float64\" style = \"text-align: left;\">Float64</th><th title = \"Float64\" style = \"text-align: left;\">Float64</th><th title = \"Float64\" style = \"text-align: left;\">Float64</th><th title = \"Float64\" style = \"text-align: left;\">Float64</th><th title = \"Float64\" style = \"text-align: left;\">Float64</th><th title = \"Float64\" style = \"text-align: left;\">Float64</th><th title = \"Float64\" style = \"text-align: left;\">Float64</th><th title = \"Float64\" style = \"text-align: left;\">Float64</th><th title = \"Float64\" style = \"text-align: left;\">Float64</th><th title = \"Float64\" style = \"text-align: left;\">Float64</th><th title = \"Float64\" style = \"text-align: left;\">Float64</th><th title = \"Float64\" style = \"text-align: left;\">Float64</th><th title = \"Float64\" style = \"text-align: left;\">Float64</th><th title = \"Float64\" style = \"text-align: left;\">Float64</th><th title = \"Float64\" style = \"text-align: left;\">Float64</th><th title = \"Float64\" style = \"text-align: left;\">Float64</th><th title = \"Float64\" style = \"text-align: left;\">Float64</th><th title = \"Float64\" style = \"text-align: left;\">Float64</th><th title = \"Float64\" style = \"text-align: left;\">Float64</th><th title = \"Float64\" style = \"text-align: left;\">Float64</th><th title = \"Float64\" style = \"text-align: left;\">Float64</th><th title = \"Float64\" style = \"text-align: left;\">Float64</th><th title = \"Float64\" style = \"text-align: left;\">Float64</th><th title = \"Float64\" style = \"text-align: left;\">Float64</th><th title = \"Float64\" style = \"text-align: left;\">Float64</th><th title = \"Float64\" style = \"text-align: left;\">Float64</th><th title = \"Float64\" style = \"text-align: left;\">Float64</th><th title = \"Float64\" style = \"text-align: left;\">Float64</th><th title = \"Float64\" style = \"text-align: left;\">Float64</th><th title = \"Float64\" style = \"text-align: left;\">Float64</th><th title = \"Float64\" style = \"text-align: left;\">Float64</th></tr></thead><tbody><tr><td class = \"rowNumber\" style = \"font-weight: bold; text-align: right;\">1</td><td style = \"text-align: left;\">2020-01-01T00:00:00</td><td style = \"text-align: right;\">1031.7</td><td style = \"text-align: right;\">4775.8</td><td style = \"text-align: right;\">0.0</td><td style = \"text-align: right;\">1692.76</td><td style = \"text-align: right;\">0.0</td><td style = \"text-align: right;\">1122.43</td><td style = \"text-align: right;\">1692.76</td><td style = \"text-align: right;\">6213.12</td><td style = \"text-align: right;\">0.0</td><td style = \"text-align: right;\">1088.23</td><td style = \"text-align: right;\">1122.43</td><td style = \"text-align: right;\">1316.56</td><td style = \"text-align: right;\">1216.85</td><td style = \"text-align: right;\">0.0</td><td style = \"text-align: right;\">1119.44</td><td style = \"text-align: right;\">1122.43</td><td style = \"text-align: right;\">4551.12</td><td style = \"text-align: right;\">1692.76</td><td style = \"text-align: right;\">884.436</td><td style = \"text-align: right;\">1216.85</td><td style = \"text-align: right;\">4877.57</td><td style = \"text-align: right;\">0.0</td><td style = \"text-align: right;\">1122.43</td><td style = \"text-align: right;\">3323.32</td><td style = \"text-align: right;\">5254.9</td><td style = \"text-align: right;\">1141.93</td><td style = \"text-align: right;\">1122.43</td><td style = \"text-align: right;\">1122.43</td><td style = \"text-align: right;\">4795.62</td><td style = \"text-align: right;\">884.436</td><td style = \"text-align: right;\">8211.19</td><td style = \"text-align: right;\">5170.31</td><td style = \"text-align: right;\">0.0</td><td style = \"text-align: right;\">4877.57</td><td style = \"text-align: right;\">1031.7</td><td style = \"text-align: right;\">1116.11</td><td style = \"text-align: right;\">3582.87</td><td style = \"text-align: right;\">0.0</td><td style = \"text-align: right;\">1088.23</td><td style = \"text-align: right;\">0.0</td><td style = \"text-align: right;\">0.0</td><td style = \"text-align: right;\">0.0</td><td style = \"text-align: right;\">3208.99</td><td style = \"text-align: right;\">1088.23</td><td style = \"text-align: right;\">1116.11</td><td style = \"text-align: right;\">1119.44</td><td style = \"text-align: right;\">0.0</td><td style = \"text-align: right;\">0.0</td><td style = \"text-align: right;\">884.436</td><td style = \"text-align: right;\">0.0</td><td style = \"text-align: right;\">1316.56</td><td style = \"text-align: right;\">1141.93</td><td style = \"text-align: right;\">0.0</td><td style = \"text-align: right;\">4772.5</td></tr></tbody></table></div>"
      ],
      "text/latex": [
       "\\begin{tabular}{r|cccccccc}\n",
       "\t& DateTime & 322\\_CT\\_6 & 321\\_CC\\_1 & 202\\_STEAM\\_3 & 223\\_CT\\_4 & 123\\_STEAM\\_2 & 213\\_CT\\_1 & \\\\\n",
       "\t\\hline\n",
       "\t& DateTime & Float64 & Float64 & Float64 & Float64 & Float64 & Float64 & \\\\\n",
       "\t\\hline\n",
       "\t1 & 2020-01-01T00:00:00 & 1031.7 & 4775.8 & 0.0 & 1692.76 & 0.0 & 1122.43 & $\\dots$ \\\\\n",
       "\\end{tabular}\n"
      ],
      "text/plain": [
       "\u001b[1m1×55 DataFrame\u001b[0m\n",
       "\u001b[1m Row \u001b[0m│\u001b[1m DateTime            \u001b[0m\u001b[1m 322_CT_6 \u001b[0m\u001b[1m 321_CC_1 \u001b[0m\u001b[1m 202_STEAM_3 \u001b[0m\u001b[1m 223_CT_4 \u001b[0m\u001b[1m 123_STE\u001b[0m ⋯\n",
       "     │\u001b[90m DateTime            \u001b[0m\u001b[90m Float64  \u001b[0m\u001b[90m Float64  \u001b[0m\u001b[90m Float64     \u001b[0m\u001b[90m Float64  \u001b[0m\u001b[90m Float64\u001b[0m ⋯\n",
       "─────┼──────────────────────────────────────────────────────────────────────────\n",
       "   1 │ 2020-01-01T00:00:00    1031.7    4775.8          0.0   1692.76          ⋯\n",
       "\u001b[36m                                                              50 columns omitted\u001b[0m"
      ]
     },
     "metadata": {},
     "output_type": "display_data"
    }
   ],
   "source": [
    "# Read active power of Thermal Standard\n",
    "thermal_active_power = read_variable(res, \"ActivePowerVariable__ThermalStandard\")\n",
    "\n",
    "# Read cost expressions of ThermalStandard units\n",
    "cost_thermal = read_expression(res, \"ProductionCostExpression__ThermalStandard\")"
   ]
  },
  {
   "cell_type": "code",
   "execution_count": 11,
   "metadata": {},
   "outputs": [
    {
     "data": {
      "text/plain": [
       "9-element Vector{String}:\n",
       " \"RequirementTimeSeriesParameter__VariableReserve__ReserveUp__Reg_Up\"\n",
       " \"RequirementTimeSeriesParameter__VariableReserve__ReserveDown__Reg_Down\"\n",
       " \"RequirementTimeSeriesParameter__VariableReserve__ReserveUp__Spin_Up_R1\"\n",
       " \"ActivePowerTimeSeriesParameter__RenewableNonDispatch\"\n",
       " \"ActivePowerTimeSeriesParameter__HydroDispatch\"\n",
       " \"ActivePowerTimeSeriesParameter__RenewableDispatch\"\n",
       " \"RequirementTimeSeriesParameter__VariableReserve__ReserveUp__Spin_Up_R2\"\n",
       " \"RequirementTimeSeriesParameter__VariableReserve__ReserveUp__Spin_Up_R3\"\n",
       " \"ActivePowerTimeSeriesParameter__PowerLoad\""
      ]
     },
     "metadata": {},
     "output_type": "display_data"
    }
   ],
   "source": [
    "list_parameter_names(res)"
   ]
  },
  {
   "cell_type": "code",
   "execution_count": 13,
   "metadata": {},
   "outputs": [],
   "source": [
    "using PowerAnalytics"
   ]
  },
  {
   "cell_type": "code",
   "execution_count": 14,
   "metadata": {},
   "outputs": [
    {
     "ename": "UndefVarError",
     "evalue": "UndefVarError: `plot_powerdata` not defined in `Main`\nSuggestion: check for spelling errors or missing imports.",
     "output_type": "error",
     "traceback": [
      "UndefVarError: `plot_powerdata` not defined in `Main`\n",
      "Suggestion: check for spelling errors or missing imports.\n",
      "\n",
      "Stacktrace:\n",
      " [1] top-level scope\n",
      "   @ ~/ecen5407/ecen5407_project2/jl_notebook_cell_df34fa98e69747e1a8f8a730347b8e2f_X41sdnNjb2RlLXJlbW90ZQ==.jl:2"
     ]
    }
   ],
   "source": [
    "gen = get_generation_data(res)\n",
    "plot_powerdata(gen)"
   ]
  },
  {
   "cell_type": "code",
   "execution_count": null,
   "metadata": {},
   "outputs": [],
   "source": []
  }
 ],
 "metadata": {
  "kernelspec": {
   "display_name": "Julia 1.11.1",
   "language": "julia",
   "name": "julia-1.11"
  },
  "language_info": {
   "file_extension": ".jl",
   "mimetype": "application/julia",
   "name": "julia",
   "version": "1.11.1"
  }
 },
 "nbformat": 4,
 "nbformat_minor": 2
}
