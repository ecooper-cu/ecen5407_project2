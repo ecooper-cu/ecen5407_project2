{
 "cells": [
  {
   "cell_type": "code",
   "execution_count": 26,
   "metadata": {},
   "outputs": [],
   "source": [
    "# Import each module in the order that it will be executed\n",
    "import PySAM.Pvsamv1 as PVSAM\n",
    "import PySAM.Grid as Grid\n",
    "import PySAM.Battery as Battery\n",
    "import PySAM.Windpower as Windpower\n",
    "import PySAM.Utilityrate5 as UtilityRate\n",
    "import PySAM.Singleowner as SingleOwner\n",
    "# import PySAM.Hybrids as Hybrids\n",
    "\n",
    "# Also import JSON to load the inputs\n",
    "import json\n",
    "# For paths\n",
    "import os\n",
    "import pandas as pd\n",
    "import pathlib"
   ]
  },
  {
   "cell_type": "code",
   "execution_count": 2,
   "metadata": {},
   "outputs": [
    {
     "name": "stdout",
     "output_type": "stream",
     "text": [
      "Loading inputs from /home/emco4286/ecen5407/ecen5407_project2/data/PySam_Inputs/Minimum Viable System/project2_pvsamv1.json\n",
      "Loading inputs from /home/emco4286/ecen5407/ecen5407_project2/data/PySam_Inputs/Minimum Viable System/project2_battery.json\n",
      "Loading inputs from /home/emco4286/ecen5407/ecen5407_project2/data/PySam_Inputs/Minimum Viable System/project2_grid.json\n",
      "Loading inputs from /home/emco4286/ecen5407/ecen5407_project2/data/PySam_Inputs/Minimum Viable System/project2_utilityrate5.json\n",
      "Loading inputs from /home/emco4286/ecen5407/ecen5407_project2/data/PySam_Inputs/Minimum Viable System/project2_singleowner.json\n"
     ]
    }
   ],
   "source": [
    "pv_model = PVSAM.new()\n",
    "battery = Battery.from_existing(pv_model)\n",
    "# windpower = Windpower.from_existing(pv_model)\n",
    "grid = Grid.from_existing(pv_model)\n",
    "utility_rate = UtilityRate.from_existing(pv_model)\n",
    "single_owner = SingleOwner.from_existing(pv_model)\n",
    "\n",
    "# %% Load the inputs from the JSON file for each module\n",
    "dir = 'data/PySAM_Inputs/Minimum Viable System/'\n",
    "prefix = 'project2_'\n",
    "file_names = [\"pvsamv1\", \"battery\", \"grid\", \"utilityrate5\", \"singleowner\"]\n",
    "modules = [pv_model, battery, grid, utility_rate, single_owner]\n",
    "for f, m in zip(file_names, modules):\n",
    "    filepath = os.path.join(pathlib.Path.home(), 'ecen5407', 'ecen5407_project2', \"data\", \"PySam_Inputs\", \"Minimum Viable System\", prefix + f + '.json')\n",
    "    print(f\"Loading inputs from {filepath}\")\n",
    "    with open(filepath, 'r') as file:\n",
    "        data = json.load(file)\n",
    "        # Loop through each key-value pair and set the module inputs\n",
    "        for k, v in data.items():\n",
    "            # Note: I'm ignoring any 'adjustment factors' here, but these can be set afterwards.\n",
    "            # See: https://nrel-pysam.readthedocs.io/en/main/modules/Pvsamv1.html#adjustmentfactors-group\n",
    "            if k != 'number_inputs' and 'adjust_' not in k:\n",
    "                try:\n",
    "                    m.value(k, v)\n",
    "                except:\n",
    "                    continue"
   ]
  },
  {
   "cell_type": "code",
   "execution_count": 3,
   "metadata": {},
   "outputs": [],
   "source": [
    "filename = os.path.join(pathlib.Path.home(), 'ecen5407', 'ecen5407_project2', \"data\", \"222628_32.73_-117.18_2012_interpolated.csv\")\n",
    "pv_model.SolarResource.solar_resource_file = filename\n",
    "pv_model.BatterySystem.batt_replacement_option = 0"
   ]
  },
  {
   "cell_type": "code",
   "execution_count": 4,
   "metadata": {},
   "outputs": [],
   "source": [
    "modules = [pv_model, battery, grid, utility_rate, single_owner]\n",
    "for m in modules:\n",
    "    m.execute()"
   ]
  },
  {
   "cell_type": "code",
   "execution_count": null,
   "metadata": {},
   "outputs": [],
   "source": [
    "import pandas as pd"
   ]
  },
  {
   "cell_type": "code",
   "execution_count": 9,
   "metadata": {},
   "outputs": [],
   "source": [
    "nsrdb = pd.read_csv(filename, skiprows=2, usecols=['Year', 'Month', 'Day', 'Hour', 'Minute', 'Temperature', 'DHI', 'GHI',\n",
    "       'DNI', 'Surface Albedo', 'Wind Speed', 'Pressure'])\n",
    "local_index = pd.DatetimeIndex(nsrdb['Year'].astype(str) + '-' + nsrdb['Month'].astype(str) +\n",
    "                             '-' + nsrdb['Day'].astype(str) + ' ' + nsrdb['Hour'].astype(str) +\n",
    "                               ':' + nsrdb['Minute'].astype(str))"
   ]
  },
  {
   "cell_type": "code",
   "execution_count": 21,
   "metadata": {},
   "outputs": [],
   "source": [
    "leap_day = pd.date_range(start='2012-02-29 00:00:00',end='2012-02-29 23:55:00', freq='5min')\n",
    "new_index = local_index.drop(leap_day)"
   ]
  },
  {
   "cell_type": "code",
   "execution_count": 22,
   "metadata": {},
   "outputs": [],
   "source": [
    "generation = pd.Series(data=list(pv_model.Outputs.gen), index=new_index)"
   ]
  },
  {
   "cell_type": "code",
   "execution_count": 24,
   "metadata": {},
   "outputs": [],
   "source": [
    "\n",
    "save_pt = os.path.join(pathlib.Path.home(), 'ecen5407', 'ecen5407_project2', \"data\", \"sienna_pv_gen.csv\")\n",
    "generation.to_csv(save_pt)"
   ]
  },
  {
   "cell_type": "code",
   "execution_count": 25,
   "metadata": {},
   "outputs": [],
   "source": [
    "# nsrdb['ac_gross'] = list(pv_model.Outputs.ac_gross)[:105408]\n",
    "# nsrdb['dc_net'] = list(pv_model.Outputs.dc_net)[:105408]\n",
    "\n",
    "# nsrdb['batt_capacity_percent'] = list(pv_model.Outputs.batt_capacity_percent)[:105408]\n",
    "# nsrdb[\"batt_power_dc\"] = list(pv_model.Outputs.batt_power_dc)[:105408]\n",
    "# nsrdb[\"batt_power\"] = list(pv_model.Outputs.batt_power)[:105408]\n",
    "# nsrdb[\"gen\"] = list(pv_model.Outputs.gen)[:105408]\n",
    "# nsrdb['batt_SOC'] = list(pv_model.Outputs.batt_SOC)[:105408]"
   ]
  },
  {
   "cell_type": "code",
   "execution_count": 27,
   "metadata": {},
   "outputs": [],
   "source": [
    "base_dir = os.path.join(pathlib.Path.home(), 'ecen5407', 'ecen5407_project2')\n",
    "data_pt = os.path.join(base_dir, \"data\", \"Project 2 - Load Profile_modified_index2.csv\")\n",
    "\n",
    "load = pd.read_csv(data_pt)"
   ]
  },
  {
   "cell_type": "code",
   "execution_count": 28,
   "metadata": {},
   "outputs": [
    {
     "data": {
      "text/html": [
       "<div>\n",
       "<style scoped>\n",
       "    .dataframe tbody tr th:only-of-type {\n",
       "        vertical-align: middle;\n",
       "    }\n",
       "\n",
       "    .dataframe tbody tr th {\n",
       "        vertical-align: top;\n",
       "    }\n",
       "\n",
       "    .dataframe thead th {\n",
       "        text-align: right;\n",
       "    }\n",
       "</style>\n",
       "<table border=\"1\" class=\"dataframe\">\n",
       "  <thead>\n",
       "    <tr style=\"text-align: right;\">\n",
       "      <th></th>\n",
       "      <th>Datetime</th>\n",
       "      <th>Datetime.1</th>\n",
       "      <th>Load (MW)</th>\n",
       "    </tr>\n",
       "  </thead>\n",
       "  <tbody>\n",
       "    <tr>\n",
       "      <th>0</th>\n",
       "      <td>2012-01-01 00:00:00</td>\n",
       "      <td>1/1/2012 0:00</td>\n",
       "      <td>0.354184</td>\n",
       "    </tr>\n",
       "    <tr>\n",
       "      <th>1</th>\n",
       "      <td>2012-01-01 00:05:00</td>\n",
       "      <td>1/1/2012 0:05</td>\n",
       "      <td>0.352521</td>\n",
       "    </tr>\n",
       "    <tr>\n",
       "      <th>2</th>\n",
       "      <td>2012-01-01 00:10:00</td>\n",
       "      <td>1/1/2012 0:10</td>\n",
       "      <td>0.351602</td>\n",
       "    </tr>\n",
       "    <tr>\n",
       "      <th>3</th>\n",
       "      <td>2012-01-01 00:15:00</td>\n",
       "      <td>1/1/2012 0:15</td>\n",
       "      <td>0.349985</td>\n",
       "    </tr>\n",
       "    <tr>\n",
       "      <th>4</th>\n",
       "      <td>2012-01-01 00:20:00</td>\n",
       "      <td>1/1/2012 0:20</td>\n",
       "      <td>0.349208</td>\n",
       "    </tr>\n",
       "    <tr>\n",
       "      <th>...</th>\n",
       "      <td>...</td>\n",
       "      <td>...</td>\n",
       "      <td>...</td>\n",
       "    </tr>\n",
       "    <tr>\n",
       "      <th>105403</th>\n",
       "      <td>2012-12-31 23:35:00</td>\n",
       "      <td>12/31/2012 23:35</td>\n",
       "      <td>0.395603</td>\n",
       "    </tr>\n",
       "    <tr>\n",
       "      <th>105404</th>\n",
       "      <td>2012-12-31 23:40:00</td>\n",
       "      <td>12/31/2012 23:40</td>\n",
       "      <td>0.393632</td>\n",
       "    </tr>\n",
       "    <tr>\n",
       "      <th>105405</th>\n",
       "      <td>2012-12-31 23:45:00</td>\n",
       "      <td>12/31/2012 23:45</td>\n",
       "      <td>0.391683</td>\n",
       "    </tr>\n",
       "    <tr>\n",
       "      <th>105406</th>\n",
       "      <td>2012-12-31 23:50:00</td>\n",
       "      <td>12/31/2012 23:50</td>\n",
       "      <td>0.389567</td>\n",
       "    </tr>\n",
       "    <tr>\n",
       "      <th>105407</th>\n",
       "      <td>2012-12-31 23:55:00</td>\n",
       "      <td>12/31/2012 23:55</td>\n",
       "      <td>0.387401</td>\n",
       "    </tr>\n",
       "  </tbody>\n",
       "</table>\n",
       "<p>105408 rows × 3 columns</p>\n",
       "</div>"
      ],
      "text/plain": [
       "                   Datetime        Datetime.1  Load (MW)\n",
       "0       2012-01-01 00:00:00     1/1/2012 0:00   0.354184\n",
       "1       2012-01-01 00:05:00     1/1/2012 0:05   0.352521\n",
       "2       2012-01-01 00:10:00     1/1/2012 0:10   0.351602\n",
       "3       2012-01-01 00:15:00     1/1/2012 0:15   0.349985\n",
       "4       2012-01-01 00:20:00     1/1/2012 0:20   0.349208\n",
       "...                     ...               ...        ...\n",
       "105403  2012-12-31 23:35:00  12/31/2012 23:35   0.395603\n",
       "105404  2012-12-31 23:40:00  12/31/2012 23:40   0.393632\n",
       "105405  2012-12-31 23:45:00  12/31/2012 23:45   0.391683\n",
       "105406  2012-12-31 23:50:00  12/31/2012 23:50   0.389567\n",
       "105407  2012-12-31 23:55:00  12/31/2012 23:55   0.387401\n",
       "\n",
       "[105408 rows x 3 columns]"
      ]
     },
     "execution_count": 28,
     "metadata": {},
     "output_type": "execute_result"
    }
   ],
   "source": [
    "load"
   ]
  },
  {
   "cell_type": "code",
   "execution_count": 32,
   "metadata": {},
   "outputs": [],
   "source": [
    "my_index = pd.DatetimeIndex(load['Datetime'])\n",
    "load.set_index(my_index, inplace=True)"
   ]
  },
  {
   "cell_type": "code",
   "execution_count": 33,
   "metadata": {},
   "outputs": [],
   "source": [
    "leap_day = pd.date_range(start='2012-02-29 00:00:00',end='2012-02-29 23:55:00', freq='5min')\n",
    "new_index = my_index.drop(leap_day)"
   ]
  },
  {
   "cell_type": "code",
   "execution_count": 36,
   "metadata": {},
   "outputs": [],
   "source": [
    "data = load.loc[new_index, 'Load (MW)'].values"
   ]
  },
  {
   "cell_type": "code",
   "execution_count": 37,
   "metadata": {},
   "outputs": [],
   "source": [
    "electric_load = pd.Series(index=new_index, data=data)"
   ]
  },
  {
   "cell_type": "code",
   "execution_count": 38,
   "metadata": {},
   "outputs": [],
   "source": [
    "save_pt = os.path.join(pathlib.Path.home(), 'ecen5407', 'ecen5407_project2', \"data\", \"sienna_load.csv\")\n",
    "electric_load.to_csv(save_pt)"
   ]
  },
  {
   "cell_type": "code",
   "execution_count": null,
   "metadata": {},
   "outputs": [],
   "source": []
  }
 ],
 "metadata": {
  "kernelspec": {
   "display_name": "ecen5417",
   "language": "python",
   "name": "ecen5417"
  },
  "language_info": {
   "codemirror_mode": {
    "name": "ipython",
    "version": 3
   },
   "file_extension": ".py",
   "mimetype": "text/x-python",
   "name": "python",
   "nbconvert_exporter": "python",
   "pygments_lexer": "ipython3",
   "version": "3.10.12"
  }
 },
 "nbformat": 4,
 "nbformat_minor": 2
}
