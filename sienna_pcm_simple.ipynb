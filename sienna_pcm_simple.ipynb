{
 "cells": [
  {
   "cell_type": "code",
   "execution_count": 2,
   "metadata": {},
   "outputs": [],
   "source": [
    "using PowerSystems\n",
    "using Dates\n",
    "using TimeSeries\n",
    "using DataFrames\n",
    "using CSV\n",
    "using DataStructures\n",
    "using PowerSystemCaseBuilder\n",
    "using PowerSimulations\n",
    "using HiGHS"
   ]
  },
  {
   "cell_type": "code",
   "execution_count": 3,
   "metadata": {},
   "outputs": [],
   "source": [
    "# from https://github.com/NREL-Sienna/PowerSystems.jl/blob/main/docs/src/tutorials/creating_system.md\n",
    "sys = System(100.0)\n",
    "\n",
    "bus1 = ACBus(;\n",
    "    number = 1,\n",
    "    name = \"bus1\",\n",
    "    bustype = ACBusTypes.REF,\n",
    "    angle = 0.0,\n",
    "    magnitude = 1.0,\n",
    "    voltage_limits = (min = 0.9, max = 1.05),\n",
    "    base_voltage = 230.0,\n",
    ")\n",
    "\n",
    "load =  PowerLoad(;\n",
    "    name = \"bus1\",\n",
    "    available = true,\n",
    "    bus = bus1,\n",
    "    active_power = 0.0, # Per-unitized by device base_power\n",
    "    reactive_power = 0.0, # Per-unitized by device base_power\n",
    "    base_power = 100.0, # MVA\n",
    "    max_active_power = 1.0, # 10 MW per-unitized by device base_power\n",
    "    max_reactive_power = 0.0,\n",
    ")\n",
    "\n",
    "add_components!(sys, [bus1, load])"
   ]
  },
  {
   "cell_type": "code",
   "execution_count": 4,
   "metadata": {},
   "outputs": [
    {
     "data": {
      "text/plain": [
       "PowerLoad: bus1:\n",
       "   name: bus1\n",
       "   available: true\n",
       "   bus: ACBus: bus1\n",
       "   active_power: 0.0\n",
       "   reactive_power: 0.0\n",
       "   base_power: 100.0\n",
       "   max_active_power: 1.0\n",
       "   max_reactive_power: 0.0\n",
       "   services: 0-element Vector{Service}\n",
       "   dynamic_injector: nothing\n",
       "   ext: Dict{String, Any}()\n",
       "   InfrastructureSystems.SystemUnitsSettings:\n",
       "      base_value: 100.0\n",
       "      unit_system: UnitSystem.SYSTEM_BASE = 0\n",
       "   has_supplemental_attributes: false\n",
       "   has_time_series: false"
      ]
     },
     "metadata": {},
     "output_type": "display_data"
    }
   ],
   "source": [
    "get_component(PowerSystems.ElectricLoad, sys, \"bus1\")"
   ]
  },
  {
   "cell_type": "code",
   "execution_count": 5,
   "metadata": {},
   "outputs": [
    {
     "data": {
      "text/plain": [
       "ACBus: bus1:\n",
       "   number: 1\n",
       "   name: bus1\n",
       "   bustype: ACBusTypes.REF = 3\n",
       "   angle: 0.0\n",
       "   magnitude: 1.0\n",
       "   voltage_limits: (min = 0.9, max = 1.05)\n",
       "   base_voltage: 230.0\n",
       "   area: nothing\n",
       "   load_zone: nothing\n",
       "   ext: Dict{String, Any}()\n",
       "   InfrastructureSystems.SystemUnitsSettings:\n",
       "      base_value: 100.0\n",
       "      unit_system: UnitSystem.SYSTEM_BASE = 0\n",
       "   has_supplemental_attributes: false\n",
       "   has_time_series: false"
      ]
     },
     "metadata": {},
     "output_type": "display_data"
    }
   ],
   "source": [
    "get_component(PowerSystems.ACBus, sys, \"bus1\")"
   ]
  },
  {
   "cell_type": "code",
   "execution_count": 6,
   "metadata": {},
   "outputs": [
    {
     "data": {
      "text/plain": [
       "1-element Vector{TimeSeriesKey}:\n",
       " StaticTimeSeriesKey(SingleTimeSeries, \"max_active_power\", DateTime(\"2024-11-13T00:00:00\"), Millisecond(300000), 105408, Dict{String, Any}())"
      ]
     },
     "metadata": {},
     "output_type": "display_data"
    }
   ],
   "source": [
    "fname = joinpath(homedir(), \"ecen5407\", \"ecen5407_project2\", \"data\", \"sienna_pointers.json\");\n",
    "add_time_series!(sys, fname)"
   ]
  },
  {
   "cell_type": "code",
   "execution_count": null,
   "metadata": {},
   "outputs": [],
   "source": []
  }
 ],
 "metadata": {
  "kernelspec": {
   "display_name": "Julia 1.11.1",
   "language": "julia",
   "name": "julia-1.11"
  },
  "language_info": {
   "file_extension": ".jl",
   "mimetype": "application/julia",
   "name": "julia",
   "version": "1.11.1"
  }
 },
 "nbformat": 4,
 "nbformat_minor": 2
}
