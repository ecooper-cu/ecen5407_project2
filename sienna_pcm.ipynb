{
 "cells": [
  {
   "cell_type": "code",
   "execution_count": 3,
   "metadata": {},
   "outputs": [],
   "source": [
    "using PowerSystems\n",
    "using Dates\n",
    "using TimeSeries\n",
    "using DataFrames\n",
    "using CSV\n",
    "using DataStructures\n",
    "using PowerSystemCaseBuilder\n",
    "using PowerSimulations\n",
    "using HiGHS\n",
    "using HydroPowerSimulations"
   ]
  },
  {
   "cell_type": "code",
   "execution_count": 31,
   "metadata": {},
   "outputs": [],
   "source": [
    "# from https://github.com/NREL-Sienna/PowerSystems.jl/blob/main/docs/src/tutorials/creating_system.md\n",
    "sys = System(100.0)\n",
    "\n",
    "bus1 = ACBus(;\n",
    "    number = 1,\n",
    "    name = \"bus1\",\n",
    "    bustype = ACBusTypes.REF,\n",
    "    angle = 0.0,\n",
    "    magnitude = 1.0,\n",
    "    voltage_limits = (min = 0.9, max = 1.05),\n",
    "    base_voltage = 230.0,\n",
    ");\n",
    "\n",
    "bus2 = ACBus(;\n",
    "    number = 2,\n",
    "    name = \"bus2\",\n",
    "    bustype = ACBusTypes.PV,\n",
    "    angle = 0.0,\n",
    "    magnitude = 1.0,\n",
    "    voltage_limits = (min = 0.9, max = 1.05),\n",
    "    base_voltage = 230.0,\n",
    ");\n",
    "\n",
    "bus3 = ACBus(;\n",
    "    number = 3,\n",
    "    name = \"bus3\",\n",
    "    bustype = ACBusTypes.PV,\n",
    "    angle = 0.0,\n",
    "    magnitude = 1.0,\n",
    "    voltage_limits = (min = 0.9, max = 1.05),\n",
    "    base_voltage = 230.0,\n",
    ");\n",
    "\n",
    "bus4 = ACBus(;\n",
    "    number = 4,\n",
    "    name = \"bus4\",\n",
    "    bustype = ACBusTypes.PV,\n",
    "    angle = 0.0,\n",
    "    magnitude = 1.0,\n",
    "    voltage_limits = (min = 0.9, max = 1.05),\n",
    "    base_voltage = 230.0,\n",
    ");\n",
    "\n",
    "line21 = Line(;\n",
    "    name = \"line21\",\n",
    "    available = true,\n",
    "    active_power_flow = 0.0,\n",
    "    reactive_power_flow = 0.0,\n",
    "    arc = Arc(; from = bus2, to = bus1),\n",
    "    r = 0.00281, # Per-unit\n",
    "    x = 0.0281, # Per-unit\n",
    "    b = (from = 0.00356, to = 0.00356), # Per-unit\n",
    "    rating = 3.5, # Line rating of 350 MVA / System base of 100 MVA\n",
    "    angle_limits = (min = -0.7, max = 0.7),\n",
    ");\n",
    "\n",
    "line31 = Line(;\n",
    "    name = \"line31\",\n",
    "    available = true,\n",
    "    active_power_flow = 0.0,\n",
    "    reactive_power_flow = 0.0,\n",
    "    arc = Arc(; from = bus3, to = bus1),\n",
    "    r = 0.00281, # Resistance, Per-unit\n",
    "    x = 0.0281, # Reactance, Per-unit\n",
    "    b = (from = 0.00356, to = 0.00356), # Shunt susceptance, Per-unit\n",
    "    rating = 2.0, # Line rating of 200 MVA / System base of 100 MVA\n",
    "    angle_limits = (min = -0.7, max = 0.7),\n",
    ");\n",
    "\n",
    "line41 = Line(;\n",
    "    name = \"line41\",\n",
    "    available = true,\n",
    "    active_power_flow = 0.0,\n",
    "    reactive_power_flow = 0.0,\n",
    "    arc = Arc(; from = bus4, to = bus1),\n",
    "    r = 0.00281, # Resistance, Per-unit\n",
    "    x = 0.0281, # Reactance, Per-unit\n",
    "    b = (from = 0.00356, to = 0.00356), # Shunt susceptance, Per-unit\n",
    "    rating = 2.0, # Line rating of 200 MVA / System base of 100 MVA\n",
    "    angle_limits = (min = -0.7, max = 0.7),\n",
    ");\n",
    "\n",
    "load =  PowerLoad(;\n",
    "    name = \"bus1\",\n",
    "    available = true,\n",
    "    bus = bus1,\n",
    "    active_power = 0.0, # Per-unitized by device base_power\n",
    "    reactive_power = 0.0, # Per-unitized by device base_power\n",
    "    base_power = 110.0, # MVA\n",
    "    max_active_power = 1.0, # 10 MW per-unitized by device base_power\n",
    "    max_reactive_power = 0.0,\n",
    ");\n",
    "\n",
    "# https://nrel-sienna.github.io/PowerSystems.jl/stable/model_library/generated_RenewableDispatch/#RenewableDispatch\n",
    "solar = RenewableDispatch(;\n",
    "    name = \"SolarBusA\",\n",
    "    available = true,\n",
    "    bus = bus2,\n",
    "    active_power = 0.0, # Per-unitized by device base_power\n",
    "    reactive_power = 0.0, # Per-unitized by device base_power\n",
    "    rating = 1.0, # 5 MW per-unitized by device base_power\n",
    "    prime_mover_type = PrimeMovers.PVe,\n",
    "    reactive_power_limits = (min = 0.0, max = 0.0), # per-unitized by device base_power\n",
    "    power_factor = 1.0,\n",
    "    operation_cost = RenewableGenerationCost(CostCurve(LinearCurve(0.0075))),\n",
    "    # https://nrel-sienna.github.io/PowerSystems.jl/stable/model_library/renewable_generation_cost/#RenewableGenerationCost\n",
    "    # https://nrel-sienna.github.io/PowerSystems.jl/stable/api/public/#InfrastructureSystems.CostCurve\n",
    "    # https://nrel-sienna.github.io/PowerSystems.jl/stable/api/public/#InfrastructureSystems.LinearCurve\n",
    "    base_power = 330, # MVA\n",
    ");\n",
    "\n",
    "wind = RenewableDispatch(;\n",
    "    name = \"WindBusA\",\n",
    "    available = true,\n",
    "    bus = bus3,\n",
    "    active_power = 0.0,\n",
    "    reactive_power = 0.0,\n",
    "    rating = 1.0,\n",
    "    prime_mover_type = PrimeMovers.WT,\n",
    "    reactive_power_limits = (min = 0.0, max = 0.0),\n",
    "    power_factor = 1.0,\n",
    "    operation_cost = RenewableGenerationCost(CostCurve(LinearCurve(0.0075))),\n",
    "    base_power = 60.0 # MVA\n",
    "    )\n",
    "\n",
    "# https://github.com/NREL-Sienna/PowerSystems.jl/blob/ec2c55991de76d25deb0c9ac23d85e44979d9694/src/models/generated/HydroEnergyReservoir.jl\n",
    "hydro = HydroPumpedStorage(;\n",
    "    name = \"hydro\",\n",
    "    available = true,\n",
    "    bus = bus4,\n",
    "    active_power = 0.0,\n",
    "    reactive_power = 0.0,\n",
    "    active_power_limits = (min=0.0, max=42), # MW from 2 28,000 HP pumps https://www.sdcwa.org/wp-content/uploads/2020/11/lake_hodges_fs.pdf?q=/sites/default/files/files/publications/lakehodges-fs.pdf&\n",
    "    rating = 1.0,\n",
    "    prime_mover_type = PrimeMovers.PS,\n",
    "    reactive_power_limits = nothing,\n",
    "    rating_pump = 42, # MVA\n",
    "    active_power_limits_pump = (min=0.0, max=42),\n",
    "    reactive_power_limits_pump = nothing,\n",
    "    ramp_limits_pump = nothing,\n",
    "    time_limits_pump = nothing,\n",
    "    inflow = 0,\n",
    "    outflow = 0,\n",
    "    initial_storage = (up=37314003, down=0),\n",
    "    ramp_limits=nothing,\n",
    "    time_limits=nothing,\n",
    "    operation_cost = HydroGenerationCost(nothing),\n",
    "    base_power = 60.0, # MVA\n",
    "    storage_capacity = (up=37314003, down=37314003) # m^3, from https://www.sandiego.gov/reservoirs-lakes/hodges-reservoir\n",
    "    )\n",
    "\n",
    "add_components!(sys, [bus1, bus2, bus3, bus4, line21, line31, line41, load, solar, wind, hydro])"
   ]
  },
  {
   "cell_type": "code",
   "execution_count": 32,
   "metadata": {},
   "outputs": [
    {
     "data": {
      "text/html": [
       "<table>\n",
       "  <caption style = \"text-align: left;\">System</caption>\n",
       "  <thead>\n",
       "    <tr class = \"header headerLastRow\">\n",
       "      <th style = \"text-align: left;\">Property</th>\n",
       "      <th style = \"text-align: left;\">Value</th>\n",
       "    </tr>\n",
       "  </thead>\n",
       "  <tbody>\n",
       "    <tr>\n",
       "      <td style = \"text-align: left;\">Name</td>\n",
       "      <td style = \"text-align: left;\"></td>\n",
       "    </tr>\n",
       "    <tr>\n",
       "      <td style = \"text-align: left;\">Description</td>\n",
       "      <td style = \"text-align: left;\"></td>\n",
       "    </tr>\n",
       "    <tr>\n",
       "      <td style = \"text-align: left;\">System Units Base</td>\n",
       "      <td style = \"text-align: left;\">SYSTEM_BASE</td>\n",
       "    </tr>\n",
       "    <tr>\n",
       "      <td style = \"text-align: left;\">Base Power</td>\n",
       "      <td style = \"text-align: left;\">100.0</td>\n",
       "    </tr>\n",
       "    <tr>\n",
       "      <td style = \"text-align: left;\">Base Frequency</td>\n",
       "      <td style = \"text-align: left;\">60.0</td>\n",
       "    </tr>\n",
       "    <tr>\n",
       "      <td style = \"text-align: left;\">Num Components</td>\n",
       "      <td style = \"text-align: left;\">14</td>\n",
       "    </tr>\n",
       "  </tbody>\n",
       "</table>\n",
       "\n",
       "<table>\n",
       "  <caption style = \"text-align: left;\">Static Components</caption>\n",
       "  <thead>\n",
       "    <tr class = \"header headerLastRow\">\n",
       "      <th style = \"text-align: left;\">Type</th>\n",
       "      <th style = \"text-align: left;\">Count</th>\n",
       "    </tr>\n",
       "  </thead>\n",
       "  <tbody>\n",
       "    <tr>\n",
       "      <td style = \"text-align: left;\">ACBus</td>\n",
       "      <td style = \"text-align: left;\">4</td>\n",
       "    </tr>\n",
       "    <tr>\n",
       "      <td style = \"text-align: left;\">Arc</td>\n",
       "      <td style = \"text-align: left;\">3</td>\n",
       "    </tr>\n",
       "    <tr>\n",
       "      <td style = \"text-align: left;\">HydroPumpedStorage</td>\n",
       "      <td style = \"text-align: left;\">1</td>\n",
       "    </tr>\n",
       "    <tr>\n",
       "      <td style = \"text-align: left;\">Line</td>\n",
       "      <td style = \"text-align: left;\">3</td>\n",
       "    </tr>\n",
       "    <tr>\n",
       "      <td style = \"text-align: left;\">PowerLoad</td>\n",
       "      <td style = \"text-align: left;\">1</td>\n",
       "    </tr>\n",
       "    <tr>\n",
       "      <td style = \"text-align: left;\">RenewableDispatch</td>\n",
       "      <td style = \"text-align: left;\">2</td>\n",
       "    </tr>\n",
       "  </tbody>\n",
       "</table>\n",
       "\n"
      ],
      "text/plain": [
       "\u001b[1mSystem\u001b[0m\n",
       "┌───────────────────┬─────────────┐\n",
       "│\u001b[1m Property          \u001b[0m│\u001b[1m Value       \u001b[0m│\n",
       "├───────────────────┼─────────────┤\n",
       "│ Name              │             │\n",
       "│ Description       │             │\n",
       "│ System Units Base │ SYSTEM_BASE │\n",
       "│ Base Power        │ 100.0       │\n",
       "│ Base Frequency    │ 60.0        │\n",
       "│ Num Components    │ 14          │\n",
       "└───────────────────┴─────────────┘\n",
       "\n",
       "\u001b[1mStatic Components\u001b[0m\n",
       "┌────────────────────┬───────┐\n",
       "│\u001b[1m Type               \u001b[0m│\u001b[1m Count \u001b[0m│\n",
       "├────────────────────┼───────┤\n",
       "│ ACBus              │ 4     │\n",
       "│ Arc                │ 3     │\n",
       "│ HydroPumpedStorage │ 1     │\n",
       "│ Line               │ 3     │\n",
       "│ PowerLoad          │ 1     │\n",
       "│ RenewableDispatch  │ 2     │\n",
       "└────────────────────┴───────┘\n",
       "\n"
      ]
     },
     "metadata": {},
     "output_type": "display_data"
    }
   ],
   "source": [
    "sys"
   ]
  },
  {
   "cell_type": "code",
   "execution_count": 26,
   "metadata": {},
   "outputs": [
    {
     "data": {
      "text/plain": [
       "PowerLoad: bus1:\n",
       "   name: bus1\n",
       "   available: true\n",
       "   bus: ACBus: bus1\n",
       "   active_power: 0.0\n",
       "   reactive_power: 0.0\n",
       "   base_power: 110.0\n",
       "   max_active_power: 1.1\n",
       "   max_reactive_power: 0.0\n",
       "   services: 0-element Vector{Service}\n",
       "   dynamic_injector: nothing\n",
       "   ext: Dict{String, Any}()\n",
       "   InfrastructureSystems.SystemUnitsSettings:\n",
       "      base_value: 100.0\n",
       "      unit_system: UnitSystem.SYSTEM_BASE = 0\n",
       "   has_supplemental_attributes: false\n",
       "   has_time_series: false"
      ]
     },
     "metadata": {},
     "output_type": "display_data"
    }
   ],
   "source": [
    "get_component(PowerSystems.ElectricLoad, sys, \"bus1\")"
   ]
  },
  {
   "cell_type": "code",
   "execution_count": 27,
   "metadata": {},
   "outputs": [
    {
     "data": {
      "text/plain": [
       "RenewableDispatch: SolarBusA:\n",
       "   name: SolarBusA\n",
       "   available: true\n",
       "   bus: ACBus: bus2\n",
       "   active_power: 0.0\n",
       "   reactive_power: 0.0\n",
       "   rating: 3.3\n",
       "   prime_mover_type: PrimeMovers.PVe = 21\n",
       "   reactive_power_limits: (min = 0.0, max = 0.0)\n",
       "   power_factor: 1.0\n",
       "   operation_cost: RenewableGenerationCost composed of variable: CostCurve{LinearCurve}, curtailment_cost: CostCurve{LinearCurve}\n",
       "   base_power: 330.0\n",
       "   services: 0-element Vector{Service}\n",
       "   dynamic_injector: nothing\n",
       "   ext: Dict{String, Any}()\n",
       "   InfrastructureSystems.SystemUnitsSettings:\n",
       "      base_value: 100.0\n",
       "      unit_system: UnitSystem.SYSTEM_BASE = 0\n",
       "   has_supplemental_attributes: false\n",
       "   has_time_series: false"
      ]
     },
     "metadata": {},
     "output_type": "display_data"
    }
   ],
   "source": [
    "get_component(PowerSystems.RenewableDispatch, sys, \"SolarBusA\")"
   ]
  },
  {
   "cell_type": "code",
   "execution_count": 28,
   "metadata": {},
   "outputs": [
    {
     "data": {
      "text/plain": [
       "RenewableDispatch: WindBusA:\n",
       "   name: WindBusA\n",
       "   available: true\n",
       "   bus: ACBus: bus3\n",
       "   active_power: 0.0\n",
       "   reactive_power: 0.0\n",
       "   rating: 0.6\n",
       "   prime_mover_type: PrimeMovers.WT = 22\n",
       "   reactive_power_limits: (min = 0.0, max = 0.0)\n",
       "   power_factor: 1.0\n",
       "   operation_cost: RenewableGenerationCost composed of variable: CostCurve{LinearCurve}, curtailment_cost: CostCurve{LinearCurve}\n",
       "   base_power: 60.0\n",
       "   services: 0-element Vector{Service}\n",
       "   dynamic_injector: nothing\n",
       "   ext: Dict{String, Any}()\n",
       "   InfrastructureSystems.SystemUnitsSettings:\n",
       "      base_value: 100.0\n",
       "      unit_system: UnitSystem.SYSTEM_BASE = 0\n",
       "   has_supplemental_attributes: false\n",
       "   has_time_series: false"
      ]
     },
     "metadata": {},
     "output_type": "display_data"
    }
   ],
   "source": [
    "get_component(PowerSystems.Generator, sys, \"WindBusA\")"
   ]
  },
  {
   "cell_type": "code",
   "execution_count": 33,
   "metadata": {},
   "outputs": [
    {
     "data": {
      "text/plain": [
       "HydroPumpedStorage: hydro:\n",
       "   name: hydro\n",
       "   available: true\n",
       "   bus: ACBus: bus4\n",
       "   active_power: 0.0\n",
       "   reactive_power: 0.0\n",
       "   rating: 0.6\n",
       "   base_power: 60.0\n",
       "   prime_mover_type: PrimeMovers.PS = 18\n",
       "   active_power_limits: (min = 0.0, max = 25.2)\n",
       "   reactive_power_limits: nothing\n",
       "   ramp_limits: nothing\n",
       "   time_limits: nothing\n",
       "   rating_pump: 25.2\n",
       "   active_power_limits_pump: (min = 0.0, max = 25.2)\n",
       "   reactive_power_limits_pump: nothing\n",
       "   ramp_limits_pump: nothing\n",
       "   time_limits_pump: nothing\n",
       "   storage_capacity: (up = 2.23884018e7, down = 2.23884018e7)\n",
       "   inflow: 0.0\n",
       "   outflow: 0.0\n",
       "   initial_storage: (up = 2.23884018e7, down = 0.0)\n",
       "   storage_target: (up = 1.0, down = 1.0)\n",
       "   operation_cost: HydroGenerationCost composed of variable: CostCurve{LinearCurve}\n",
       "   pump_efficiency: 1.0\n",
       "   conversion_factor: 1.0\n",
       "   status: PowerSystems.PumpHydroStatusModule.PumpHydroStatus.OFF = 0\n",
       "   time_at_status: 10000.0\n",
       "   services: 0-element Vector{Service}\n",
       "   dynamic_injector: nothing\n",
       "   ext: Dict{String, Any}()\n",
       "   InfrastructureSystems.SystemUnitsSettings:\n",
       "      base_value: 100.0\n",
       "      unit_system: UnitSystem.SYSTEM_BASE = 0\n",
       "   has_supplemental_attributes: false\n",
       "   has_time_series: false"
      ]
     },
     "metadata": {},
     "output_type": "display_data"
    }
   ],
   "source": [
    "get_component(PowerSystems.HydroPumpedStorage, sys, \"hydro\")"
   ]
  },
  {
   "cell_type": "markdown",
   "metadata": {},
   "source": [
    "https://nrel-sienna.github.io/PowerSystems.jl/stable/how_to/parse_ts_from_csvs/"
   ]
  },
  {
   "cell_type": "code",
   "execution_count": null,
   "metadata": {},
   "outputs": [],
   "source": [
    "fname = joinpath(homedir(), \"ecen5407\", \"ecen5407_project2\", \"data\", \"Sienna_Inputs\", \"sienna_pointers.json\");\n",
    "add_time_series!(sys, fname)"
   ]
  },
  {
   "cell_type": "code",
   "execution_count": null,
   "metadata": {},
   "outputs": [],
   "source": [
    "transform_single_time_series!(\n",
    "    sys,\n",
    "    Dates.Hour(24), # horizon\n",
    "    Dates.Hour(1), # interval\n",
    ");"
   ]
  },
  {
   "cell_type": "code",
   "execution_count": null,
   "metadata": {},
   "outputs": [],
   "source": [
    "sys"
   ]
  },
  {
   "cell_type": "code",
   "execution_count": null,
   "metadata": {},
   "outputs": [],
   "source": [
    "solver = optimizer_with_attributes(HiGHS.Optimizer, \"mip_rel_gap\" => 0.5);\n",
    "template_uc = template_unit_commitment();\n",
    "problem = DecisionModel(template_uc, sys; optimizer = solver, name = \"UC\", horizon = Hour(1))\n",
    "build!(problem, output_dir = mktempdir())"
   ]
  },
  {
   "cell_type": "code",
   "execution_count": null,
   "metadata": {},
   "outputs": [],
   "source": [
    "solve!(problem)"
   ]
  },
  {
   "cell_type": "code",
   "execution_count": null,
   "metadata": {},
   "outputs": [],
   "source": [
    "res = OptimizationProblemResults(problem)"
   ]
  },
  {
   "cell_type": "code",
   "execution_count": null,
   "metadata": {},
   "outputs": [],
   "source": [
    "renewable_param = read_parameter(res, \"ActivePowerTimeSeriesParameter__RenewableDispatch\")"
   ]
  }
 ],
 "metadata": {
  "kernelspec": {
   "display_name": "Julia 1.11.1",
   "language": "julia",
   "name": "julia-1.11"
  },
  "language_info": {
   "file_extension": ".jl",
   "mimetype": "application/julia",
   "name": "julia",
   "version": "1.11.1"
  }
 },
 "nbformat": 4,
 "nbformat_minor": 2
}
