{
 "cells": [
  {
   "cell_type": "code",
   "execution_count": 1,
   "metadata": {},
   "outputs": [],
   "source": [
    "import numpy as np\n",
    "import pandas as pd\n",
    "\n",
    "import os\n",
    "\n",
    "import pathlib\n",
    "import datetime"
   ]
  },
  {
   "cell_type": "code",
   "execution_count": 2,
   "metadata": {},
   "outputs": [],
   "source": [
    "base_dir = os.path.join(pathlib.Path.home(), 'ecen5407', 'ecen5407_project2')\n",
    "pysam_pt = os.path.join(base_dir, \"data\", \"PySam_Outputs\", \"baseline_system_output.csv\")\n",
    "# load_pt = os.path.join(base_dir, \"data\", \"Project 2 - Load Profile_modified_index2.csv\")"
   ]
  },
  {
   "cell_type": "code",
   "execution_count": 4,
   "metadata": {},
   "outputs": [],
   "source": [
    "pysam = pd.read_csv(pysam_pt)"
   ]
  },
  {
   "cell_type": "code",
   "execution_count": 5,
   "metadata": {},
   "outputs": [
    {
     "data": {
      "text/html": [
       "<div>\n",
       "<style scoped>\n",
       "    .dataframe tbody tr th:only-of-type {\n",
       "        vertical-align: middle;\n",
       "    }\n",
       "\n",
       "    .dataframe tbody tr th {\n",
       "        vertical-align: top;\n",
       "    }\n",
       "\n",
       "    .dataframe thead th {\n",
       "        text-align: right;\n",
       "    }\n",
       "</style>\n",
       "<table border=\"1\" class=\"dataframe\">\n",
       "  <thead>\n",
       "    <tr style=\"text-align: right;\">\n",
       "      <th></th>\n",
       "      <th>Unnamed: 0</th>\n",
       "      <th>Datetime</th>\n",
       "      <th>PV DC Gross (kW)</th>\n",
       "      <th>PV Generation (kW)</th>\n",
       "      <th>Wind Generation (kW)</th>\n",
       "      <th>System Power (kW)</th>\n",
       "      <th>Load (MW)</th>\n",
       "      <th>Load (kW)</th>\n",
       "      <th>Power Available for Battery (kW)</th>\n",
       "      <th>Battery Power Target (kW)</th>\n",
       "    </tr>\n",
       "  </thead>\n",
       "  <tbody>\n",
       "    <tr>\n",
       "      <th>0</th>\n",
       "      <td>0</td>\n",
       "      <td>2012-01-01 00:00:00</td>\n",
       "      <td>0.0</td>\n",
       "      <td>-6.279372</td>\n",
       "      <td>0.0</td>\n",
       "      <td>0.0</td>\n",
       "      <td>37.543492</td>\n",
       "      <td>37543.491717</td>\n",
       "      <td>-37543.491717</td>\n",
       "      <td>37543.491717</td>\n",
       "    </tr>\n",
       "    <tr>\n",
       "      <th>1</th>\n",
       "      <td>1</td>\n",
       "      <td>2012-01-01 00:05:00</td>\n",
       "      <td>0.0</td>\n",
       "      <td>-6.279372</td>\n",
       "      <td>0.0</td>\n",
       "      <td>0.0</td>\n",
       "      <td>37.367223</td>\n",
       "      <td>37367.222917</td>\n",
       "      <td>-37367.222917</td>\n",
       "      <td>37367.222917</td>\n",
       "    </tr>\n",
       "    <tr>\n",
       "      <th>2</th>\n",
       "      <td>2</td>\n",
       "      <td>2012-01-01 00:10:00</td>\n",
       "      <td>0.0</td>\n",
       "      <td>-6.279372</td>\n",
       "      <td>0.0</td>\n",
       "      <td>0.0</td>\n",
       "      <td>37.269834</td>\n",
       "      <td>37269.834400</td>\n",
       "      <td>-37269.834400</td>\n",
       "      <td>37269.834400</td>\n",
       "    </tr>\n",
       "    <tr>\n",
       "      <th>3</th>\n",
       "      <td>3</td>\n",
       "      <td>2012-01-01 00:15:00</td>\n",
       "      <td>0.0</td>\n",
       "      <td>-6.279372</td>\n",
       "      <td>0.0</td>\n",
       "      <td>0.0</td>\n",
       "      <td>37.098413</td>\n",
       "      <td>37098.412983</td>\n",
       "      <td>-37098.412983</td>\n",
       "      <td>37098.412983</td>\n",
       "    </tr>\n",
       "    <tr>\n",
       "      <th>4</th>\n",
       "      <td>4</td>\n",
       "      <td>2012-01-01 00:20:00</td>\n",
       "      <td>0.0</td>\n",
       "      <td>-6.279372</td>\n",
       "      <td>0.0</td>\n",
       "      <td>0.0</td>\n",
       "      <td>37.016007</td>\n",
       "      <td>37016.007333</td>\n",
       "      <td>-37016.007333</td>\n",
       "      <td>37016.007333</td>\n",
       "    </tr>\n",
       "    <tr>\n",
       "      <th>...</th>\n",
       "      <td>...</td>\n",
       "      <td>...</td>\n",
       "      <td>...</td>\n",
       "      <td>...</td>\n",
       "      <td>...</td>\n",
       "      <td>...</td>\n",
       "      <td>...</td>\n",
       "      <td>...</td>\n",
       "      <td>...</td>\n",
       "      <td>...</td>\n",
       "    </tr>\n",
       "    <tr>\n",
       "      <th>105115</th>\n",
       "      <td>105115</td>\n",
       "      <td>2012-12-31 23:35:00</td>\n",
       "      <td>0.0</td>\n",
       "      <td>-6.279372</td>\n",
       "      <td>0.0</td>\n",
       "      <td>0.0</td>\n",
       "      <td>41.933907</td>\n",
       "      <td>41933.906850</td>\n",
       "      <td>-41933.906850</td>\n",
       "      <td>41933.906850</td>\n",
       "    </tr>\n",
       "    <tr>\n",
       "      <th>105116</th>\n",
       "      <td>105116</td>\n",
       "      <td>2012-12-31 23:40:00</td>\n",
       "      <td>0.0</td>\n",
       "      <td>-6.279372</td>\n",
       "      <td>0.0</td>\n",
       "      <td>0.0</td>\n",
       "      <td>41.725028</td>\n",
       "      <td>41725.028317</td>\n",
       "      <td>-41725.028317</td>\n",
       "      <td>41725.028317</td>\n",
       "    </tr>\n",
       "    <tr>\n",
       "      <th>105117</th>\n",
       "      <td>105117</td>\n",
       "      <td>2012-12-31 23:45:00</td>\n",
       "      <td>0.0</td>\n",
       "      <td>-6.279372</td>\n",
       "      <td>0.0</td>\n",
       "      <td>0.0</td>\n",
       "      <td>41.518353</td>\n",
       "      <td>41518.353150</td>\n",
       "      <td>-41518.353150</td>\n",
       "      <td>41518.353150</td>\n",
       "    </tr>\n",
       "    <tr>\n",
       "      <th>105118</th>\n",
       "      <td>105118</td>\n",
       "      <td>2012-12-31 23:50:00</td>\n",
       "      <td>0.0</td>\n",
       "      <td>-6.279372</td>\n",
       "      <td>0.0</td>\n",
       "      <td>0.0</td>\n",
       "      <td>41.294051</td>\n",
       "      <td>41294.051100</td>\n",
       "      <td>-41294.051100</td>\n",
       "      <td>41294.051100</td>\n",
       "    </tr>\n",
       "    <tr>\n",
       "      <th>105119</th>\n",
       "      <td>105119</td>\n",
       "      <td>2012-12-31 23:55:00</td>\n",
       "      <td>0.0</td>\n",
       "      <td>-6.279372</td>\n",
       "      <td>0.0</td>\n",
       "      <td>0.0</td>\n",
       "      <td>41.064467</td>\n",
       "      <td>41064.466667</td>\n",
       "      <td>-41064.466667</td>\n",
       "      <td>41064.466667</td>\n",
       "    </tr>\n",
       "  </tbody>\n",
       "</table>\n",
       "<p>105120 rows × 10 columns</p>\n",
       "</div>"
      ],
      "text/plain": [
       "        Unnamed: 0             Datetime  PV DC Gross (kW)  PV Generation (kW)  \\\n",
       "0                0  2012-01-01 00:00:00               0.0           -6.279372   \n",
       "1                1  2012-01-01 00:05:00               0.0           -6.279372   \n",
       "2                2  2012-01-01 00:10:00               0.0           -6.279372   \n",
       "3                3  2012-01-01 00:15:00               0.0           -6.279372   \n",
       "4                4  2012-01-01 00:20:00               0.0           -6.279372   \n",
       "...            ...                  ...               ...                 ...   \n",
       "105115      105115  2012-12-31 23:35:00               0.0           -6.279372   \n",
       "105116      105116  2012-12-31 23:40:00               0.0           -6.279372   \n",
       "105117      105117  2012-12-31 23:45:00               0.0           -6.279372   \n",
       "105118      105118  2012-12-31 23:50:00               0.0           -6.279372   \n",
       "105119      105119  2012-12-31 23:55:00               0.0           -6.279372   \n",
       "\n",
       "        Wind Generation (kW)  System Power (kW)  Load (MW)     Load (kW)  \\\n",
       "0                        0.0                0.0  37.543492  37543.491717   \n",
       "1                        0.0                0.0  37.367223  37367.222917   \n",
       "2                        0.0                0.0  37.269834  37269.834400   \n",
       "3                        0.0                0.0  37.098413  37098.412983   \n",
       "4                        0.0                0.0  37.016007  37016.007333   \n",
       "...                      ...                ...        ...           ...   \n",
       "105115                   0.0                0.0  41.933907  41933.906850   \n",
       "105116                   0.0                0.0  41.725028  41725.028317   \n",
       "105117                   0.0                0.0  41.518353  41518.353150   \n",
       "105118                   0.0                0.0  41.294051  41294.051100   \n",
       "105119                   0.0                0.0  41.064467  41064.466667   \n",
       "\n",
       "        Power Available for Battery (kW)  Battery Power Target (kW)  \n",
       "0                          -37543.491717               37543.491717  \n",
       "1                          -37367.222917               37367.222917  \n",
       "2                          -37269.834400               37269.834400  \n",
       "3                          -37098.412983               37098.412983  \n",
       "4                          -37016.007333               37016.007333  \n",
       "...                                  ...                        ...  \n",
       "105115                     -41933.906850               41933.906850  \n",
       "105116                     -41725.028317               41725.028317  \n",
       "105117                     -41518.353150               41518.353150  \n",
       "105118                     -41294.051100               41294.051100  \n",
       "105119                     -41064.466667               41064.466667  \n",
       "\n",
       "[105120 rows x 10 columns]"
      ]
     },
     "execution_count": 5,
     "metadata": {},
     "output_type": "execute_result"
    }
   ],
   "source": [
    "pysam"
   ]
  },
  {
   "cell_type": "code",
   "execution_count": 17,
   "metadata": {},
   "outputs": [
    {
     "data": {
      "text/plain": [
       "0         0.341304\n",
       "1         0.339702\n",
       "2         0.338817\n",
       "3         0.337258\n",
       "4         0.336509\n",
       "            ...   \n",
       "105115    0.381217\n",
       "105116    0.379318\n",
       "105117    0.377440\n",
       "105118    0.375400\n",
       "105119    0.373313\n",
       "Name: load, Length: 105120, dtype: float64"
      ]
     },
     "execution_count": 17,
     "metadata": {},
     "output_type": "execute_result"
    }
   ],
   "source": [
    "load = pd.Series(pysam['Load (MW)']/110)\n",
    "load.name = \"load\"\n",
    "load"
   ]
  },
  {
   "cell_type": "code",
   "execution_count": 16,
   "metadata": {},
   "outputs": [
    {
     "data": {
      "text/plain": [
       "count    105120.000000\n",
       "mean         46.543769\n",
       "std          11.638152\n",
       "min          28.709340\n",
       "25%          38.485648\n",
       "50%          44.842122\n",
       "75%          50.224269\n",
       "max         106.106767\n",
       "Name: load, dtype: float64"
      ]
     },
     "execution_count": 16,
     "metadata": {},
     "output_type": "execute_result"
    }
   ],
   "source": [
    "load.describe()"
   ]
  },
  {
   "cell_type": "code",
   "execution_count": 18,
   "metadata": {},
   "outputs": [],
   "source": [
    "\n",
    "save_pt = os.path.join(base_dir, \"data\", \"Sienna_Inputs\", \"load.csv\")\n",
    "load.to_csv(save_pt, index=False)"
   ]
  },
  {
   "cell_type": "code",
   "execution_count": 6,
   "metadata": {},
   "outputs": [],
   "source": [
    "pv = pd.Series(pysam['PV Generation (kW)']/1000)"
   ]
  },
  {
   "cell_type": "code",
   "execution_count": 7,
   "metadata": {},
   "outputs": [],
   "source": [
    "pv.name = 'solar'"
   ]
  },
  {
   "cell_type": "code",
   "execution_count": 8,
   "metadata": {},
   "outputs": [],
   "source": [
    "save_pt = os.path.join(base_dir, \"data\", \"Sienna_Inputs\", \"pv.csv\")\n",
    "pv.to_csv(save_pt, index=False)"
   ]
  },
  {
   "cell_type": "code",
   "execution_count": 9,
   "metadata": {},
   "outputs": [],
   "source": [
    "wind = pd.Series(pysam[\"Wind Generation (kW)\"].values/1000)"
   ]
  },
  {
   "cell_type": "code",
   "execution_count": 10,
   "metadata": {},
   "outputs": [],
   "source": [
    "wind.name = 'wind'"
   ]
  },
  {
   "cell_type": "code",
   "execution_count": 11,
   "metadata": {},
   "outputs": [],
   "source": [
    "save_pt = os.path.join(base_dir, \"data\", \"Sienna_Inputs\", \"wind.csv\")\n",
    "wind.to_csv(save_pt, index=False)"
   ]
  },
  {
   "cell_type": "code",
   "execution_count": null,
   "metadata": {},
   "outputs": [],
   "source": []
  }
 ],
 "metadata": {
  "kernelspec": {
   "display_name": "ecen5417",
   "language": "python",
   "name": "python3"
  },
  "language_info": {
   "codemirror_mode": {
    "name": "ipython",
    "version": 3
   },
   "file_extension": ".py",
   "mimetype": "text/x-python",
   "name": "python",
   "nbconvert_exporter": "python",
   "pygments_lexer": "ipython3",
   "version": "3.10.12"
  }
 },
 "nbformat": 4,
 "nbformat_minor": 2
}
